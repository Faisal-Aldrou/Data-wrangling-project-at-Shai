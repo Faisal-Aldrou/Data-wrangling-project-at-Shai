{
 "cells": [
  {
   "cell_type": "markdown",
   "id": "02d63666",
   "metadata": {},
   "source": [
    "## Importing libraries"
   ]
  },
  {
   "cell_type": "code",
   "execution_count": 1,
   "id": "f1acd6f1",
   "metadata": {},
   "outputs": [],
   "source": [
    "import pandas as pd\n",
    "import numpy as np"
   ]
  },
  {
   "cell_type": "markdown",
   "id": "63771857",
   "metadata": {},
   "source": [
    "## Loading the dataframe"
   ]
  },
  {
   "cell_type": "code",
   "execution_count": 2,
   "id": "f03156db",
   "metadata": {},
   "outputs": [
    {
     "name": "stderr",
     "output_type": "stream",
     "text": [
      "C:\\Users\\JCC\\AppData\\Local\\Temp\\ipykernel_21036\\4006182446.py:1: DtypeWarning: Columns (3) have mixed types. Specify dtype option on import or set low_memory=False.\n",
      "  df = pd.read_csv('motor.csv')\n"
     ]
    }
   ],
   "source": [
    "df = pd.read_csv('motor.csv')"
   ]
  },
  {
   "cell_type": "markdown",
   "id": "68901afa",
   "metadata": {},
   "source": [
    "## Inspecting the data"
   ]
  },
  {
   "cell_type": "code",
   "execution_count": 3,
   "id": "c6401b82",
   "metadata": {},
   "outputs": [
    {
     "data": {
      "application/vnd.microsoft.datawrangler.viewer.v0+json": {
       "columns": [
        {
         "name": "index",
         "rawType": "int64",
         "type": "integer"
        },
        {
         "name": "CRASH DATE",
         "rawType": "object",
         "type": "string"
        },
        {
         "name": "CRASH TIME",
         "rawType": "object",
         "type": "string"
        },
        {
         "name": "BOROUGH",
         "rawType": "object",
         "type": "unknown"
        },
        {
         "name": "ZIP CODE",
         "rawType": "object",
         "type": "unknown"
        },
        {
         "name": "LATITUDE",
         "rawType": "float64",
         "type": "float"
        },
        {
         "name": "LONGITUDE",
         "rawType": "float64",
         "type": "float"
        },
        {
         "name": "LOCATION",
         "rawType": "object",
         "type": "unknown"
        },
        {
         "name": "ON STREET NAME",
         "rawType": "object",
         "type": "string"
        },
        {
         "name": "CROSS STREET NAME",
         "rawType": "object",
         "type": "unknown"
        },
        {
         "name": "OFF STREET NAME",
         "rawType": "object",
         "type": "unknown"
        },
        {
         "name": "NUMBER OF PERSONS INJURED",
         "rawType": "float64",
         "type": "float"
        },
        {
         "name": "NUMBER OF PERSONS KILLED",
         "rawType": "float64",
         "type": "float"
        },
        {
         "name": "NUMBER OF PEDESTRIANS INJURED",
         "rawType": "int64",
         "type": "integer"
        },
        {
         "name": "NUMBER OF PEDESTRIANS KILLED",
         "rawType": "int64",
         "type": "integer"
        },
        {
         "name": "NUMBER OF CYCLIST INJURED",
         "rawType": "int64",
         "type": "integer"
        },
        {
         "name": "NUMBER OF CYCLIST KILLED",
         "rawType": "int64",
         "type": "integer"
        },
        {
         "name": "NUMBER OF MOTORIST INJURED",
         "rawType": "int64",
         "type": "integer"
        },
        {
         "name": "NUMBER OF MOTORIST KILLED",
         "rawType": "int64",
         "type": "integer"
        },
        {
         "name": "CONTRIBUTING FACTOR VEHICLE 1",
         "rawType": "object",
         "type": "string"
        },
        {
         "name": "CONTRIBUTING FACTOR VEHICLE 2",
         "rawType": "object",
         "type": "unknown"
        },
        {
         "name": "CONTRIBUTING FACTOR VEHICLE 3",
         "rawType": "object",
         "type": "unknown"
        },
        {
         "name": "CONTRIBUTING FACTOR VEHICLE 4",
         "rawType": "object",
         "type": "unknown"
        },
        {
         "name": "CONTRIBUTING FACTOR VEHICLE 5",
         "rawType": "object",
         "type": "unknown"
        },
        {
         "name": "COLLISION_ID",
         "rawType": "int64",
         "type": "integer"
        },
        {
         "name": "VEHICLE TYPE CODE 1",
         "rawType": "object",
         "type": "string"
        },
        {
         "name": "VEHICLE TYPE CODE 2",
         "rawType": "object",
         "type": "unknown"
        },
        {
         "name": "VEHICLE TYPE CODE 3",
         "rawType": "object",
         "type": "unknown"
        },
        {
         "name": "VEHICLE TYPE CODE 4",
         "rawType": "object",
         "type": "unknown"
        },
        {
         "name": "VEHICLE TYPE CODE 5",
         "rawType": "object",
         "type": "unknown"
        }
       ],
       "ref": "7d468825-e5c6-427b-8298-0d95b9a32205",
       "rows": [
        [
         "0",
         "09/11/2021",
         "2:39",
         null,
         null,
         null,
         null,
         null,
         "WHITESTONE EXPRESSWAY",
         "20 AVENUE",
         null,
         "2.0",
         "0.0",
         "0",
         "0",
         "0",
         "0",
         "2",
         "0",
         "Aggressive Driving/Road Rage",
         "Unspecified",
         null,
         null,
         null,
         "4455765",
         "Sedan",
         "Sedan",
         null,
         null,
         null
        ],
        [
         "1",
         "03/26/2022",
         "11:45",
         null,
         null,
         null,
         null,
         null,
         "QUEENSBORO BRIDGE UPPER",
         null,
         null,
         "1.0",
         "0.0",
         "0",
         "0",
         "0",
         "0",
         "1",
         "0",
         "Pavement Slippery",
         null,
         null,
         null,
         null,
         "4513547",
         "Sedan",
         null,
         null,
         null,
         null
        ],
        [
         "2",
         "11/01/2023",
         "1:29",
         "BROOKLYN",
         "11230.0",
         "40.62179",
         "-73.970024",
         "(40.62179, -73.970024)",
         "OCEAN PARKWAY",
         "AVENUE K",
         null,
         "1.0",
         "0.0",
         "0",
         "0",
         "0",
         "0",
         "1",
         "0",
         "Unspecified",
         "Unspecified",
         "Unspecified",
         null,
         null,
         "4675373",
         "Moped",
         "Sedan",
         "Sedan",
         null,
         null
        ],
        [
         "3",
         "06/29/2022",
         "6:55",
         null,
         null,
         null,
         null,
         null,
         "THROGS NECK BRIDGE",
         null,
         null,
         "0.0",
         "0.0",
         "0",
         "0",
         "0",
         "0",
         "0",
         "0",
         "Following Too Closely",
         "Unspecified",
         null,
         null,
         null,
         "4541903",
         "Sedan",
         "Pick-up Truck",
         null,
         null,
         null
        ],
        [
         "4",
         "09/21/2022",
         "13:21",
         null,
         null,
         null,
         null,
         null,
         "BROOKLYN BRIDGE",
         null,
         null,
         "0.0",
         "0.0",
         "0",
         "0",
         "0",
         "0",
         "0",
         "0",
         "Passing Too Closely",
         "Unspecified",
         null,
         null,
         null,
         "4566131",
         "Station Wagon/Sport Utility Vehicle",
         null,
         null,
         null,
         null
        ]
       ],
       "shape": {
        "columns": 29,
        "rows": 5
       }
      },
      "text/html": [
       "<div>\n",
       "<style scoped>\n",
       "    .dataframe tbody tr th:only-of-type {\n",
       "        vertical-align: middle;\n",
       "    }\n",
       "\n",
       "    .dataframe tbody tr th {\n",
       "        vertical-align: top;\n",
       "    }\n",
       "\n",
       "    .dataframe thead th {\n",
       "        text-align: right;\n",
       "    }\n",
       "</style>\n",
       "<table border=\"1\" class=\"dataframe\">\n",
       "  <thead>\n",
       "    <tr style=\"text-align: right;\">\n",
       "      <th></th>\n",
       "      <th>CRASH DATE</th>\n",
       "      <th>CRASH TIME</th>\n",
       "      <th>BOROUGH</th>\n",
       "      <th>ZIP CODE</th>\n",
       "      <th>LATITUDE</th>\n",
       "      <th>LONGITUDE</th>\n",
       "      <th>LOCATION</th>\n",
       "      <th>ON STREET NAME</th>\n",
       "      <th>CROSS STREET NAME</th>\n",
       "      <th>OFF STREET NAME</th>\n",
       "      <th>...</th>\n",
       "      <th>CONTRIBUTING FACTOR VEHICLE 2</th>\n",
       "      <th>CONTRIBUTING FACTOR VEHICLE 3</th>\n",
       "      <th>CONTRIBUTING FACTOR VEHICLE 4</th>\n",
       "      <th>CONTRIBUTING FACTOR VEHICLE 5</th>\n",
       "      <th>COLLISION_ID</th>\n",
       "      <th>VEHICLE TYPE CODE 1</th>\n",
       "      <th>VEHICLE TYPE CODE 2</th>\n",
       "      <th>VEHICLE TYPE CODE 3</th>\n",
       "      <th>VEHICLE TYPE CODE 4</th>\n",
       "      <th>VEHICLE TYPE CODE 5</th>\n",
       "    </tr>\n",
       "  </thead>\n",
       "  <tbody>\n",
       "    <tr>\n",
       "      <th>0</th>\n",
       "      <td>09/11/2021</td>\n",
       "      <td>2:39</td>\n",
       "      <td>NaN</td>\n",
       "      <td>NaN</td>\n",
       "      <td>NaN</td>\n",
       "      <td>NaN</td>\n",
       "      <td>NaN</td>\n",
       "      <td>WHITESTONE EXPRESSWAY</td>\n",
       "      <td>20 AVENUE</td>\n",
       "      <td>NaN</td>\n",
       "      <td>...</td>\n",
       "      <td>Unspecified</td>\n",
       "      <td>NaN</td>\n",
       "      <td>NaN</td>\n",
       "      <td>NaN</td>\n",
       "      <td>4455765</td>\n",
       "      <td>Sedan</td>\n",
       "      <td>Sedan</td>\n",
       "      <td>NaN</td>\n",
       "      <td>NaN</td>\n",
       "      <td>NaN</td>\n",
       "    </tr>\n",
       "    <tr>\n",
       "      <th>1</th>\n",
       "      <td>03/26/2022</td>\n",
       "      <td>11:45</td>\n",
       "      <td>NaN</td>\n",
       "      <td>NaN</td>\n",
       "      <td>NaN</td>\n",
       "      <td>NaN</td>\n",
       "      <td>NaN</td>\n",
       "      <td>QUEENSBORO BRIDGE UPPER</td>\n",
       "      <td>NaN</td>\n",
       "      <td>NaN</td>\n",
       "      <td>...</td>\n",
       "      <td>NaN</td>\n",
       "      <td>NaN</td>\n",
       "      <td>NaN</td>\n",
       "      <td>NaN</td>\n",
       "      <td>4513547</td>\n",
       "      <td>Sedan</td>\n",
       "      <td>NaN</td>\n",
       "      <td>NaN</td>\n",
       "      <td>NaN</td>\n",
       "      <td>NaN</td>\n",
       "    </tr>\n",
       "    <tr>\n",
       "      <th>2</th>\n",
       "      <td>11/01/2023</td>\n",
       "      <td>1:29</td>\n",
       "      <td>BROOKLYN</td>\n",
       "      <td>11230.0</td>\n",
       "      <td>40.62179</td>\n",
       "      <td>-73.970024</td>\n",
       "      <td>(40.62179, -73.970024)</td>\n",
       "      <td>OCEAN PARKWAY</td>\n",
       "      <td>AVENUE K</td>\n",
       "      <td>NaN</td>\n",
       "      <td>...</td>\n",
       "      <td>Unspecified</td>\n",
       "      <td>Unspecified</td>\n",
       "      <td>NaN</td>\n",
       "      <td>NaN</td>\n",
       "      <td>4675373</td>\n",
       "      <td>Moped</td>\n",
       "      <td>Sedan</td>\n",
       "      <td>Sedan</td>\n",
       "      <td>NaN</td>\n",
       "      <td>NaN</td>\n",
       "    </tr>\n",
       "    <tr>\n",
       "      <th>3</th>\n",
       "      <td>06/29/2022</td>\n",
       "      <td>6:55</td>\n",
       "      <td>NaN</td>\n",
       "      <td>NaN</td>\n",
       "      <td>NaN</td>\n",
       "      <td>NaN</td>\n",
       "      <td>NaN</td>\n",
       "      <td>THROGS NECK BRIDGE</td>\n",
       "      <td>NaN</td>\n",
       "      <td>NaN</td>\n",
       "      <td>...</td>\n",
       "      <td>Unspecified</td>\n",
       "      <td>NaN</td>\n",
       "      <td>NaN</td>\n",
       "      <td>NaN</td>\n",
       "      <td>4541903</td>\n",
       "      <td>Sedan</td>\n",
       "      <td>Pick-up Truck</td>\n",
       "      <td>NaN</td>\n",
       "      <td>NaN</td>\n",
       "      <td>NaN</td>\n",
       "    </tr>\n",
       "    <tr>\n",
       "      <th>4</th>\n",
       "      <td>09/21/2022</td>\n",
       "      <td>13:21</td>\n",
       "      <td>NaN</td>\n",
       "      <td>NaN</td>\n",
       "      <td>NaN</td>\n",
       "      <td>NaN</td>\n",
       "      <td>NaN</td>\n",
       "      <td>BROOKLYN BRIDGE</td>\n",
       "      <td>NaN</td>\n",
       "      <td>NaN</td>\n",
       "      <td>...</td>\n",
       "      <td>Unspecified</td>\n",
       "      <td>NaN</td>\n",
       "      <td>NaN</td>\n",
       "      <td>NaN</td>\n",
       "      <td>4566131</td>\n",
       "      <td>Station Wagon/Sport Utility Vehicle</td>\n",
       "      <td>NaN</td>\n",
       "      <td>NaN</td>\n",
       "      <td>NaN</td>\n",
       "      <td>NaN</td>\n",
       "    </tr>\n",
       "  </tbody>\n",
       "</table>\n",
       "<p>5 rows × 29 columns</p>\n",
       "</div>"
      ],
      "text/plain": [
       "   CRASH DATE CRASH TIME   BOROUGH ZIP CODE  LATITUDE  LONGITUDE  \\\n",
       "0  09/11/2021       2:39       NaN      NaN       NaN        NaN   \n",
       "1  03/26/2022      11:45       NaN      NaN       NaN        NaN   \n",
       "2  11/01/2023       1:29  BROOKLYN  11230.0  40.62179 -73.970024   \n",
       "3  06/29/2022       6:55       NaN      NaN       NaN        NaN   \n",
       "4  09/21/2022      13:21       NaN      NaN       NaN        NaN   \n",
       "\n",
       "                 LOCATION           ON STREET NAME CROSS STREET NAME  \\\n",
       "0                     NaN    WHITESTONE EXPRESSWAY         20 AVENUE   \n",
       "1                     NaN  QUEENSBORO BRIDGE UPPER               NaN   \n",
       "2  (40.62179, -73.970024)            OCEAN PARKWAY          AVENUE K   \n",
       "3                     NaN       THROGS NECK BRIDGE               NaN   \n",
       "4                     NaN          BROOKLYN BRIDGE               NaN   \n",
       "\n",
       "  OFF STREET NAME  ...  CONTRIBUTING FACTOR VEHICLE 2  \\\n",
       "0             NaN  ...                    Unspecified   \n",
       "1             NaN  ...                            NaN   \n",
       "2             NaN  ...                    Unspecified   \n",
       "3             NaN  ...                    Unspecified   \n",
       "4             NaN  ...                    Unspecified   \n",
       "\n",
       "   CONTRIBUTING FACTOR VEHICLE 3  CONTRIBUTING FACTOR VEHICLE 4  \\\n",
       "0                            NaN                            NaN   \n",
       "1                            NaN                            NaN   \n",
       "2                    Unspecified                            NaN   \n",
       "3                            NaN                            NaN   \n",
       "4                            NaN                            NaN   \n",
       "\n",
       "   CONTRIBUTING FACTOR VEHICLE 5  COLLISION_ID  \\\n",
       "0                            NaN       4455765   \n",
       "1                            NaN       4513547   \n",
       "2                            NaN       4675373   \n",
       "3                            NaN       4541903   \n",
       "4                            NaN       4566131   \n",
       "\n",
       "                   VEHICLE TYPE CODE 1  VEHICLE TYPE CODE 2  \\\n",
       "0                                Sedan                Sedan   \n",
       "1                                Sedan                  NaN   \n",
       "2                                Moped                Sedan   \n",
       "3                                Sedan        Pick-up Truck   \n",
       "4  Station Wagon/Sport Utility Vehicle                  NaN   \n",
       "\n",
       "   VEHICLE TYPE CODE 3 VEHICLE TYPE CODE 4 VEHICLE TYPE CODE 5  \n",
       "0                  NaN                 NaN                 NaN  \n",
       "1                  NaN                 NaN                 NaN  \n",
       "2                Sedan                 NaN                 NaN  \n",
       "3                  NaN                 NaN                 NaN  \n",
       "4                  NaN                 NaN                 NaN  \n",
       "\n",
       "[5 rows x 29 columns]"
      ]
     },
     "execution_count": 3,
     "metadata": {},
     "output_type": "execute_result"
    }
   ],
   "source": [
    "df.head()"
   ]
  },
  {
   "cell_type": "code",
   "execution_count": 4,
   "id": "bb03e19f",
   "metadata": {},
   "outputs": [
    {
     "data": {
      "text/plain": [
       "Index(['CRASH DATE', 'CRASH TIME', 'BOROUGH', 'ZIP CODE', 'LATITUDE',\n",
       "       'LONGITUDE', 'LOCATION', 'ON STREET NAME', 'CROSS STREET NAME',\n",
       "       'OFF STREET NAME', 'NUMBER OF PERSONS INJURED',\n",
       "       'NUMBER OF PERSONS KILLED', 'NUMBER OF PEDESTRIANS INJURED',\n",
       "       'NUMBER OF PEDESTRIANS KILLED', 'NUMBER OF CYCLIST INJURED',\n",
       "       'NUMBER OF CYCLIST KILLED', 'NUMBER OF MOTORIST INJURED',\n",
       "       'NUMBER OF MOTORIST KILLED', 'CONTRIBUTING FACTOR VEHICLE 1',\n",
       "       'CONTRIBUTING FACTOR VEHICLE 2', 'CONTRIBUTING FACTOR VEHICLE 3',\n",
       "       'CONTRIBUTING FACTOR VEHICLE 4', 'CONTRIBUTING FACTOR VEHICLE 5',\n",
       "       'COLLISION_ID', 'VEHICLE TYPE CODE 1', 'VEHICLE TYPE CODE 2',\n",
       "       'VEHICLE TYPE CODE 3', 'VEHICLE TYPE CODE 4', 'VEHICLE TYPE CODE 5'],\n",
       "      dtype='object')"
      ]
     },
     "execution_count": 4,
     "metadata": {},
     "output_type": "execute_result"
    }
   ],
   "source": [
    "df.columns"
   ]
  },
  {
   "cell_type": "code",
   "execution_count": 5,
   "id": "5038e32e",
   "metadata": {},
   "outputs": [
    {
     "name": "stdout",
     "output_type": "stream",
     "text": [
      "<class 'pandas.core.frame.DataFrame'>\n",
      "RangeIndex: 2196754 entries, 0 to 2196753\n",
      "Data columns (total 29 columns):\n",
      " #   Column                         Dtype  \n",
      "---  ------                         -----  \n",
      " 0   CRASH DATE                     object \n",
      " 1   CRASH TIME                     object \n",
      " 2   BOROUGH                        object \n",
      " 3   ZIP CODE                       object \n",
      " 4   LATITUDE                       float64\n",
      " 5   LONGITUDE                      float64\n",
      " 6   LOCATION                       object \n",
      " 7   ON STREET NAME                 object \n",
      " 8   CROSS STREET NAME              object \n",
      " 9   OFF STREET NAME                object \n",
      " 10  NUMBER OF PERSONS INJURED      float64\n",
      " 11  NUMBER OF PERSONS KILLED       float64\n",
      " 12  NUMBER OF PEDESTRIANS INJURED  int64  \n",
      " 13  NUMBER OF PEDESTRIANS KILLED   int64  \n",
      " 14  NUMBER OF CYCLIST INJURED      int64  \n",
      " 15  NUMBER OF CYCLIST KILLED       int64  \n",
      " 16  NUMBER OF MOTORIST INJURED     int64  \n",
      " 17  NUMBER OF MOTORIST KILLED      int64  \n",
      " 18  CONTRIBUTING FACTOR VEHICLE 1  object \n",
      " 19  CONTRIBUTING FACTOR VEHICLE 2  object \n",
      " 20  CONTRIBUTING FACTOR VEHICLE 3  object \n",
      " 21  CONTRIBUTING FACTOR VEHICLE 4  object \n",
      " 22  CONTRIBUTING FACTOR VEHICLE 5  object \n",
      " 23  COLLISION_ID                   int64  \n",
      " 24  VEHICLE TYPE CODE 1            object \n",
      " 25  VEHICLE TYPE CODE 2            object \n",
      " 26  VEHICLE TYPE CODE 3            object \n",
      " 27  VEHICLE TYPE CODE 4            object \n",
      " 28  VEHICLE TYPE CODE 5            object \n",
      "dtypes: float64(4), int64(7), object(18)\n",
      "memory usage: 486.0+ MB\n"
     ]
    }
   ],
   "source": [
    "df.info()"
   ]
  },
  {
   "cell_type": "code",
   "execution_count": 6,
   "id": "d6574a35",
   "metadata": {},
   "outputs": [
    {
     "data": {
      "application/vnd.microsoft.datawrangler.viewer.v0+json": {
       "columns": [
        {
         "name": "index",
         "rawType": "object",
         "type": "string"
        },
        {
         "name": "LATITUDE",
         "rawType": "float64",
         "type": "float"
        },
        {
         "name": "LONGITUDE",
         "rawType": "float64",
         "type": "float"
        },
        {
         "name": "NUMBER OF PERSONS INJURED",
         "rawType": "float64",
         "type": "float"
        },
        {
         "name": "NUMBER OF PERSONS KILLED",
         "rawType": "float64",
         "type": "float"
        },
        {
         "name": "NUMBER OF PEDESTRIANS INJURED",
         "rawType": "float64",
         "type": "float"
        },
        {
         "name": "NUMBER OF PEDESTRIANS KILLED",
         "rawType": "float64",
         "type": "float"
        },
        {
         "name": "NUMBER OF CYCLIST INJURED",
         "rawType": "float64",
         "type": "float"
        },
        {
         "name": "NUMBER OF CYCLIST KILLED",
         "rawType": "float64",
         "type": "float"
        },
        {
         "name": "NUMBER OF MOTORIST INJURED",
         "rawType": "float64",
         "type": "float"
        },
        {
         "name": "NUMBER OF MOTORIST KILLED",
         "rawType": "float64",
         "type": "float"
        },
        {
         "name": "COLLISION_ID",
         "rawType": "float64",
         "type": "float"
        }
       ],
       "ref": "ac5c43db-0a30-4234-b286-7ba8eee4c016",
       "rows": [
        [
         "count",
         "1956597.0",
         "1956597.0",
         "2196736.0",
         "2196723.0",
         "2196754.0",
         "2196754.0",
         "2196754.0",
         "2196754.0",
         "2196754.0",
         "2196754.0",
         "2196754.0"
        ],
        [
         "mean",
         "40.600185179645216",
         "-73.7020881234483",
         "0.3251997509031581",
         "0.0015682450632146156",
         "0.059120866514866935",
         "0.0007766003840211513",
         "0.028657282517751192",
         "0.0001233638359142626",
         "0.23292685480486208",
         "0.000639124817799353",
         "3248715.2977556884"
        ],
        [
         "std",
         "2.2425967083204372",
         "4.177683004457442",
         "0.7124329755334923",
         "0.04178582275884302",
         "0.24912141088893583",
         "0.028486919447311996",
         "0.16903700008117678",
         "0.011147156949487709",
         "0.6736136036907832",
         "0.027597559725074616",
         "1508703.9521887056"
        ],
        [
         "min",
         "0.0",
         "-201.35999",
         "0.0",
         "0.0",
         "0.0",
         "0.0",
         "0.0",
         "0.0",
         "0.0",
         "0.0",
         "22.0"
        ],
        [
         "25%",
         "40.667385",
         "-73.97457",
         "0.0",
         "0.0",
         "0.0",
         "0.0",
         "0.0",
         "0.0",
         "0.0",
         "0.0",
         "3185309.25"
        ],
        [
         "50%",
         "40.7203211",
         "-73.926865",
         "0.0",
         "0.0",
         "0.0",
         "0.0",
         "0.0",
         "0.0",
         "0.0",
         "0.0",
         "3734659.5"
        ],
        [
         "75%",
         "40.76958",
         "-73.86662",
         "0.0",
         "0.0",
         "0.0",
         "0.0",
         "0.0",
         "0.0",
         "0.0",
         "0.0",
         "4284069.75"
        ],
        [
         "max",
         "43.344444",
         "0.0",
         "43.0",
         "8.0",
         "27.0",
         "6.0",
         "4.0",
         "2.0",
         "43.0",
         "5.0",
         "4833511.0"
        ]
       ],
       "shape": {
        "columns": 11,
        "rows": 8
       }
      },
      "text/html": [
       "<div>\n",
       "<style scoped>\n",
       "    .dataframe tbody tr th:only-of-type {\n",
       "        vertical-align: middle;\n",
       "    }\n",
       "\n",
       "    .dataframe tbody tr th {\n",
       "        vertical-align: top;\n",
       "    }\n",
       "\n",
       "    .dataframe thead th {\n",
       "        text-align: right;\n",
       "    }\n",
       "</style>\n",
       "<table border=\"1\" class=\"dataframe\">\n",
       "  <thead>\n",
       "    <tr style=\"text-align: right;\">\n",
       "      <th></th>\n",
       "      <th>LATITUDE</th>\n",
       "      <th>LONGITUDE</th>\n",
       "      <th>NUMBER OF PERSONS INJURED</th>\n",
       "      <th>NUMBER OF PERSONS KILLED</th>\n",
       "      <th>NUMBER OF PEDESTRIANS INJURED</th>\n",
       "      <th>NUMBER OF PEDESTRIANS KILLED</th>\n",
       "      <th>NUMBER OF CYCLIST INJURED</th>\n",
       "      <th>NUMBER OF CYCLIST KILLED</th>\n",
       "      <th>NUMBER OF MOTORIST INJURED</th>\n",
       "      <th>NUMBER OF MOTORIST KILLED</th>\n",
       "      <th>COLLISION_ID</th>\n",
       "    </tr>\n",
       "  </thead>\n",
       "  <tbody>\n",
       "    <tr>\n",
       "      <th>count</th>\n",
       "      <td>1.956597e+06</td>\n",
       "      <td>1.956597e+06</td>\n",
       "      <td>2.196736e+06</td>\n",
       "      <td>2.196723e+06</td>\n",
       "      <td>2.196754e+06</td>\n",
       "      <td>2.196754e+06</td>\n",
       "      <td>2.196754e+06</td>\n",
       "      <td>2.196754e+06</td>\n",
       "      <td>2.196754e+06</td>\n",
       "      <td>2.196754e+06</td>\n",
       "      <td>2.196754e+06</td>\n",
       "    </tr>\n",
       "    <tr>\n",
       "      <th>mean</th>\n",
       "      <td>4.060019e+01</td>\n",
       "      <td>-7.370209e+01</td>\n",
       "      <td>3.251998e-01</td>\n",
       "      <td>1.568245e-03</td>\n",
       "      <td>5.912087e-02</td>\n",
       "      <td>7.766004e-04</td>\n",
       "      <td>2.865728e-02</td>\n",
       "      <td>1.233638e-04</td>\n",
       "      <td>2.329269e-01</td>\n",
       "      <td>6.391248e-04</td>\n",
       "      <td>3.248715e+06</td>\n",
       "    </tr>\n",
       "    <tr>\n",
       "      <th>std</th>\n",
       "      <td>2.242597e+00</td>\n",
       "      <td>4.177683e+00</td>\n",
       "      <td>7.124330e-01</td>\n",
       "      <td>4.178582e-02</td>\n",
       "      <td>2.491214e-01</td>\n",
       "      <td>2.848692e-02</td>\n",
       "      <td>1.690370e-01</td>\n",
       "      <td>1.114716e-02</td>\n",
       "      <td>6.736136e-01</td>\n",
       "      <td>2.759756e-02</td>\n",
       "      <td>1.508704e+06</td>\n",
       "    </tr>\n",
       "    <tr>\n",
       "      <th>min</th>\n",
       "      <td>0.000000e+00</td>\n",
       "      <td>-2.013600e+02</td>\n",
       "      <td>0.000000e+00</td>\n",
       "      <td>0.000000e+00</td>\n",
       "      <td>0.000000e+00</td>\n",
       "      <td>0.000000e+00</td>\n",
       "      <td>0.000000e+00</td>\n",
       "      <td>0.000000e+00</td>\n",
       "      <td>0.000000e+00</td>\n",
       "      <td>0.000000e+00</td>\n",
       "      <td>2.200000e+01</td>\n",
       "    </tr>\n",
       "    <tr>\n",
       "      <th>25%</th>\n",
       "      <td>4.066739e+01</td>\n",
       "      <td>-7.397457e+01</td>\n",
       "      <td>0.000000e+00</td>\n",
       "      <td>0.000000e+00</td>\n",
       "      <td>0.000000e+00</td>\n",
       "      <td>0.000000e+00</td>\n",
       "      <td>0.000000e+00</td>\n",
       "      <td>0.000000e+00</td>\n",
       "      <td>0.000000e+00</td>\n",
       "      <td>0.000000e+00</td>\n",
       "      <td>3.185309e+06</td>\n",
       "    </tr>\n",
       "    <tr>\n",
       "      <th>50%</th>\n",
       "      <td>4.072032e+01</td>\n",
       "      <td>-7.392687e+01</td>\n",
       "      <td>0.000000e+00</td>\n",
       "      <td>0.000000e+00</td>\n",
       "      <td>0.000000e+00</td>\n",
       "      <td>0.000000e+00</td>\n",
       "      <td>0.000000e+00</td>\n",
       "      <td>0.000000e+00</td>\n",
       "      <td>0.000000e+00</td>\n",
       "      <td>0.000000e+00</td>\n",
       "      <td>3.734660e+06</td>\n",
       "    </tr>\n",
       "    <tr>\n",
       "      <th>75%</th>\n",
       "      <td>4.076958e+01</td>\n",
       "      <td>-7.386662e+01</td>\n",
       "      <td>0.000000e+00</td>\n",
       "      <td>0.000000e+00</td>\n",
       "      <td>0.000000e+00</td>\n",
       "      <td>0.000000e+00</td>\n",
       "      <td>0.000000e+00</td>\n",
       "      <td>0.000000e+00</td>\n",
       "      <td>0.000000e+00</td>\n",
       "      <td>0.000000e+00</td>\n",
       "      <td>4.284070e+06</td>\n",
       "    </tr>\n",
       "    <tr>\n",
       "      <th>max</th>\n",
       "      <td>4.334444e+01</td>\n",
       "      <td>0.000000e+00</td>\n",
       "      <td>4.300000e+01</td>\n",
       "      <td>8.000000e+00</td>\n",
       "      <td>2.700000e+01</td>\n",
       "      <td>6.000000e+00</td>\n",
       "      <td>4.000000e+00</td>\n",
       "      <td>2.000000e+00</td>\n",
       "      <td>4.300000e+01</td>\n",
       "      <td>5.000000e+00</td>\n",
       "      <td>4.833511e+06</td>\n",
       "    </tr>\n",
       "  </tbody>\n",
       "</table>\n",
       "</div>"
      ],
      "text/plain": [
       "           LATITUDE     LONGITUDE  NUMBER OF PERSONS INJURED  \\\n",
       "count  1.956597e+06  1.956597e+06               2.196736e+06   \n",
       "mean   4.060019e+01 -7.370209e+01               3.251998e-01   \n",
       "std    2.242597e+00  4.177683e+00               7.124330e-01   \n",
       "min    0.000000e+00 -2.013600e+02               0.000000e+00   \n",
       "25%    4.066739e+01 -7.397457e+01               0.000000e+00   \n",
       "50%    4.072032e+01 -7.392687e+01               0.000000e+00   \n",
       "75%    4.076958e+01 -7.386662e+01               0.000000e+00   \n",
       "max    4.334444e+01  0.000000e+00               4.300000e+01   \n",
       "\n",
       "       NUMBER OF PERSONS KILLED  NUMBER OF PEDESTRIANS INJURED  \\\n",
       "count              2.196723e+06                   2.196754e+06   \n",
       "mean               1.568245e-03                   5.912087e-02   \n",
       "std                4.178582e-02                   2.491214e-01   \n",
       "min                0.000000e+00                   0.000000e+00   \n",
       "25%                0.000000e+00                   0.000000e+00   \n",
       "50%                0.000000e+00                   0.000000e+00   \n",
       "75%                0.000000e+00                   0.000000e+00   \n",
       "max                8.000000e+00                   2.700000e+01   \n",
       "\n",
       "       NUMBER OF PEDESTRIANS KILLED  NUMBER OF CYCLIST INJURED  \\\n",
       "count                  2.196754e+06               2.196754e+06   \n",
       "mean                   7.766004e-04               2.865728e-02   \n",
       "std                    2.848692e-02               1.690370e-01   \n",
       "min                    0.000000e+00               0.000000e+00   \n",
       "25%                    0.000000e+00               0.000000e+00   \n",
       "50%                    0.000000e+00               0.000000e+00   \n",
       "75%                    0.000000e+00               0.000000e+00   \n",
       "max                    6.000000e+00               4.000000e+00   \n",
       "\n",
       "       NUMBER OF CYCLIST KILLED  NUMBER OF MOTORIST INJURED  \\\n",
       "count              2.196754e+06                2.196754e+06   \n",
       "mean               1.233638e-04                2.329269e-01   \n",
       "std                1.114716e-02                6.736136e-01   \n",
       "min                0.000000e+00                0.000000e+00   \n",
       "25%                0.000000e+00                0.000000e+00   \n",
       "50%                0.000000e+00                0.000000e+00   \n",
       "75%                0.000000e+00                0.000000e+00   \n",
       "max                2.000000e+00                4.300000e+01   \n",
       "\n",
       "       NUMBER OF MOTORIST KILLED  COLLISION_ID  \n",
       "count               2.196754e+06  2.196754e+06  \n",
       "mean                6.391248e-04  3.248715e+06  \n",
       "std                 2.759756e-02  1.508704e+06  \n",
       "min                 0.000000e+00  2.200000e+01  \n",
       "25%                 0.000000e+00  3.185309e+06  \n",
       "50%                 0.000000e+00  3.734660e+06  \n",
       "75%                 0.000000e+00  4.284070e+06  \n",
       "max                 5.000000e+00  4.833511e+06  "
      ]
     },
     "execution_count": 6,
     "metadata": {},
     "output_type": "execute_result"
    }
   ],
   "source": [
    "df.describe()"
   ]
  },
  {
   "cell_type": "markdown",
   "id": "f0557035",
   "metadata": {},
   "source": [
    "* **`CRASH_DATE`**: The full date the collision occurred. (**Datetime**)\n",
    "* **`CRASH_TIME`**: The local time the collision occurred. (**Categorical/Time**)\n",
    "* **`BOROUGH`**: The NYC borough where the collision took place (e.g., Brooklyn, Queens). (**Categorical**)\n",
    "* **`ZIP CODE`**: The 5-digit postal code for the collision location. (**Categorical**)\n",
    "* **`LATITUDE`**: The latitude coordinate of the collision, representing the north-south position. (**Numerical**)\n",
    "* **`LONGITUDE`**: The longitude coordinate of the collision, representing the east-west position. (**Numerical**)\n",
    "* **`LOCATION`**: A single field combining latitude and longitude coordinates. (**Categorical/Object**)\n",
    "* **`ON STREET NAME`**: The name of the street where the collision occurred. (**Categorical**)\n",
    "* **`CROSS STREET NAME`**: The name of the nearest intersecting street. (**Categorical**)\n",
    "* **`NUMBER OF PERSONS INJURED`**: A count of all people injured in the collision. (**Numerical**)\n",
    "* **`NUMBER OF PERSONS KILLED`**: A count of all people killed in the collision. (**Numerical**)\n",
    "* **`CONTRIBUTING FACTOR VEHICLE 1`**: The primary reason determined for the collision, attributed to the first vehicle. (**Categorical**)\n",
    "* **`VEHICLE TYPE CODE 1`**: The type of the first vehicle involved (e.g., 'Sedan', 'Truck', 'Bike'). (**Categorical**)\n",
    "* **`COLLISION_ID`**: A unique identification number assigned to each collision record. (**Categorical/Identifier**)"
   ]
  },
  {
   "cell_type": "code",
   "execution_count": 7,
   "id": "ad775262",
   "metadata": {},
   "outputs": [
    {
     "data": {
      "application/vnd.microsoft.datawrangler.viewer.v0+json": {
       "columns": [
        {
         "name": "index",
         "rawType": "object",
         "type": "string"
        },
        {
         "name": "0",
         "rawType": "int64",
         "type": "integer"
        }
       ],
       "ref": "850023e2-49fb-4881-8fe1-076bbfdc32fc",
       "rows": [
        [
         "CRASH DATE",
         "0"
        ],
        [
         "CRASH TIME",
         "0"
        ],
        [
         "BOROUGH",
         "675613"
        ],
        [
         "ZIP CODE",
         "675887"
        ],
        [
         "LATITUDE",
         "240157"
        ],
        [
         "LONGITUDE",
         "240157"
        ],
        [
         "LOCATION",
         "240157"
        ],
        [
         "ON STREET NAME",
         "476352"
        ],
        [
         "CROSS STREET NAME",
         "838902"
        ],
        [
         "OFF STREET NAME",
         "1812776"
        ],
        [
         "NUMBER OF PERSONS INJURED",
         "18"
        ],
        [
         "NUMBER OF PERSONS KILLED",
         "31"
        ],
        [
         "NUMBER OF PEDESTRIANS INJURED",
         "0"
        ],
        [
         "NUMBER OF PEDESTRIANS KILLED",
         "0"
        ],
        [
         "NUMBER OF CYCLIST INJURED",
         "0"
        ],
        [
         "NUMBER OF CYCLIST KILLED",
         "0"
        ],
        [
         "NUMBER OF MOTORIST INJURED",
         "0"
        ],
        [
         "NUMBER OF MOTORIST KILLED",
         "0"
        ],
        [
         "CONTRIBUTING FACTOR VEHICLE 1",
         "7667"
        ],
        [
         "CONTRIBUTING FACTOR VEHICLE 2",
         "350734"
        ],
        [
         "CONTRIBUTING FACTOR VEHICLE 3",
         "2037979"
        ],
        [
         "CONTRIBUTING FACTOR VEHICLE 4",
         "2160538"
        ],
        [
         "CONTRIBUTING FACTOR VEHICLE 5",
         "2186842"
        ],
        [
         "COLLISION_ID",
         "0"
        ],
        [
         "VEHICLE TYPE CODE 1",
         "15752"
        ],
        [
         "VEHICLE TYPE CODE 2",
         "437504"
        ],
        [
         "VEHICLE TYPE CODE 3",
         "2044099"
        ],
        [
         "VEHICLE TYPE CODE 4",
         "2161842"
        ],
        [
         "VEHICLE TYPE CODE 5",
         "2187150"
        ]
       ],
       "shape": {
        "columns": 1,
        "rows": 29
       }
      },
      "text/plain": [
       "CRASH DATE                             0\n",
       "CRASH TIME                             0\n",
       "BOROUGH                           675613\n",
       "ZIP CODE                          675887\n",
       "LATITUDE                          240157\n",
       "LONGITUDE                         240157\n",
       "LOCATION                          240157\n",
       "ON STREET NAME                    476352\n",
       "CROSS STREET NAME                 838902\n",
       "OFF STREET NAME                  1812776\n",
       "NUMBER OF PERSONS INJURED             18\n",
       "NUMBER OF PERSONS KILLED              31\n",
       "NUMBER OF PEDESTRIANS INJURED          0\n",
       "NUMBER OF PEDESTRIANS KILLED           0\n",
       "NUMBER OF CYCLIST INJURED              0\n",
       "NUMBER OF CYCLIST KILLED               0\n",
       "NUMBER OF MOTORIST INJURED             0\n",
       "NUMBER OF MOTORIST KILLED              0\n",
       "CONTRIBUTING FACTOR VEHICLE 1       7667\n",
       "CONTRIBUTING FACTOR VEHICLE 2     350734\n",
       "CONTRIBUTING FACTOR VEHICLE 3    2037979\n",
       "CONTRIBUTING FACTOR VEHICLE 4    2160538\n",
       "CONTRIBUTING FACTOR VEHICLE 5    2186842\n",
       "COLLISION_ID                           0\n",
       "VEHICLE TYPE CODE 1                15752\n",
       "VEHICLE TYPE CODE 2               437504\n",
       "VEHICLE TYPE CODE 3              2044099\n",
       "VEHICLE TYPE CODE 4              2161842\n",
       "VEHICLE TYPE CODE 5              2187150\n",
       "dtype: int64"
      ]
     },
     "execution_count": 7,
     "metadata": {},
     "output_type": "execute_result"
    }
   ],
   "source": [
    "df.isnull().sum()"
   ]
  },
  {
   "cell_type": "markdown",
   "id": "df7a2933",
   "metadata": {},
   "source": [
    "## Cleaning the data"
   ]
  },
  {
   "cell_type": "code",
   "execution_count": 8,
   "id": "1ea1b8d0",
   "metadata": {},
   "outputs": [],
   "source": [
    "# Dropping a non-critical column with many missing values\n",
    "new_df = df.drop(columns=['OFF STREET NAME'])\n"
   ]
  },
  {
   "cell_type": "code",
   "execution_count": 9,
   "id": "df8fe831",
   "metadata": {},
   "outputs": [
    {
     "data": {
      "application/vnd.microsoft.datawrangler.viewer.v0+json": {
       "columns": [
        {
         "name": "index",
         "rawType": "object",
         "type": "string"
        },
        {
         "name": "0",
         "rawType": "int64",
         "type": "integer"
        }
       ],
       "ref": "08931947-cd45-445e-bb1a-aea28ef10d92",
       "rows": [
        [
         "CRASH DATE",
         "0"
        ],
        [
         "CRASH TIME",
         "0"
        ],
        [
         "BOROUGH",
         "675613"
        ],
        [
         "ZIP CODE",
         "675887"
        ],
        [
         "LATITUDE",
         "240157"
        ],
        [
         "LONGITUDE",
         "240157"
        ],
        [
         "LOCATION",
         "240157"
        ],
        [
         "ON STREET NAME",
         "476352"
        ],
        [
         "CROSS STREET NAME",
         "838902"
        ],
        [
         "NUMBER OF PERSONS INJURED",
         "18"
        ],
        [
         "NUMBER OF PERSONS KILLED",
         "31"
        ],
        [
         "NUMBER OF PEDESTRIANS INJURED",
         "0"
        ],
        [
         "NUMBER OF PEDESTRIANS KILLED",
         "0"
        ],
        [
         "NUMBER OF CYCLIST INJURED",
         "0"
        ],
        [
         "NUMBER OF CYCLIST KILLED",
         "0"
        ],
        [
         "NUMBER OF MOTORIST INJURED",
         "0"
        ],
        [
         "NUMBER OF MOTORIST KILLED",
         "0"
        ],
        [
         "CONTRIBUTING FACTOR VEHICLE 1",
         "7667"
        ],
        [
         "CONTRIBUTING FACTOR VEHICLE 2",
         "350734"
        ],
        [
         "CONTRIBUTING FACTOR VEHICLE 3",
         "2037979"
        ],
        [
         "CONTRIBUTING FACTOR VEHICLE 4",
         "2160538"
        ],
        [
         "CONTRIBUTING FACTOR VEHICLE 5",
         "2186842"
        ],
        [
         "COLLISION_ID",
         "0"
        ],
        [
         "VEHICLE TYPE CODE 1",
         "15752"
        ],
        [
         "VEHICLE TYPE CODE 2",
         "437504"
        ],
        [
         "VEHICLE TYPE CODE 3",
         "2044099"
        ],
        [
         "VEHICLE TYPE CODE 4",
         "2161842"
        ],
        [
         "VEHICLE TYPE CODE 5",
         "2187150"
        ]
       ],
       "shape": {
        "columns": 1,
        "rows": 28
       }
      },
      "text/plain": [
       "CRASH DATE                             0\n",
       "CRASH TIME                             0\n",
       "BOROUGH                           675613\n",
       "ZIP CODE                          675887\n",
       "LATITUDE                          240157\n",
       "LONGITUDE                         240157\n",
       "LOCATION                          240157\n",
       "ON STREET NAME                    476352\n",
       "CROSS STREET NAME                 838902\n",
       "NUMBER OF PERSONS INJURED             18\n",
       "NUMBER OF PERSONS KILLED              31\n",
       "NUMBER OF PEDESTRIANS INJURED          0\n",
       "NUMBER OF PEDESTRIANS KILLED           0\n",
       "NUMBER OF CYCLIST INJURED              0\n",
       "NUMBER OF CYCLIST KILLED               0\n",
       "NUMBER OF MOTORIST INJURED             0\n",
       "NUMBER OF MOTORIST KILLED              0\n",
       "CONTRIBUTING FACTOR VEHICLE 1       7667\n",
       "CONTRIBUTING FACTOR VEHICLE 2     350734\n",
       "CONTRIBUTING FACTOR VEHICLE 3    2037979\n",
       "CONTRIBUTING FACTOR VEHICLE 4    2160538\n",
       "CONTRIBUTING FACTOR VEHICLE 5    2186842\n",
       "COLLISION_ID                           0\n",
       "VEHICLE TYPE CODE 1                15752\n",
       "VEHICLE TYPE CODE 2               437504\n",
       "VEHICLE TYPE CODE 3              2044099\n",
       "VEHICLE TYPE CODE 4              2161842\n",
       "VEHICLE TYPE CODE 5              2187150\n",
       "dtype: int64"
      ]
     },
     "execution_count": 9,
     "metadata": {},
     "output_type": "execute_result"
    }
   ],
   "source": [
    "new_df.isnull().sum()"
   ]
  },
  {
   "cell_type": "code",
   "execution_count": 10,
   "id": "cacbabc6",
   "metadata": {},
   "outputs": [
    {
     "data": {
      "application/vnd.microsoft.datawrangler.viewer.v0+json": {
       "columns": [
        {
         "name": "index",
         "rawType": "object",
         "type": "string"
        },
        {
         "name": "0",
         "rawType": "int64",
         "type": "integer"
        }
       ],
       "ref": "55ddab6b-e901-487b-9fa3-742b260de344",
       "rows": [
        [
         "CRASH DATE",
         "2196754"
        ],
        [
         "CRASH TIME",
         "2196754"
        ],
        [
         "BOROUGH",
         "1521141"
        ],
        [
         "ZIP CODE",
         "1520867"
        ],
        [
         "LATITUDE",
         "1956597"
        ],
        [
         "LONGITUDE",
         "1956597"
        ],
        [
         "LOCATION",
         "1956597"
        ],
        [
         "ON STREET NAME",
         "1720402"
        ],
        [
         "CROSS STREET NAME",
         "1357852"
        ],
        [
         "OFF STREET NAME",
         "383978"
        ],
        [
         "NUMBER OF PERSONS INJURED",
         "2196736"
        ],
        [
         "NUMBER OF PERSONS KILLED",
         "2196723"
        ],
        [
         "NUMBER OF PEDESTRIANS INJURED",
         "2196754"
        ],
        [
         "NUMBER OF PEDESTRIANS KILLED",
         "2196754"
        ],
        [
         "NUMBER OF CYCLIST INJURED",
         "2196754"
        ],
        [
         "NUMBER OF CYCLIST KILLED",
         "2196754"
        ],
        [
         "NUMBER OF MOTORIST INJURED",
         "2196754"
        ],
        [
         "NUMBER OF MOTORIST KILLED",
         "2196754"
        ],
        [
         "CONTRIBUTING FACTOR VEHICLE 1",
         "2189087"
        ],
        [
         "CONTRIBUTING FACTOR VEHICLE 2",
         "1846020"
        ],
        [
         "CONTRIBUTING FACTOR VEHICLE 3",
         "158775"
        ],
        [
         "CONTRIBUTING FACTOR VEHICLE 4",
         "36216"
        ],
        [
         "CONTRIBUTING FACTOR VEHICLE 5",
         "9912"
        ],
        [
         "COLLISION_ID",
         "2196754"
        ],
        [
         "VEHICLE TYPE CODE 1",
         "2181002"
        ],
        [
         "VEHICLE TYPE CODE 2",
         "1759250"
        ],
        [
         "VEHICLE TYPE CODE 3",
         "152655"
        ],
        [
         "VEHICLE TYPE CODE 4",
         "34912"
        ],
        [
         "VEHICLE TYPE CODE 5",
         "9604"
        ]
       ],
       "shape": {
        "columns": 1,
        "rows": 29
       }
      },
      "text/plain": [
       "CRASH DATE                       2196754\n",
       "CRASH TIME                       2196754\n",
       "BOROUGH                          1521141\n",
       "ZIP CODE                         1520867\n",
       "LATITUDE                         1956597\n",
       "LONGITUDE                        1956597\n",
       "LOCATION                         1956597\n",
       "ON STREET NAME                   1720402\n",
       "CROSS STREET NAME                1357852\n",
       "OFF STREET NAME                   383978\n",
       "NUMBER OF PERSONS INJURED        2196736\n",
       "NUMBER OF PERSONS KILLED         2196723\n",
       "NUMBER OF PEDESTRIANS INJURED    2196754\n",
       "NUMBER OF PEDESTRIANS KILLED     2196754\n",
       "NUMBER OF CYCLIST INJURED        2196754\n",
       "NUMBER OF CYCLIST KILLED         2196754\n",
       "NUMBER OF MOTORIST INJURED       2196754\n",
       "NUMBER OF MOTORIST KILLED        2196754\n",
       "CONTRIBUTING FACTOR VEHICLE 1    2189087\n",
       "CONTRIBUTING FACTOR VEHICLE 2    1846020\n",
       "CONTRIBUTING FACTOR VEHICLE 3     158775\n",
       "CONTRIBUTING FACTOR VEHICLE 4      36216\n",
       "CONTRIBUTING FACTOR VEHICLE 5       9912\n",
       "COLLISION_ID                     2196754\n",
       "VEHICLE TYPE CODE 1              2181002\n",
       "VEHICLE TYPE CODE 2              1759250\n",
       "VEHICLE TYPE CODE 3               152655\n",
       "VEHICLE TYPE CODE 4                34912\n",
       "VEHICLE TYPE CODE 5                 9604\n",
       "dtype: int64"
      ]
     },
     "execution_count": 10,
     "metadata": {},
     "output_type": "execute_result"
    }
   ],
   "source": [
    "df.count()"
   ]
  },
  {
   "cell_type": "code",
   "execution_count": 11,
   "id": "25954542",
   "metadata": {},
   "outputs": [],
   "source": [
    "# Dropping rows with few missing values\n",
    "new_df.dropna(axis=0,subset=['NUMBER OF PERSONS INJURED', 'NUMBER OF PERSONS KILLED', 'CONTRIBUTING FACTOR VEHICLE 1', 'VEHICLE TYPE CODE 1'], inplace=True)"
   ]
  },
  {
   "cell_type": "code",
   "execution_count": 12,
   "id": "821a0aa7",
   "metadata": {},
   "outputs": [
    {
     "data": {
      "application/vnd.microsoft.datawrangler.viewer.v0+json": {
       "columns": [
        {
         "name": "index",
         "rawType": "object",
         "type": "string"
        },
        {
         "name": "0",
         "rawType": "int64",
         "type": "integer"
        }
       ],
       "ref": "73258c20-342f-4390-b04c-c79da8b1bbac",
       "rows": [
        [
         "CRASH DATE",
         "0"
        ],
        [
         "CRASH TIME",
         "0"
        ],
        [
         "BOROUGH",
         "671295"
        ],
        [
         "ZIP CODE",
         "671567"
        ],
        [
         "LATITUDE",
         "238524"
        ],
        [
         "LONGITUDE",
         "238524"
        ],
        [
         "LOCATION",
         "238524"
        ],
        [
         "ON STREET NAME",
         "471719"
        ],
        [
         "CROSS STREET NAME",
         "831901"
        ],
        [
         "NUMBER OF PERSONS INJURED",
         "0"
        ],
        [
         "NUMBER OF PERSONS KILLED",
         "0"
        ],
        [
         "NUMBER OF PEDESTRIANS INJURED",
         "0"
        ],
        [
         "NUMBER OF PEDESTRIANS KILLED",
         "0"
        ],
        [
         "NUMBER OF CYCLIST INJURED",
         "0"
        ],
        [
         "NUMBER OF CYCLIST KILLED",
         "0"
        ],
        [
         "NUMBER OF MOTORIST INJURED",
         "0"
        ],
        [
         "NUMBER OF MOTORIST KILLED",
         "0"
        ],
        [
         "CONTRIBUTING FACTOR VEHICLE 1",
         "0"
        ],
        [
         "CONTRIBUTING FACTOR VEHICLE 2",
         "334800"
        ],
        [
         "CONTRIBUTING FACTOR VEHICLE 3",
         "2019943"
        ],
        [
         "CONTRIBUTING FACTOR VEHICLE 4",
         "2142081"
        ],
        [
         "CONTRIBUTING FACTOR VEHICLE 5",
         "2168209"
        ],
        [
         "COLLISION_ID",
         "0"
        ],
        [
         "VEHICLE TYPE CODE 1",
         "0"
        ],
        [
         "VEHICLE TYPE CODE 2",
         "420252"
        ],
        [
         "VEHICLE TYPE CODE 3",
         "2025392"
        ],
        [
         "VEHICLE TYPE CODE 4",
         "2143127"
        ],
        [
         "VEHICLE TYPE CODE 5",
         "2168434"
        ]
       ],
       "shape": {
        "columns": 1,
        "rows": 28
       }
      },
      "text/plain": [
       "CRASH DATE                             0\n",
       "CRASH TIME                             0\n",
       "BOROUGH                           671295\n",
       "ZIP CODE                          671567\n",
       "LATITUDE                          238524\n",
       "LONGITUDE                         238524\n",
       "LOCATION                          238524\n",
       "ON STREET NAME                    471719\n",
       "CROSS STREET NAME                 831901\n",
       "NUMBER OF PERSONS INJURED              0\n",
       "NUMBER OF PERSONS KILLED               0\n",
       "NUMBER OF PEDESTRIANS INJURED          0\n",
       "NUMBER OF PEDESTRIANS KILLED           0\n",
       "NUMBER OF CYCLIST INJURED              0\n",
       "NUMBER OF CYCLIST KILLED               0\n",
       "NUMBER OF MOTORIST INJURED             0\n",
       "NUMBER OF MOTORIST KILLED              0\n",
       "CONTRIBUTING FACTOR VEHICLE 1          0\n",
       "CONTRIBUTING FACTOR VEHICLE 2     334800\n",
       "CONTRIBUTING FACTOR VEHICLE 3    2019943\n",
       "CONTRIBUTING FACTOR VEHICLE 4    2142081\n",
       "CONTRIBUTING FACTOR VEHICLE 5    2168209\n",
       "COLLISION_ID                           0\n",
       "VEHICLE TYPE CODE 1                    0\n",
       "VEHICLE TYPE CODE 2               420252\n",
       "VEHICLE TYPE CODE 3              2025392\n",
       "VEHICLE TYPE CODE 4              2143127\n",
       "VEHICLE TYPE CODE 5              2168434\n",
       "dtype: int64"
      ]
     },
     "execution_count": 12,
     "metadata": {},
     "output_type": "execute_result"
    }
   ],
   "source": [
    "new_df.isnull().sum()"
   ]
  },
  {
   "cell_type": "code",
   "execution_count": 13,
   "id": "916b2e90",
   "metadata": {},
   "outputs": [],
   "source": [
    "#filling location data missing values with 'UNKNOWN' or 0 for numerical values as they are critical for analysis\n",
    "new_df.fillna({'BOROUGH': 'UNKNOWN', 'ZIP CODE': 'UNKNOWN', 'LATITUDE': 0, 'LONGITUDE': 0, 'LOCATION': 'UNKNOWN', 'ON STREET NAME': 'UNKNOWN', 'CROSS STREET NAME': 'UNKNOWN'}, inplace=True)"
   ]
  },
  {
   "cell_type": "code",
   "execution_count": 14,
   "id": "781420e8",
   "metadata": {},
   "outputs": [
    {
     "data": {
      "application/vnd.microsoft.datawrangler.viewer.v0+json": {
       "columns": [
        {
         "name": "index",
         "rawType": "object",
         "type": "string"
        },
        {
         "name": "0",
         "rawType": "int64",
         "type": "integer"
        }
       ],
       "ref": "48dece40-3e68-4490-9c96-4dbd4fa7e44d",
       "rows": [
        [
         "CRASH DATE",
         "0"
        ],
        [
         "CRASH TIME",
         "0"
        ],
        [
         "BOROUGH",
         "0"
        ],
        [
         "ZIP CODE",
         "0"
        ],
        [
         "LATITUDE",
         "0"
        ],
        [
         "LONGITUDE",
         "0"
        ],
        [
         "LOCATION",
         "0"
        ],
        [
         "ON STREET NAME",
         "0"
        ],
        [
         "CROSS STREET NAME",
         "0"
        ],
        [
         "NUMBER OF PERSONS INJURED",
         "0"
        ],
        [
         "NUMBER OF PERSONS KILLED",
         "0"
        ],
        [
         "NUMBER OF PEDESTRIANS INJURED",
         "0"
        ],
        [
         "NUMBER OF PEDESTRIANS KILLED",
         "0"
        ],
        [
         "NUMBER OF CYCLIST INJURED",
         "0"
        ],
        [
         "NUMBER OF CYCLIST KILLED",
         "0"
        ],
        [
         "NUMBER OF MOTORIST INJURED",
         "0"
        ],
        [
         "NUMBER OF MOTORIST KILLED",
         "0"
        ],
        [
         "CONTRIBUTING FACTOR VEHICLE 1",
         "0"
        ],
        [
         "CONTRIBUTING FACTOR VEHICLE 2",
         "334800"
        ],
        [
         "CONTRIBUTING FACTOR VEHICLE 3",
         "2019943"
        ],
        [
         "CONTRIBUTING FACTOR VEHICLE 4",
         "2142081"
        ],
        [
         "CONTRIBUTING FACTOR VEHICLE 5",
         "2168209"
        ],
        [
         "COLLISION_ID",
         "0"
        ],
        [
         "VEHICLE TYPE CODE 1",
         "0"
        ],
        [
         "VEHICLE TYPE CODE 2",
         "420252"
        ],
        [
         "VEHICLE TYPE CODE 3",
         "2025392"
        ],
        [
         "VEHICLE TYPE CODE 4",
         "2143127"
        ],
        [
         "VEHICLE TYPE CODE 5",
         "2168434"
        ]
       ],
       "shape": {
        "columns": 1,
        "rows": 28
       }
      },
      "text/plain": [
       "CRASH DATE                             0\n",
       "CRASH TIME                             0\n",
       "BOROUGH                                0\n",
       "ZIP CODE                               0\n",
       "LATITUDE                               0\n",
       "LONGITUDE                              0\n",
       "LOCATION                               0\n",
       "ON STREET NAME                         0\n",
       "CROSS STREET NAME                      0\n",
       "NUMBER OF PERSONS INJURED              0\n",
       "NUMBER OF PERSONS KILLED               0\n",
       "NUMBER OF PEDESTRIANS INJURED          0\n",
       "NUMBER OF PEDESTRIANS KILLED           0\n",
       "NUMBER OF CYCLIST INJURED              0\n",
       "NUMBER OF CYCLIST KILLED               0\n",
       "NUMBER OF MOTORIST INJURED             0\n",
       "NUMBER OF MOTORIST KILLED              0\n",
       "CONTRIBUTING FACTOR VEHICLE 1          0\n",
       "CONTRIBUTING FACTOR VEHICLE 2     334800\n",
       "CONTRIBUTING FACTOR VEHICLE 3    2019943\n",
       "CONTRIBUTING FACTOR VEHICLE 4    2142081\n",
       "CONTRIBUTING FACTOR VEHICLE 5    2168209\n",
       "COLLISION_ID                           0\n",
       "VEHICLE TYPE CODE 1                    0\n",
       "VEHICLE TYPE CODE 2               420252\n",
       "VEHICLE TYPE CODE 3              2025392\n",
       "VEHICLE TYPE CODE 4              2143127\n",
       "VEHICLE TYPE CODE 5              2168434\n",
       "dtype: int64"
      ]
     },
     "execution_count": 14,
     "metadata": {},
     "output_type": "execute_result"
    }
   ],
   "source": [
    "new_df.isnull().sum()"
   ]
  },
  {
   "cell_type": "code",
   "execution_count": 15,
   "id": "b644dc98",
   "metadata": {},
   "outputs": [],
   "source": [
    "# Remaining null values are most likely from single vehicle crashes so I will fill them with \"no second vehicle\" and so on\n",
    "new_df.fillna({'CONTRIBUTING FACTOR VEHICLE 2': 'NO SECOND VEHICLE', 'CONTRIBUTING FACTOR VEHICLE 3': 'NO THIRD VEHICLE', 'CONTRIBUTING FACTOR VEHICLE 4': 'NO FOURTH VEHICLE', 'CONTRIBUTING FACTOR VEHICLE 5': 'NO FIFTH VEHICLE', 'VEHICLE TYPE CODE 2': 'NO SECOND VEHICLE', 'VEHICLE TYPE CODE 3': 'NO THIRD VEHICLE', 'VEHICLE TYPE CODE 4': 'NO FOURTH VEHICLE', 'VEHICLE TYPE CODE 5': 'NO FIFTH VEHICLE'}, inplace=True)"
   ]
  },
  {
   "cell_type": "code",
   "execution_count": 16,
   "id": "e7a8722b",
   "metadata": {},
   "outputs": [
    {
     "data": {
      "application/vnd.microsoft.datawrangler.viewer.v0+json": {
       "columns": [
        {
         "name": "index",
         "rawType": "object",
         "type": "string"
        },
        {
         "name": "0",
         "rawType": "int64",
         "type": "integer"
        }
       ],
       "ref": "839c4983-1ba9-4217-869d-c4464bde2edd",
       "rows": [
        [
         "CRASH DATE",
         "0"
        ],
        [
         "CRASH TIME",
         "0"
        ],
        [
         "BOROUGH",
         "0"
        ],
        [
         "ZIP CODE",
         "0"
        ],
        [
         "LATITUDE",
         "0"
        ],
        [
         "LONGITUDE",
         "0"
        ],
        [
         "LOCATION",
         "0"
        ],
        [
         "ON STREET NAME",
         "0"
        ],
        [
         "CROSS STREET NAME",
         "0"
        ],
        [
         "NUMBER OF PERSONS INJURED",
         "0"
        ],
        [
         "NUMBER OF PERSONS KILLED",
         "0"
        ],
        [
         "NUMBER OF PEDESTRIANS INJURED",
         "0"
        ],
        [
         "NUMBER OF PEDESTRIANS KILLED",
         "0"
        ],
        [
         "NUMBER OF CYCLIST INJURED",
         "0"
        ],
        [
         "NUMBER OF CYCLIST KILLED",
         "0"
        ],
        [
         "NUMBER OF MOTORIST INJURED",
         "0"
        ],
        [
         "NUMBER OF MOTORIST KILLED",
         "0"
        ],
        [
         "CONTRIBUTING FACTOR VEHICLE 1",
         "0"
        ],
        [
         "CONTRIBUTING FACTOR VEHICLE 2",
         "0"
        ],
        [
         "CONTRIBUTING FACTOR VEHICLE 3",
         "0"
        ],
        [
         "CONTRIBUTING FACTOR VEHICLE 4",
         "0"
        ],
        [
         "CONTRIBUTING FACTOR VEHICLE 5",
         "0"
        ],
        [
         "COLLISION_ID",
         "0"
        ],
        [
         "VEHICLE TYPE CODE 1",
         "0"
        ],
        [
         "VEHICLE TYPE CODE 2",
         "0"
        ],
        [
         "VEHICLE TYPE CODE 3",
         "0"
        ],
        [
         "VEHICLE TYPE CODE 4",
         "0"
        ],
        [
         "VEHICLE TYPE CODE 5",
         "0"
        ]
       ],
       "shape": {
        "columns": 1,
        "rows": 28
       }
      },
      "text/plain": [
       "CRASH DATE                       0\n",
       "CRASH TIME                       0\n",
       "BOROUGH                          0\n",
       "ZIP CODE                         0\n",
       "LATITUDE                         0\n",
       "LONGITUDE                        0\n",
       "LOCATION                         0\n",
       "ON STREET NAME                   0\n",
       "CROSS STREET NAME                0\n",
       "NUMBER OF PERSONS INJURED        0\n",
       "NUMBER OF PERSONS KILLED         0\n",
       "NUMBER OF PEDESTRIANS INJURED    0\n",
       "NUMBER OF PEDESTRIANS KILLED     0\n",
       "NUMBER OF CYCLIST INJURED        0\n",
       "NUMBER OF CYCLIST KILLED         0\n",
       "NUMBER OF MOTORIST INJURED       0\n",
       "NUMBER OF MOTORIST KILLED        0\n",
       "CONTRIBUTING FACTOR VEHICLE 1    0\n",
       "CONTRIBUTING FACTOR VEHICLE 2    0\n",
       "CONTRIBUTING FACTOR VEHICLE 3    0\n",
       "CONTRIBUTING FACTOR VEHICLE 4    0\n",
       "CONTRIBUTING FACTOR VEHICLE 5    0\n",
       "COLLISION_ID                     0\n",
       "VEHICLE TYPE CODE 1              0\n",
       "VEHICLE TYPE CODE 2              0\n",
       "VEHICLE TYPE CODE 3              0\n",
       "VEHICLE TYPE CODE 4              0\n",
       "VEHICLE TYPE CODE 5              0\n",
       "dtype: int64"
      ]
     },
     "execution_count": 16,
     "metadata": {},
     "output_type": "execute_result"
    }
   ],
   "source": [
    "new_df.isnull().sum()"
   ]
  },
  {
   "cell_type": "code",
   "execution_count": 17,
   "id": "aa9a6677",
   "metadata": {},
   "outputs": [
    {
     "data": {
      "application/vnd.microsoft.datawrangler.viewer.v0+json": {
       "columns": [
        {
         "name": "index",
         "rawType": "int64",
         "type": "integer"
        },
        {
         "name": "CRASH DATE",
         "rawType": "object",
         "type": "string"
        },
        {
         "name": "CRASH TIME",
         "rawType": "object",
         "type": "string"
        },
        {
         "name": "BOROUGH",
         "rawType": "object",
         "type": "string"
        },
        {
         "name": "ZIP CODE",
         "rawType": "object",
         "type": "unknown"
        },
        {
         "name": "LATITUDE",
         "rawType": "float64",
         "type": "float"
        },
        {
         "name": "LONGITUDE",
         "rawType": "float64",
         "type": "float"
        },
        {
         "name": "LOCATION",
         "rawType": "object",
         "type": "string"
        },
        {
         "name": "ON STREET NAME",
         "rawType": "object",
         "type": "string"
        },
        {
         "name": "CROSS STREET NAME",
         "rawType": "object",
         "type": "string"
        },
        {
         "name": "NUMBER OF PERSONS INJURED",
         "rawType": "float64",
         "type": "float"
        },
        {
         "name": "NUMBER OF PERSONS KILLED",
         "rawType": "float64",
         "type": "float"
        },
        {
         "name": "NUMBER OF PEDESTRIANS INJURED",
         "rawType": "int64",
         "type": "integer"
        },
        {
         "name": "NUMBER OF PEDESTRIANS KILLED",
         "rawType": "int64",
         "type": "integer"
        },
        {
         "name": "NUMBER OF CYCLIST INJURED",
         "rawType": "int64",
         "type": "integer"
        },
        {
         "name": "NUMBER OF CYCLIST KILLED",
         "rawType": "int64",
         "type": "integer"
        },
        {
         "name": "NUMBER OF MOTORIST INJURED",
         "rawType": "int64",
         "type": "integer"
        },
        {
         "name": "NUMBER OF MOTORIST KILLED",
         "rawType": "int64",
         "type": "integer"
        },
        {
         "name": "CONTRIBUTING FACTOR VEHICLE 1",
         "rawType": "object",
         "type": "string"
        },
        {
         "name": "CONTRIBUTING FACTOR VEHICLE 2",
         "rawType": "object",
         "type": "string"
        },
        {
         "name": "CONTRIBUTING FACTOR VEHICLE 3",
         "rawType": "object",
         "type": "string"
        },
        {
         "name": "CONTRIBUTING FACTOR VEHICLE 4",
         "rawType": "object",
         "type": "string"
        },
        {
         "name": "CONTRIBUTING FACTOR VEHICLE 5",
         "rawType": "object",
         "type": "string"
        },
        {
         "name": "COLLISION_ID",
         "rawType": "int64",
         "type": "integer"
        },
        {
         "name": "VEHICLE TYPE CODE 1",
         "rawType": "object",
         "type": "string"
        },
        {
         "name": "VEHICLE TYPE CODE 2",
         "rawType": "object",
         "type": "string"
        },
        {
         "name": "VEHICLE TYPE CODE 3",
         "rawType": "object",
         "type": "string"
        },
        {
         "name": "VEHICLE TYPE CODE 4",
         "rawType": "object",
         "type": "string"
        },
        {
         "name": "VEHICLE TYPE CODE 5",
         "rawType": "object",
         "type": "string"
        }
       ],
       "ref": "503ea792-50f9-4918-a29a-97ea3e4d4b9b",
       "rows": [
        [
         "0",
         "09/11/2021",
         "2:39",
         "UNKNOWN",
         "UNKNOWN",
         "0.0",
         "0.0",
         "UNKNOWN",
         "WHITESTONE EXPRESSWAY",
         "20 AVENUE",
         "2.0",
         "0.0",
         "0",
         "0",
         "0",
         "0",
         "2",
         "0",
         "Aggressive Driving/Road Rage",
         "Unspecified",
         "NO THIRD VEHICLE",
         "NO FOURTH VEHICLE",
         "NO FIFTH VEHICLE",
         "4455765",
         "Sedan",
         "Sedan",
         "NO THIRD VEHICLE",
         "NO FOURTH VEHICLE",
         "NO FIFTH VEHICLE"
        ],
        [
         "1",
         "03/26/2022",
         "11:45",
         "UNKNOWN",
         "UNKNOWN",
         "0.0",
         "0.0",
         "UNKNOWN",
         "QUEENSBORO BRIDGE UPPER",
         "UNKNOWN",
         "1.0",
         "0.0",
         "0",
         "0",
         "0",
         "0",
         "1",
         "0",
         "Pavement Slippery",
         "NO SECOND VEHICLE",
         "NO THIRD VEHICLE",
         "NO FOURTH VEHICLE",
         "NO FIFTH VEHICLE",
         "4513547",
         "Sedan",
         "NO SECOND VEHICLE",
         "NO THIRD VEHICLE",
         "NO FOURTH VEHICLE",
         "NO FIFTH VEHICLE"
        ],
        [
         "2",
         "11/01/2023",
         "1:29",
         "BROOKLYN",
         "11230.0",
         "40.62179",
         "-73.970024",
         "(40.62179, -73.970024)",
         "OCEAN PARKWAY",
         "AVENUE K",
         "1.0",
         "0.0",
         "0",
         "0",
         "0",
         "0",
         "1",
         "0",
         "Unspecified",
         "Unspecified",
         "Unspecified",
         "NO FOURTH VEHICLE",
         "NO FIFTH VEHICLE",
         "4675373",
         "Moped",
         "Sedan",
         "Sedan",
         "NO FOURTH VEHICLE",
         "NO FIFTH VEHICLE"
        ],
        [
         "3",
         "06/29/2022",
         "6:55",
         "UNKNOWN",
         "UNKNOWN",
         "0.0",
         "0.0",
         "UNKNOWN",
         "THROGS NECK BRIDGE",
         "UNKNOWN",
         "0.0",
         "0.0",
         "0",
         "0",
         "0",
         "0",
         "0",
         "0",
         "Following Too Closely",
         "Unspecified",
         "NO THIRD VEHICLE",
         "NO FOURTH VEHICLE",
         "NO FIFTH VEHICLE",
         "4541903",
         "Sedan",
         "Pick-up Truck",
         "NO THIRD VEHICLE",
         "NO FOURTH VEHICLE",
         "NO FIFTH VEHICLE"
        ],
        [
         "4",
         "09/21/2022",
         "13:21",
         "UNKNOWN",
         "UNKNOWN",
         "0.0",
         "0.0",
         "UNKNOWN",
         "BROOKLYN BRIDGE",
         "UNKNOWN",
         "0.0",
         "0.0",
         "0",
         "0",
         "0",
         "0",
         "0",
         "0",
         "Passing Too Closely",
         "Unspecified",
         "NO THIRD VEHICLE",
         "NO FOURTH VEHICLE",
         "NO FIFTH VEHICLE",
         "4566131",
         "Station Wagon/Sport Utility Vehicle",
         "NO SECOND VEHICLE",
         "NO THIRD VEHICLE",
         "NO FOURTH VEHICLE",
         "NO FIFTH VEHICLE"
        ],
        [
         "5",
         "04/26/2023",
         "13:30",
         "UNKNOWN",
         "UNKNOWN",
         "0.0",
         "0.0",
         "UNKNOWN",
         "WEST 54 STREET",
         "UNKNOWN",
         "0.0",
         "0.0",
         "0",
         "0",
         "0",
         "0",
         "0",
         "0",
         "Unspecified",
         "Unspecified",
         "NO THIRD VEHICLE",
         "NO FOURTH VEHICLE",
         "NO FIFTH VEHICLE",
         "4623759",
         "Sedan",
         "Box Truck",
         "NO THIRD VEHICLE",
         "NO FOURTH VEHICLE",
         "NO FIFTH VEHICLE"
        ],
        [
         "6",
         "11/01/2023",
         "7:12",
         "UNKNOWN",
         "UNKNOWN",
         "0.0",
         "0.0",
         "UNKNOWN",
         "HUTCHINSON RIVER PARKWAY",
         "UNKNOWN",
         "0.0",
         "0.0",
         "0",
         "0",
         "0",
         "0",
         "0",
         "0",
         "Following Too Closely",
         "Driver Inattention/Distraction",
         "NO THIRD VEHICLE",
         "NO FOURTH VEHICLE",
         "NO FIFTH VEHICLE",
         "4675709",
         "Sedan",
         "Station Wagon/Sport Utility Vehicle",
         "NO THIRD VEHICLE",
         "NO FOURTH VEHICLE",
         "NO FIFTH VEHICLE"
        ],
        [
         "7",
         "11/01/2023",
         "8:01",
         "UNKNOWN",
         "UNKNOWN",
         "0.0",
         "0.0",
         "UNKNOWN",
         "WEST 35 STREET",
         "HENRY HUDSON RIVER",
         "0.0",
         "0.0",
         "0",
         "0",
         "0",
         "0",
         "0",
         "0",
         "Failure to Yield Right-of-Way",
         "NO SECOND VEHICLE",
         "NO THIRD VEHICLE",
         "NO FOURTH VEHICLE",
         "NO FIFTH VEHICLE",
         "4675769",
         "Sedan",
         "NO SECOND VEHICLE",
         "NO THIRD VEHICLE",
         "NO FOURTH VEHICLE",
         "NO FIFTH VEHICLE"
        ],
        [
         "8",
         "04/26/2023",
         "22:20",
         "UNKNOWN",
         "UNKNOWN",
         "0.0",
         "0.0",
         "UNKNOWN",
         "UNKNOWN",
         "UNKNOWN",
         "0.0",
         "0.0",
         "0",
         "0",
         "0",
         "0",
         "0",
         "0",
         "Unspecified",
         "NO SECOND VEHICLE",
         "NO THIRD VEHICLE",
         "NO FOURTH VEHICLE",
         "NO FIFTH VEHICLE",
         "4623865",
         "Sedan",
         "Pick-up Truck",
         "NO THIRD VEHICLE",
         "NO FOURTH VEHICLE",
         "NO FIFTH VEHICLE"
        ],
        [
         "9",
         "09/11/2021",
         "9:35",
         "BROOKLYN",
         "11208.0",
         "40.667202",
         "-73.8665",
         "(40.667202, -73.8665)",
         "UNKNOWN",
         "UNKNOWN",
         "0.0",
         "0.0",
         "0",
         "0",
         "0",
         "0",
         "0",
         "0",
         "Unspecified",
         "NO SECOND VEHICLE",
         "NO THIRD VEHICLE",
         "NO FOURTH VEHICLE",
         "NO FIFTH VEHICLE",
         "4456314",
         "Sedan",
         "NO SECOND VEHICLE",
         "NO THIRD VEHICLE",
         "NO FOURTH VEHICLE",
         "NO FIFTH VEHICLE"
        ],
        [
         "11",
         "04/14/2021",
         "12:47",
         "UNKNOWN",
         "UNKNOWN",
         "0.0",
         "0.0",
         "UNKNOWN",
         "MAJOR DEEGAN EXPRESSWAY RAMP",
         "UNKNOWN",
         "0.0",
         "0.0",
         "0",
         "0",
         "0",
         "0",
         "0",
         "0",
         "Unspecified",
         "Unspecified",
         "NO THIRD VEHICLE",
         "NO FOURTH VEHICLE",
         "NO FIFTH VEHICLE",
         "4407458",
         "Dump",
         "Sedan",
         "NO THIRD VEHICLE",
         "NO FOURTH VEHICLE",
         "NO FIFTH VEHICLE"
        ],
        [
         "12",
         "12/14/2021",
         "17:05",
         "UNKNOWN",
         "UNKNOWN",
         "40.709183",
         "-73.956825",
         "(40.709183, -73.956825)",
         "BROOKLYN QUEENS EXPRESSWAY",
         "UNKNOWN",
         "0.0",
         "0.0",
         "0",
         "0",
         "0",
         "0",
         "0",
         "0",
         "Passing Too Closely",
         "Unspecified",
         "NO THIRD VEHICLE",
         "NO FOURTH VEHICLE",
         "NO FIFTH VEHICLE",
         "4486555",
         "Sedan",
         "Tractor Truck Diesel",
         "NO THIRD VEHICLE",
         "NO FOURTH VEHICLE",
         "NO FIFTH VEHICLE"
        ],
        [
         "13",
         "12/14/2021",
         "8:17",
         "BRONX",
         "10475.0",
         "40.86816",
         "-73.83148",
         "(40.86816, -73.83148)",
         "UNKNOWN",
         "UNKNOWN",
         "2.0",
         "0.0",
         "0",
         "0",
         "0",
         "0",
         "2",
         "0",
         "Unspecified",
         "Unspecified",
         "NO THIRD VEHICLE",
         "NO FOURTH VEHICLE",
         "NO FIFTH VEHICLE",
         "4486660",
         "Sedan",
         "Sedan",
         "NO THIRD VEHICLE",
         "NO FOURTH VEHICLE",
         "NO FIFTH VEHICLE"
        ],
        [
         "14",
         "12/14/2021",
         "21:10",
         "BROOKLYN",
         "11207.0",
         "40.67172",
         "-73.8971",
         "(40.67172, -73.8971)",
         "UNKNOWN",
         "UNKNOWN",
         "0.0",
         "0.0",
         "0",
         "0",
         "0",
         "0",
         "0",
         "0",
         "Driver Inexperience",
         "Unspecified",
         "NO THIRD VEHICLE",
         "NO FOURTH VEHICLE",
         "NO FIFTH VEHICLE",
         "4487074",
         "Sedan",
         "NO SECOND VEHICLE",
         "NO THIRD VEHICLE",
         "NO FOURTH VEHICLE",
         "NO FIFTH VEHICLE"
        ],
        [
         "15",
         "12/14/2021",
         "14:58",
         "MANHATTAN",
         "10017.0",
         "40.75144",
         "-73.97397",
         "(40.75144, -73.97397)",
         "3 AVENUE",
         "EAST 43 STREET",
         "0.0",
         "0.0",
         "0",
         "0",
         "0",
         "0",
         "0",
         "0",
         "Passing Too Closely",
         "Unspecified",
         "NO THIRD VEHICLE",
         "NO FOURTH VEHICLE",
         "NO FIFTH VEHICLE",
         "4486519",
         "Sedan",
         "Station Wagon/Sport Utility Vehicle",
         "NO THIRD VEHICLE",
         "NO FOURTH VEHICLE",
         "NO FIFTH VEHICLE"
        ],
        [
         "16",
         "12/13/2021",
         "0:34",
         "UNKNOWN",
         "UNKNOWN",
         "40.701275",
         "-73.88887",
         "(40.701275, -73.88887)",
         "MYRTLE AVENUE",
         "UNKNOWN",
         "0.0",
         "0.0",
         "0",
         "0",
         "0",
         "0",
         "0",
         "0",
         "Passing or Lane Usage Improper",
         "Unspecified",
         "NO THIRD VEHICLE",
         "NO FOURTH VEHICLE",
         "NO FIFTH VEHICLE",
         "4486934",
         "Station Wagon/Sport Utility Vehicle",
         "NO SECOND VEHICLE",
         "NO THIRD VEHICLE",
         "NO FOURTH VEHICLE",
         "NO FIFTH VEHICLE"
        ],
        [
         "17",
         "12/14/2021",
         "16:50",
         "QUEENS",
         "11413.0",
         "40.675884",
         "-73.75577",
         "(40.675884, -73.75577)",
         "SPRINGFIELD BOULEVARD",
         "EAST GATE PLAZA",
         "0.0",
         "0.0",
         "0",
         "0",
         "0",
         "0",
         "0",
         "0",
         "Turning Improperly",
         "Unspecified",
         "NO THIRD VEHICLE",
         "NO FOURTH VEHICLE",
         "NO FIFTH VEHICLE",
         "4487127",
         "Sedan",
         "Station Wagon/Sport Utility Vehicle",
         "NO THIRD VEHICLE",
         "NO FOURTH VEHICLE",
         "NO FIFTH VEHICLE"
        ],
        [
         "18",
         "12/14/2021",
         "8:30",
         "UNKNOWN",
         "UNKNOWN",
         "0.0",
         "0.0",
         "UNKNOWN",
         "broadway",
         "west 80 street -west 81 street",
         "0.0",
         "0.0",
         "0",
         "0",
         "0",
         "0",
         "0",
         "0",
         "Unsafe Lane Changing",
         "Unspecified",
         "NO THIRD VEHICLE",
         "NO FOURTH VEHICLE",
         "NO FIFTH VEHICLE",
         "4486634",
         "Station Wagon/Sport Utility Vehicle",
         "Sedan",
         "NO THIRD VEHICLE",
         "NO FOURTH VEHICLE",
         "NO FIFTH VEHICLE"
        ],
        [
         "19",
         "12/14/2021",
         "0:59",
         "UNKNOWN",
         "UNKNOWN",
         "40.59662",
         "-74.00231",
         "(40.59662, -74.00231)",
         "BELT PARKWAY",
         "UNKNOWN",
         "0.0",
         "0.0",
         "0",
         "0",
         "0",
         "0",
         "0",
         "0",
         "Unsafe Speed",
         "NO SECOND VEHICLE",
         "NO THIRD VEHICLE",
         "NO FOURTH VEHICLE",
         "NO FIFTH VEHICLE",
         "4486564",
         "Sedan",
         "NO SECOND VEHICLE",
         "NO THIRD VEHICLE",
         "NO FOURTH VEHICLE",
         "NO FIFTH VEHICLE"
        ],
        [
         "20",
         "12/14/2021",
         "23:10",
         "QUEENS",
         "11434.0",
         "40.66684",
         "-73.78941",
         "(40.66684, -73.78941)",
         "NORTH CONDUIT AVENUE",
         "150 STREET",
         "2.0",
         "0.0",
         "0",
         "0",
         "0",
         "0",
         "2",
         "0",
         "Reaction to Uninvolved Vehicle",
         "Unspecified",
         "NO THIRD VEHICLE",
         "NO FOURTH VEHICLE",
         "NO FIFTH VEHICLE",
         "4486635",
         "Sedan",
         "Sedan",
         "NO THIRD VEHICLE",
         "NO FOURTH VEHICLE",
         "NO FIFTH VEHICLE"
        ],
        [
         "21",
         "12/14/2021",
         "17:58",
         "BROOKLYN",
         "11217.0",
         "40.68158",
         "-73.97463",
         "(40.68158, -73.97463)",
         "UNKNOWN",
         "UNKNOWN",
         "0.0",
         "0.0",
         "0",
         "0",
         "0",
         "0",
         "0",
         "0",
         "Passing Too Closely",
         "Unspecified",
         "NO THIRD VEHICLE",
         "NO FOURTH VEHICLE",
         "NO FIFTH VEHICLE",
         "4486604",
         "Tanker",
         "Station Wagon/Sport Utility Vehicle",
         "NO THIRD VEHICLE",
         "NO FOURTH VEHICLE",
         "NO FIFTH VEHICLE"
        ],
        [
         "22",
         "12/14/2021",
         "20:03",
         "BROOKLYN",
         "11226.0",
         "40.65068",
         "-73.95881",
         "(40.65068, -73.95881)",
         "UNKNOWN",
         "UNKNOWN",
         "4.0",
         "0.0",
         "0",
         "0",
         "0",
         "0",
         "4",
         "0",
         "Steering Failure",
         "NO SECOND VEHICLE",
         "NO THIRD VEHICLE",
         "NO FOURTH VEHICLE",
         "NO FIFTH VEHICLE",
         "4486991",
         "Sedan",
         "NO SECOND VEHICLE",
         "NO THIRD VEHICLE",
         "NO FOURTH VEHICLE",
         "NO FIFTH VEHICLE"
        ],
        [
         "23",
         "12/14/2021",
         "1:28",
         "UNKNOWN",
         "UNKNOWN",
         "0.0",
         "0.0",
         "UNKNOWN",
         "MEEKER AVENUE",
         "LORIMER STREET",
         "3.0",
         "0.0",
         "0",
         "0",
         "0",
         "0",
         "3",
         "0",
         "Traffic Control Disregarded",
         "Unspecified",
         "NO THIRD VEHICLE",
         "NO FOURTH VEHICLE",
         "NO FIFTH VEHICLE",
         "4486284",
         "Station Wagon/Sport Utility Vehicle",
         "Station Wagon/Sport Utility Vehicle",
         "NO THIRD VEHICLE",
         "NO FOURTH VEHICLE",
         "NO FIFTH VEHICLE"
        ],
        [
         "24",
         "12/11/2021",
         "19:43",
         "BRONX",
         "10463.0",
         "40.87262",
         "-73.904686",
         "(40.87262, -73.904686)",
         "WEST KINGSBRIDGE ROAD",
         "HEATH AVENUE",
         "1.0",
         "0.0",
         "0",
         "0",
         "0",
         "0",
         "1",
         "0",
         "Unspecified",
         "Unspecified",
         "NO THIRD VEHICLE",
         "NO FOURTH VEHICLE",
         "NO FIFTH VEHICLE",
         "4487040",
         "Station Wagon/Sport Utility Vehicle",
         "Sedan",
         "NO THIRD VEHICLE",
         "NO FOURTH VEHICLE",
         "NO FIFTH VEHICLE"
        ],
        [
         "25",
         "12/14/2021",
         "14:30",
         "UNKNOWN",
         "UNKNOWN",
         "40.783268",
         "-73.82485",
         "(40.783268, -73.82485)",
         "WHITESTONE EXPRESSWAY",
         "UNKNOWN",
         "0.0",
         "0.0",
         "0",
         "0",
         "0",
         "0",
         "0",
         "0",
         "Following Too Closely",
         "Unspecified",
         "Unspecified",
         "NO FOURTH VEHICLE",
         "NO FIFTH VEHICLE",
         "4486537",
         "Station Wagon/Sport Utility Vehicle",
         "Sedan",
         "Sedan",
         "NO FOURTH VEHICLE",
         "NO FIFTH VEHICLE"
        ],
        [
         "26",
         "12/11/2021",
         "4:45",
         "MANHATTAN",
         "10001.0",
         "40.748917",
         "-73.993546",
         "(40.748917, -73.993546)",
         "UNKNOWN",
         "UNKNOWN",
         "0.0",
         "0.0",
         "0",
         "0",
         "0",
         "0",
         "0",
         "0",
         "Following Too Closely",
         "Unspecified",
         "NO THIRD VEHICLE",
         "NO FOURTH VEHICLE",
         "NO FIFTH VEHICLE",
         "4486905",
         "Station Wagon/Sport Utility Vehicle",
         "NO SECOND VEHICLE",
         "NO THIRD VEHICLE",
         "NO FOURTH VEHICLE",
         "NO FIFTH VEHICLE"
        ],
        [
         "27",
         "12/14/2021",
         "5:46",
         "UNKNOWN",
         "UNKNOWN",
         "40.744644",
         "-73.77041",
         "(40.744644, -73.77041)",
         "LONG ISLAND EXPRESSWAY",
         "UNKNOWN",
         "1.0",
         "0.0",
         "0",
         "0",
         "0",
         "0",
         "1",
         "0",
         "Other Vehicular",
         "Other Vehicular",
         "NO THIRD VEHICLE",
         "NO FOURTH VEHICLE",
         "NO FIFTH VEHICLE",
         "4487122",
         "Station Wagon/Sport Utility Vehicle",
         "Station Wagon/Sport Utility Vehicle",
         "NO THIRD VEHICLE",
         "NO FOURTH VEHICLE",
         "NO FIFTH VEHICLE"
        ],
        [
         "28",
         "12/13/2021",
         "6:30",
         "QUEENS",
         "11372.0",
         "40.75373",
         "-73.88505",
         "(40.75373, -73.88505)",
         "82 STREET",
         "34 AVENUE",
         "0.0",
         "0.0",
         "0",
         "0",
         "0",
         "0",
         "0",
         "0",
         "Unspecified",
         "NO SECOND VEHICLE",
         "NO THIRD VEHICLE",
         "NO FOURTH VEHICLE",
         "NO FIFTH VEHICLE",
         "4486967",
         "Sedan",
         "NO SECOND VEHICLE",
         "NO THIRD VEHICLE",
         "NO FOURTH VEHICLE",
         "NO FIFTH VEHICLE"
        ],
        [
         "29",
         "12/14/2021",
         "3:43",
         "UNKNOWN",
         "UNKNOWN",
         "40.804375",
         "-73.93742",
         "(40.804375, -73.93742)",
         "LEXINGTON AVENUE",
         "UNKNOWN",
         "1.0",
         "0.0",
         "1",
         "0",
         "0",
         "0",
         "0",
         "0",
         "Unspecified",
         "NO SECOND VEHICLE",
         "NO THIRD VEHICLE",
         "NO FOURTH VEHICLE",
         "NO FIFTH VEHICLE",
         "4486304",
         "Station Wagon/Sport Utility Vehicle",
         "NO SECOND VEHICLE",
         "NO THIRD VEHICLE",
         "NO FOURTH VEHICLE",
         "NO FIFTH VEHICLE"
        ],
        [
         "30",
         "12/13/2021",
         "17:40",
         "STATEN ISLAND",
         "10301.0",
         "40.63165",
         "-74.08762",
         "(40.63165, -74.08762)",
         "VICTORY BOULEVARD",
         "WOODSTOCK AVENUE",
         "1.0",
         "0.0",
         "0",
         "0",
         "0",
         "0",
         "1",
         "0",
         "Unspecified",
         "Unspecified",
         "NO THIRD VEHICLE",
         "NO FOURTH VEHICLE",
         "NO FIFTH VEHICLE",
         "4487001",
         "Sedan",
         "Sedan",
         "NO THIRD VEHICLE",
         "NO FOURTH VEHICLE",
         "NO FIFTH VEHICLE"
        ],
        [
         "31",
         "12/14/2021",
         "17:31",
         "BROOKLYN",
         "11230.0",
         "40.623104",
         "-73.95809",
         "(40.623104, -73.95809)",
         "EAST 18 STREET",
         "AVENUE K",
         "1.0",
         "0.0",
         "1",
         "0",
         "0",
         "0",
         "0",
         "0",
         "Unspecified",
         "NO SECOND VEHICLE",
         "NO THIRD VEHICLE",
         "NO FOURTH VEHICLE",
         "NO FIFTH VEHICLE",
         "4486516",
         "Sedan",
         "NO SECOND VEHICLE",
         "NO THIRD VEHICLE",
         "NO FOURTH VEHICLE",
         "NO FIFTH VEHICLE"
        ],
        [
         "32",
         "12/14/2021",
         "20:13",
         "BROOKLYN",
         "11215.0",
         "40.66576",
         "-73.9845",
         "(40.66576, -73.9845)",
         "UNKNOWN",
         "UNKNOWN",
         "0.0",
         "0.0",
         "0",
         "0",
         "0",
         "0",
         "0",
         "0",
         "Passing Too Closely",
         "Unspecified",
         "NO THIRD VEHICLE",
         "NO FOURTH VEHICLE",
         "NO FIFTH VEHICLE",
         "4486605",
         "Sedan",
         "NO SECOND VEHICLE",
         "NO THIRD VEHICLE",
         "NO FOURTH VEHICLE",
         "NO FIFTH VEHICLE"
        ],
        [
         "33",
         "12/14/2021",
         "12:54",
         "BROOKLYN",
         "11217.0",
         "40.687534",
         "-73.9775",
         "(40.687534, -73.9775)",
         "FULTON STREET",
         "SAINT FELIX STREET",
         "1.0",
         "0.0",
         "0",
         "0",
         "1",
         "0",
         "0",
         "0",
         "Unspecified",
         "Unspecified",
         "NO THIRD VEHICLE",
         "NO FOURTH VEHICLE",
         "NO FIFTH VEHICLE",
         "4487052",
         "Sedan",
         "Bike",
         "NO THIRD VEHICLE",
         "NO FOURTH VEHICLE",
         "NO FIFTH VEHICLE"
        ],
        [
         "34",
         "12/14/2021",
         "17:15",
         "BROOKLYN",
         "11211.0",
         "40.710957",
         "-73.951126",
         "(40.710957, -73.951126)",
         "GRAND STREET",
         "UNION AVENUE",
         "1.0",
         "0.0",
         "0",
         "0",
         "0",
         "0",
         "1",
         "0",
         "Passing or Lane Usage Improper",
         "Unspecified",
         "NO THIRD VEHICLE",
         "NO FOURTH VEHICLE",
         "NO FIFTH VEHICLE",
         "4486556",
         "Bus",
         "Station Wagon/Sport Utility Vehicle",
         "NO THIRD VEHICLE",
         "NO FOURTH VEHICLE",
         "NO FIFTH VEHICLE"
        ],
        [
         "35",
         "12/14/2021",
         "22:49",
         "BRONX",
         "10455.0",
         "40.81813",
         "-73.910126",
         "(40.81813, -73.910126)",
         "UNKNOWN",
         "UNKNOWN",
         "0.0",
         "0.0",
         "0",
         "0",
         "0",
         "0",
         "0",
         "0",
         "Driver Inattention/Distraction",
         "Unspecified",
         "NO THIRD VEHICLE",
         "NO FOURTH VEHICLE",
         "NO FIFTH VEHICLE",
         "4486875",
         "Taxi",
         "NO SECOND VEHICLE",
         "NO THIRD VEHICLE",
         "NO FOURTH VEHICLE",
         "NO FIFTH VEHICLE"
        ],
        [
         "36",
         "12/12/2021",
         "9:00",
         "QUEENS",
         "11385.0",
         "40.70447",
         "-73.90148",
         "(40.70447, -73.90148)",
         "UNKNOWN",
         "UNKNOWN",
         "0.0",
         "0.0",
         "0",
         "0",
         "0",
         "0",
         "0",
         "0",
         "Passing Too Closely",
         "Unspecified",
         "NO THIRD VEHICLE",
         "NO FOURTH VEHICLE",
         "NO FIFTH VEHICLE",
         "4486933",
         "Station Wagon/Sport Utility Vehicle",
         "NO SECOND VEHICLE",
         "NO THIRD VEHICLE",
         "NO FOURTH VEHICLE",
         "NO FIFTH VEHICLE"
        ],
        [
         "37",
         "12/14/2021",
         "16:25",
         "UNKNOWN",
         "UNKNOWN",
         "40.784615",
         "-73.953964",
         "(40.784615, -73.953964)",
         "EAST 93 STREET",
         "UNKNOWN",
         "1.0",
         "0.0",
         "0",
         "0",
         "1",
         "0",
         "0",
         "0",
         "Driver Inattention/Distraction",
         "Driver Inattention/Distraction",
         "NO THIRD VEHICLE",
         "NO FOURTH VEHICLE",
         "NO FIFTH VEHICLE",
         "4486581",
         "Van",
         "Bike",
         "NO THIRD VEHICLE",
         "NO FOURTH VEHICLE",
         "NO FIFTH VEHICLE"
        ],
        [
         "38",
         "11/02/2023",
         "9:20",
         "UNKNOWN",
         "UNKNOWN",
         "0.0",
         "0.0",
         "UNKNOWN",
         "35 AVENUE",
         "UNKNOWN",
         "0.0",
         "0.0",
         "0",
         "0",
         "0",
         "0",
         "0",
         "0",
         "Accelerator Defective",
         "NO SECOND VEHICLE",
         "NO THIRD VEHICLE",
         "NO FOURTH VEHICLE",
         "NO FIFTH VEHICLE",
         "4675877",
         "Station Wagon/Sport Utility Vehicle",
         "NO SECOND VEHICLE",
         "NO THIRD VEHICLE",
         "NO FOURTH VEHICLE",
         "NO FIFTH VEHICLE"
        ],
        [
         "39",
         "04/14/2021",
         "14:30",
         "UNKNOWN",
         "UNKNOWN",
         "0.0",
         "0.0",
         "UNKNOWN",
         "EASTCHESTER ROAD",
         "PELHAM PARKWAY NORTH",
         "0.0",
         "0.0",
         "0",
         "0",
         "0",
         "0",
         "0",
         "0",
         "Driver Inattention/Distraction",
         "Unspecified",
         "NO THIRD VEHICLE",
         "NO FOURTH VEHICLE",
         "NO FIFTH VEHICLE",
         "4407520",
         "Bus",
         "NO SECOND VEHICLE",
         "NO THIRD VEHICLE",
         "NO FOURTH VEHICLE",
         "NO FIFTH VEHICLE"
        ],
        [
         "41",
         "04/27/2023",
         "15:40",
         "UNKNOWN",
         "UNKNOWN",
         "0.0",
         "0.0",
         "UNKNOWN",
         "WILLIAMSBURG BRIDGE OUTER ROADWA",
         "UNKNOWN",
         "1.0",
         "0.0",
         "0",
         "0",
         "0",
         "0",
         "1",
         "0",
         "Driver Inattention/Distraction",
         "Unspecified",
         "NO THIRD VEHICLE",
         "NO FOURTH VEHICLE",
         "NO FIFTH VEHICLE",
         "4624078",
         "Sedan",
         "Sedan",
         "NO THIRD VEHICLE",
         "NO FOURTH VEHICLE",
         "NO FIFTH VEHICLE"
        ],
        [
         "42",
         "09/22/2022",
         "16:16",
         "QUEENS",
         "11418.0",
         "40.698257",
         "-73.82632",
         "(40.698257, -73.82632)",
         "123 STREET",
         "89 AVENUE",
         "1.0",
         "0.0",
         "0",
         "0",
         "0",
         "0",
         "0",
         "0",
         "Passing or Lane Usage Improper",
         "Unspecified",
         "NO THIRD VEHICLE",
         "NO FOURTH VEHICLE",
         "NO FIFTH VEHICLE",
         "4566408",
         "Sedan",
         "E-Scooter",
         "NO THIRD VEHICLE",
         "NO FOURTH VEHICLE",
         "NO FIFTH VEHICLE"
        ],
        [
         "43",
         "01/12/2023",
         "21:00",
         "BROOKLYN",
         "11208.0",
         "0.0",
         "0.0",
         "UNKNOWN",
         "UNKNOWN",
         "UNKNOWN",
         "0.0",
         "0.0",
         "0",
         "0",
         "0",
         "0",
         "0",
         "0",
         "Driver Inattention/Distraction",
         "Unspecified",
         "NO THIRD VEHICLE",
         "NO FOURTH VEHICLE",
         "NO FIFTH VEHICLE",
         "4598234",
         "Station Wagon/Sport Utility Vehicle",
         "NO SECOND VEHICLE",
         "NO THIRD VEHICLE",
         "NO FOURTH VEHICLE",
         "NO FIFTH VEHICLE"
        ],
        [
         "44",
         "06/29/2022",
         "16:00",
         "UNKNOWN",
         "UNKNOWN",
         "0.0",
         "0.0",
         "UNKNOWN",
         "WILLIAMSBURG BRIDGE OUTER ROADWA",
         "UNKNOWN",
         "1.0",
         "0.0",
         "0",
         "0",
         "0",
         "0",
         "1",
         "0",
         "Driver Inattention/Distraction",
         "Unspecified",
         "NO THIRD VEHICLE",
         "NO FOURTH VEHICLE",
         "NO FIFTH VEHICLE",
         "4542336",
         "Motorscooter",
         "Station Wagon/Sport Utility Vehicle",
         "NO THIRD VEHICLE",
         "NO FOURTH VEHICLE",
         "NO FIFTH VEHICLE"
        ],
        [
         "45",
         "04/15/2021",
         "16:15",
         "UNKNOWN",
         "UNKNOWN",
         "0.0",
         "0.0",
         "UNKNOWN",
         "HUTCHINSON RIVER PARKWAY",
         "UNKNOWN",
         "0.0",
         "0.0",
         "0",
         "0",
         "0",
         "0",
         "0",
         "0",
         "Pavement Slippery",
         "NO SECOND VEHICLE",
         "NO THIRD VEHICLE",
         "NO FOURTH VEHICLE",
         "NO FIFTH VEHICLE",
         "4407665",
         "Station Wagon/Sport Utility Vehicle",
         "NO SECOND VEHICLE",
         "NO THIRD VEHICLE",
         "NO FOURTH VEHICLE",
         "NO FIFTH VEHICLE"
        ],
        [
         "46",
         "07/07/2021",
         "11:42",
         "UNKNOWN",
         "UNKNOWN",
         "0.0",
         "0.0",
         "UNKNOWN",
         "THROGS NECK BRIDGE",
         "UNKNOWN",
         "1.0",
         "0.0",
         "0",
         "0",
         "0",
         "0",
         "1",
         "0",
         "Unsafe Lane Changing",
         "Unspecified",
         "NO THIRD VEHICLE",
         "NO FOURTH VEHICLE",
         "NO FIFTH VEHICLE",
         "4456591",
         "Sedan",
         "Sedan",
         "NO THIRD VEHICLE",
         "NO FOURTH VEHICLE",
         "NO FIFTH VEHICLE"
        ],
        [
         "47",
         "04/27/2023",
         "22:13",
         "UNKNOWN",
         "UNKNOWN",
         "0.0",
         "0.0",
         "UNKNOWN",
         "PELHAM PARKWAY SOUTH",
         "WILLIAMSBRIDGE ROAD",
         "0.0",
         "0.0",
         "0",
         "0",
         "0",
         "0",
         "0",
         "0",
         "Driver Inattention/Distraction",
         "Unspecified",
         "NO THIRD VEHICLE",
         "NO FOURTH VEHICLE",
         "NO FIFTH VEHICLE",
         "4624101",
         "Sedan",
         "NO SECOND VEHICLE",
         "NO THIRD VEHICLE",
         "NO FOURTH VEHICLE",
         "NO FIFTH VEHICLE"
        ],
        [
         "48",
         "07/12/2022",
         "17:50",
         "BROOKLYN",
         "11225.0",
         "40.663303",
         "-73.96049",
         "(40.663303, -73.96049)",
         "UNKNOWN",
         "UNKNOWN",
         "0.0",
         "0.0",
         "0",
         "0",
         "0",
         "0",
         "0",
         "0",
         "Oversized Vehicle",
         "Unspecified",
         "NO THIRD VEHICLE",
         "NO FOURTH VEHICLE",
         "NO FIFTH VEHICLE",
         "4545699",
         "Sedan",
         "NO SECOND VEHICLE",
         "NO THIRD VEHICLE",
         "NO FOURTH VEHICLE",
         "NO FIFTH VEHICLE"
        ],
        [
         "49",
         "03/23/2022",
         "10:00",
         "UNKNOWN",
         "UNKNOWN",
         "0.0",
         "0.0",
         "UNKNOWN",
         "UNKNOWN",
         "UNKNOWN",
         "0.0",
         "0.0",
         "0",
         "0",
         "0",
         "0",
         "0",
         "0",
         "Pedestrian/Bicyclist/Other Pedestrian Error/Confusion",
         "NO SECOND VEHICLE",
         "NO THIRD VEHICLE",
         "NO FOURTH VEHICLE",
         "NO FIFTH VEHICLE",
         "4512922",
         "Bike",
         "NO SECOND VEHICLE",
         "NO THIRD VEHICLE",
         "NO FOURTH VEHICLE",
         "NO FIFTH VEHICLE"
        ],
        [
         "50",
         "07/09/2021",
         "0:43",
         "UNKNOWN",
         "UNKNOWN",
         "40.720535",
         "-73.88885",
         "(40.720535, -73.88885)",
         "ELIOT AVENUE",
         "UNKNOWN",
         "0.0",
         "1.0",
         "0",
         "1",
         "0",
         "0",
         "0",
         "0",
         "Unspecified",
         "NO SECOND VEHICLE",
         "NO THIRD VEHICLE",
         "NO FOURTH VEHICLE",
         "NO FIFTH VEHICLE",
         "4456659",
         "Bus",
         "NO SECOND VEHICLE",
         "NO THIRD VEHICLE",
         "NO FOURTH VEHICLE",
         "NO FIFTH VEHICLE"
        ],
        [
         "51",
         "04/24/2022",
         "16:45",
         "UNKNOWN",
         "UNKNOWN",
         "40.607685",
         "-74.13892",
         "(40.607685, -74.13892)",
         "STATEN ISLAND EXPRESSWAY",
         "UNKNOWN",
         "1.0",
         "0.0",
         "0",
         "0",
         "0",
         "0",
         "1",
         "0",
         "Driver Inattention/Distraction",
         "Unspecified",
         "NO THIRD VEHICLE",
         "NO FOURTH VEHICLE",
         "NO FIFTH VEHICLE",
         "4521660",
         "Station Wagon/Sport Utility Vehicle",
         "Station Wagon/Sport Utility Vehicle",
         "NO THIRD VEHICLE",
         "NO FOURTH VEHICLE",
         "NO FIFTH VEHICLE"
        ]
       ],
       "shape": {
        "columns": 28,
        "rows": 2178036
       }
      },
      "text/html": [
       "<div>\n",
       "<style scoped>\n",
       "    .dataframe tbody tr th:only-of-type {\n",
       "        vertical-align: middle;\n",
       "    }\n",
       "\n",
       "    .dataframe tbody tr th {\n",
       "        vertical-align: top;\n",
       "    }\n",
       "\n",
       "    .dataframe thead th {\n",
       "        text-align: right;\n",
       "    }\n",
       "</style>\n",
       "<table border=\"1\" class=\"dataframe\">\n",
       "  <thead>\n",
       "    <tr style=\"text-align: right;\">\n",
       "      <th></th>\n",
       "      <th>CRASH DATE</th>\n",
       "      <th>CRASH TIME</th>\n",
       "      <th>BOROUGH</th>\n",
       "      <th>ZIP CODE</th>\n",
       "      <th>LATITUDE</th>\n",
       "      <th>LONGITUDE</th>\n",
       "      <th>LOCATION</th>\n",
       "      <th>ON STREET NAME</th>\n",
       "      <th>CROSS STREET NAME</th>\n",
       "      <th>NUMBER OF PERSONS INJURED</th>\n",
       "      <th>...</th>\n",
       "      <th>CONTRIBUTING FACTOR VEHICLE 2</th>\n",
       "      <th>CONTRIBUTING FACTOR VEHICLE 3</th>\n",
       "      <th>CONTRIBUTING FACTOR VEHICLE 4</th>\n",
       "      <th>CONTRIBUTING FACTOR VEHICLE 5</th>\n",
       "      <th>COLLISION_ID</th>\n",
       "      <th>VEHICLE TYPE CODE 1</th>\n",
       "      <th>VEHICLE TYPE CODE 2</th>\n",
       "      <th>VEHICLE TYPE CODE 3</th>\n",
       "      <th>VEHICLE TYPE CODE 4</th>\n",
       "      <th>VEHICLE TYPE CODE 5</th>\n",
       "    </tr>\n",
       "  </thead>\n",
       "  <tbody>\n",
       "    <tr>\n",
       "      <th>0</th>\n",
       "      <td>09/11/2021</td>\n",
       "      <td>2:39</td>\n",
       "      <td>UNKNOWN</td>\n",
       "      <td>UNKNOWN</td>\n",
       "      <td>0.000000</td>\n",
       "      <td>0.000000</td>\n",
       "      <td>UNKNOWN</td>\n",
       "      <td>WHITESTONE EXPRESSWAY</td>\n",
       "      <td>20 AVENUE</td>\n",
       "      <td>2.0</td>\n",
       "      <td>...</td>\n",
       "      <td>Unspecified</td>\n",
       "      <td>NO THIRD VEHICLE</td>\n",
       "      <td>NO FOURTH VEHICLE</td>\n",
       "      <td>NO FIFTH VEHICLE</td>\n",
       "      <td>4455765</td>\n",
       "      <td>Sedan</td>\n",
       "      <td>Sedan</td>\n",
       "      <td>NO THIRD VEHICLE</td>\n",
       "      <td>NO FOURTH VEHICLE</td>\n",
       "      <td>NO FIFTH VEHICLE</td>\n",
       "    </tr>\n",
       "    <tr>\n",
       "      <th>1</th>\n",
       "      <td>03/26/2022</td>\n",
       "      <td>11:45</td>\n",
       "      <td>UNKNOWN</td>\n",
       "      <td>UNKNOWN</td>\n",
       "      <td>0.000000</td>\n",
       "      <td>0.000000</td>\n",
       "      <td>UNKNOWN</td>\n",
       "      <td>QUEENSBORO BRIDGE UPPER</td>\n",
       "      <td>UNKNOWN</td>\n",
       "      <td>1.0</td>\n",
       "      <td>...</td>\n",
       "      <td>NO SECOND VEHICLE</td>\n",
       "      <td>NO THIRD VEHICLE</td>\n",
       "      <td>NO FOURTH VEHICLE</td>\n",
       "      <td>NO FIFTH VEHICLE</td>\n",
       "      <td>4513547</td>\n",
       "      <td>Sedan</td>\n",
       "      <td>NO SECOND VEHICLE</td>\n",
       "      <td>NO THIRD VEHICLE</td>\n",
       "      <td>NO FOURTH VEHICLE</td>\n",
       "      <td>NO FIFTH VEHICLE</td>\n",
       "    </tr>\n",
       "    <tr>\n",
       "      <th>2</th>\n",
       "      <td>11/01/2023</td>\n",
       "      <td>1:29</td>\n",
       "      <td>BROOKLYN</td>\n",
       "      <td>11230.0</td>\n",
       "      <td>40.621790</td>\n",
       "      <td>-73.970024</td>\n",
       "      <td>(40.62179, -73.970024)</td>\n",
       "      <td>OCEAN PARKWAY</td>\n",
       "      <td>AVENUE K</td>\n",
       "      <td>1.0</td>\n",
       "      <td>...</td>\n",
       "      <td>Unspecified</td>\n",
       "      <td>Unspecified</td>\n",
       "      <td>NO FOURTH VEHICLE</td>\n",
       "      <td>NO FIFTH VEHICLE</td>\n",
       "      <td>4675373</td>\n",
       "      <td>Moped</td>\n",
       "      <td>Sedan</td>\n",
       "      <td>Sedan</td>\n",
       "      <td>NO FOURTH VEHICLE</td>\n",
       "      <td>NO FIFTH VEHICLE</td>\n",
       "    </tr>\n",
       "    <tr>\n",
       "      <th>3</th>\n",
       "      <td>06/29/2022</td>\n",
       "      <td>6:55</td>\n",
       "      <td>UNKNOWN</td>\n",
       "      <td>UNKNOWN</td>\n",
       "      <td>0.000000</td>\n",
       "      <td>0.000000</td>\n",
       "      <td>UNKNOWN</td>\n",
       "      <td>THROGS NECK BRIDGE</td>\n",
       "      <td>UNKNOWN</td>\n",
       "      <td>0.0</td>\n",
       "      <td>...</td>\n",
       "      <td>Unspecified</td>\n",
       "      <td>NO THIRD VEHICLE</td>\n",
       "      <td>NO FOURTH VEHICLE</td>\n",
       "      <td>NO FIFTH VEHICLE</td>\n",
       "      <td>4541903</td>\n",
       "      <td>Sedan</td>\n",
       "      <td>Pick-up Truck</td>\n",
       "      <td>NO THIRD VEHICLE</td>\n",
       "      <td>NO FOURTH VEHICLE</td>\n",
       "      <td>NO FIFTH VEHICLE</td>\n",
       "    </tr>\n",
       "    <tr>\n",
       "      <th>4</th>\n",
       "      <td>09/21/2022</td>\n",
       "      <td>13:21</td>\n",
       "      <td>UNKNOWN</td>\n",
       "      <td>UNKNOWN</td>\n",
       "      <td>0.000000</td>\n",
       "      <td>0.000000</td>\n",
       "      <td>UNKNOWN</td>\n",
       "      <td>BROOKLYN BRIDGE</td>\n",
       "      <td>UNKNOWN</td>\n",
       "      <td>0.0</td>\n",
       "      <td>...</td>\n",
       "      <td>Unspecified</td>\n",
       "      <td>NO THIRD VEHICLE</td>\n",
       "      <td>NO FOURTH VEHICLE</td>\n",
       "      <td>NO FIFTH VEHICLE</td>\n",
       "      <td>4566131</td>\n",
       "      <td>Station Wagon/Sport Utility Vehicle</td>\n",
       "      <td>NO SECOND VEHICLE</td>\n",
       "      <td>NO THIRD VEHICLE</td>\n",
       "      <td>NO FOURTH VEHICLE</td>\n",
       "      <td>NO FIFTH VEHICLE</td>\n",
       "    </tr>\n",
       "    <tr>\n",
       "      <th>...</th>\n",
       "      <td>...</td>\n",
       "      <td>...</td>\n",
       "      <td>...</td>\n",
       "      <td>...</td>\n",
       "      <td>...</td>\n",
       "      <td>...</td>\n",
       "      <td>...</td>\n",
       "      <td>...</td>\n",
       "      <td>...</td>\n",
       "      <td>...</td>\n",
       "      <td>...</td>\n",
       "      <td>...</td>\n",
       "      <td>...</td>\n",
       "      <td>...</td>\n",
       "      <td>...</td>\n",
       "      <td>...</td>\n",
       "      <td>...</td>\n",
       "      <td>...</td>\n",
       "      <td>...</td>\n",
       "      <td>...</td>\n",
       "      <td>...</td>\n",
       "    </tr>\n",
       "    <tr>\n",
       "      <th>2196749</th>\n",
       "      <td>08/05/2025</td>\n",
       "      <td>18:55</td>\n",
       "      <td>STATEN ISLAND</td>\n",
       "      <td>10314.0</td>\n",
       "      <td>40.606860</td>\n",
       "      <td>-74.115790</td>\n",
       "      <td>(40.60686, -74.11579)</td>\n",
       "      <td>TODT HILL RD</td>\n",
       "      <td>FINE BLVD</td>\n",
       "      <td>1.0</td>\n",
       "      <td>...</td>\n",
       "      <td>Unspecified</td>\n",
       "      <td>NO THIRD VEHICLE</td>\n",
       "      <td>NO FOURTH VEHICLE</td>\n",
       "      <td>NO FIFTH VEHICLE</td>\n",
       "      <td>4833195</td>\n",
       "      <td>Station Wagon/Sport Utility Vehicle</td>\n",
       "      <td>Station Wagon/Sport Utility Vehicle</td>\n",
       "      <td>NO THIRD VEHICLE</td>\n",
       "      <td>NO FOURTH VEHICLE</td>\n",
       "      <td>NO FIFTH VEHICLE</td>\n",
       "    </tr>\n",
       "    <tr>\n",
       "      <th>2196750</th>\n",
       "      <td>08/05/2025</td>\n",
       "      <td>6:30</td>\n",
       "      <td>UNKNOWN</td>\n",
       "      <td>UNKNOWN</td>\n",
       "      <td>40.743477</td>\n",
       "      <td>-73.732860</td>\n",
       "      <td>(40.743477, -73.73286)</td>\n",
       "      <td>GRAND CENTRAL PKWY</td>\n",
       "      <td>UNKNOWN</td>\n",
       "      <td>0.0</td>\n",
       "      <td>...</td>\n",
       "      <td>Unspecified</td>\n",
       "      <td>NO THIRD VEHICLE</td>\n",
       "      <td>NO FOURTH VEHICLE</td>\n",
       "      <td>NO FIFTH VEHICLE</td>\n",
       "      <td>4833298</td>\n",
       "      <td>Station Wagon/Sport Utility Vehicle</td>\n",
       "      <td>Station Wagon/Sport Utility Vehicle</td>\n",
       "      <td>NO THIRD VEHICLE</td>\n",
       "      <td>NO FOURTH VEHICLE</td>\n",
       "      <td>NO FIFTH VEHICLE</td>\n",
       "    </tr>\n",
       "    <tr>\n",
       "      <th>2196751</th>\n",
       "      <td>08/05/2025</td>\n",
       "      <td>11:14</td>\n",
       "      <td>UNKNOWN</td>\n",
       "      <td>UNKNOWN</td>\n",
       "      <td>40.786358</td>\n",
       "      <td>-73.794685</td>\n",
       "      <td>(40.786358, -73.794685)</td>\n",
       "      <td>CROSS ISLAND PARKWAY</td>\n",
       "      <td>UNKNOWN</td>\n",
       "      <td>5.0</td>\n",
       "      <td>...</td>\n",
       "      <td>Unspecified</td>\n",
       "      <td>Unspecified</td>\n",
       "      <td>NO FOURTH VEHICLE</td>\n",
       "      <td>NO FIFTH VEHICLE</td>\n",
       "      <td>4833329</td>\n",
       "      <td>Sedan</td>\n",
       "      <td>Sedan</td>\n",
       "      <td>Pick-up Truck</td>\n",
       "      <td>NO FOURTH VEHICLE</td>\n",
       "      <td>NO FIFTH VEHICLE</td>\n",
       "    </tr>\n",
       "    <tr>\n",
       "      <th>2196752</th>\n",
       "      <td>08/05/2025</td>\n",
       "      <td>11:28</td>\n",
       "      <td>BROOKLYN</td>\n",
       "      <td>11226.0</td>\n",
       "      <td>40.652645</td>\n",
       "      <td>-73.949770</td>\n",
       "      <td>(40.652645, -73.94977)</td>\n",
       "      <td>NOSTRAND AVE</td>\n",
       "      <td>LINDEN BLVD</td>\n",
       "      <td>0.0</td>\n",
       "      <td>...</td>\n",
       "      <td>NO SECOND VEHICLE</td>\n",
       "      <td>NO THIRD VEHICLE</td>\n",
       "      <td>NO FOURTH VEHICLE</td>\n",
       "      <td>NO FIFTH VEHICLE</td>\n",
       "      <td>4833168</td>\n",
       "      <td>Sedan</td>\n",
       "      <td>Sedan</td>\n",
       "      <td>NO THIRD VEHICLE</td>\n",
       "      <td>NO FOURTH VEHICLE</td>\n",
       "      <td>NO FIFTH VEHICLE</td>\n",
       "    </tr>\n",
       "    <tr>\n",
       "      <th>2196753</th>\n",
       "      <td>08/05/2025</td>\n",
       "      <td>17:18</td>\n",
       "      <td>UNKNOWN</td>\n",
       "      <td>UNKNOWN</td>\n",
       "      <td>40.835484</td>\n",
       "      <td>-73.949400</td>\n",
       "      <td>(40.835484, -73.9494)</td>\n",
       "      <td>HENRY HUDSON PARKWAY</td>\n",
       "      <td>UNKNOWN</td>\n",
       "      <td>1.0</td>\n",
       "      <td>...</td>\n",
       "      <td>Unspecified</td>\n",
       "      <td>NO THIRD VEHICLE</td>\n",
       "      <td>NO FOURTH VEHICLE</td>\n",
       "      <td>NO FIFTH VEHICLE</td>\n",
       "      <td>4833234</td>\n",
       "      <td>Sedan</td>\n",
       "      <td>Sedan</td>\n",
       "      <td>NO THIRD VEHICLE</td>\n",
       "      <td>NO FOURTH VEHICLE</td>\n",
       "      <td>NO FIFTH VEHICLE</td>\n",
       "    </tr>\n",
       "  </tbody>\n",
       "</table>\n",
       "<p>2178036 rows × 28 columns</p>\n",
       "</div>"
      ],
      "text/plain": [
       "         CRASH DATE CRASH TIME        BOROUGH ZIP CODE   LATITUDE  LONGITUDE  \\\n",
       "0        09/11/2021       2:39        UNKNOWN  UNKNOWN   0.000000   0.000000   \n",
       "1        03/26/2022      11:45        UNKNOWN  UNKNOWN   0.000000   0.000000   \n",
       "2        11/01/2023       1:29       BROOKLYN  11230.0  40.621790 -73.970024   \n",
       "3        06/29/2022       6:55        UNKNOWN  UNKNOWN   0.000000   0.000000   \n",
       "4        09/21/2022      13:21        UNKNOWN  UNKNOWN   0.000000   0.000000   \n",
       "...             ...        ...            ...      ...        ...        ...   \n",
       "2196749  08/05/2025      18:55  STATEN ISLAND  10314.0  40.606860 -74.115790   \n",
       "2196750  08/05/2025       6:30        UNKNOWN  UNKNOWN  40.743477 -73.732860   \n",
       "2196751  08/05/2025      11:14        UNKNOWN  UNKNOWN  40.786358 -73.794685   \n",
       "2196752  08/05/2025      11:28       BROOKLYN  11226.0  40.652645 -73.949770   \n",
       "2196753  08/05/2025      17:18        UNKNOWN  UNKNOWN  40.835484 -73.949400   \n",
       "\n",
       "                        LOCATION           ON STREET NAME CROSS STREET NAME  \\\n",
       "0                        UNKNOWN    WHITESTONE EXPRESSWAY         20 AVENUE   \n",
       "1                        UNKNOWN  QUEENSBORO BRIDGE UPPER           UNKNOWN   \n",
       "2         (40.62179, -73.970024)            OCEAN PARKWAY          AVENUE K   \n",
       "3                        UNKNOWN       THROGS NECK BRIDGE           UNKNOWN   \n",
       "4                        UNKNOWN          BROOKLYN BRIDGE           UNKNOWN   \n",
       "...                          ...                      ...               ...   \n",
       "2196749    (40.60686, -74.11579)             TODT HILL RD         FINE BLVD   \n",
       "2196750   (40.743477, -73.73286)       GRAND CENTRAL PKWY           UNKNOWN   \n",
       "2196751  (40.786358, -73.794685)     CROSS ISLAND PARKWAY           UNKNOWN   \n",
       "2196752   (40.652645, -73.94977)             NOSTRAND AVE       LINDEN BLVD   \n",
       "2196753    (40.835484, -73.9494)     HENRY HUDSON PARKWAY           UNKNOWN   \n",
       "\n",
       "         NUMBER OF PERSONS INJURED  ...  CONTRIBUTING FACTOR VEHICLE 2  \\\n",
       "0                              2.0  ...                    Unspecified   \n",
       "1                              1.0  ...              NO SECOND VEHICLE   \n",
       "2                              1.0  ...                    Unspecified   \n",
       "3                              0.0  ...                    Unspecified   \n",
       "4                              0.0  ...                    Unspecified   \n",
       "...                            ...  ...                            ...   \n",
       "2196749                        1.0  ...                    Unspecified   \n",
       "2196750                        0.0  ...                    Unspecified   \n",
       "2196751                        5.0  ...                    Unspecified   \n",
       "2196752                        0.0  ...              NO SECOND VEHICLE   \n",
       "2196753                        1.0  ...                    Unspecified   \n",
       "\n",
       "         CONTRIBUTING FACTOR VEHICLE 3  CONTRIBUTING FACTOR VEHICLE 4  \\\n",
       "0                     NO THIRD VEHICLE              NO FOURTH VEHICLE   \n",
       "1                     NO THIRD VEHICLE              NO FOURTH VEHICLE   \n",
       "2                          Unspecified              NO FOURTH VEHICLE   \n",
       "3                     NO THIRD VEHICLE              NO FOURTH VEHICLE   \n",
       "4                     NO THIRD VEHICLE              NO FOURTH VEHICLE   \n",
       "...                                ...                            ...   \n",
       "2196749               NO THIRD VEHICLE              NO FOURTH VEHICLE   \n",
       "2196750               NO THIRD VEHICLE              NO FOURTH VEHICLE   \n",
       "2196751                    Unspecified              NO FOURTH VEHICLE   \n",
       "2196752               NO THIRD VEHICLE              NO FOURTH VEHICLE   \n",
       "2196753               NO THIRD VEHICLE              NO FOURTH VEHICLE   \n",
       "\n",
       "         CONTRIBUTING FACTOR VEHICLE 5  COLLISION_ID  \\\n",
       "0                     NO FIFTH VEHICLE       4455765   \n",
       "1                     NO FIFTH VEHICLE       4513547   \n",
       "2                     NO FIFTH VEHICLE       4675373   \n",
       "3                     NO FIFTH VEHICLE       4541903   \n",
       "4                     NO FIFTH VEHICLE       4566131   \n",
       "...                                ...           ...   \n",
       "2196749               NO FIFTH VEHICLE       4833195   \n",
       "2196750               NO FIFTH VEHICLE       4833298   \n",
       "2196751               NO FIFTH VEHICLE       4833329   \n",
       "2196752               NO FIFTH VEHICLE       4833168   \n",
       "2196753               NO FIFTH VEHICLE       4833234   \n",
       "\n",
       "                         VEHICLE TYPE CODE 1  \\\n",
       "0                                      Sedan   \n",
       "1                                      Sedan   \n",
       "2                                      Moped   \n",
       "3                                      Sedan   \n",
       "4        Station Wagon/Sport Utility Vehicle   \n",
       "...                                      ...   \n",
       "2196749  Station Wagon/Sport Utility Vehicle   \n",
       "2196750  Station Wagon/Sport Utility Vehicle   \n",
       "2196751                                Sedan   \n",
       "2196752                                Sedan   \n",
       "2196753                                Sedan   \n",
       "\n",
       "                         VEHICLE TYPE CODE 2 VEHICLE TYPE CODE 3  \\\n",
       "0                                      Sedan    NO THIRD VEHICLE   \n",
       "1                          NO SECOND VEHICLE    NO THIRD VEHICLE   \n",
       "2                                      Sedan               Sedan   \n",
       "3                              Pick-up Truck    NO THIRD VEHICLE   \n",
       "4                          NO SECOND VEHICLE    NO THIRD VEHICLE   \n",
       "...                                      ...                 ...   \n",
       "2196749  Station Wagon/Sport Utility Vehicle    NO THIRD VEHICLE   \n",
       "2196750  Station Wagon/Sport Utility Vehicle    NO THIRD VEHICLE   \n",
       "2196751                                Sedan       Pick-up Truck   \n",
       "2196752                                Sedan    NO THIRD VEHICLE   \n",
       "2196753                                Sedan    NO THIRD VEHICLE   \n",
       "\n",
       "        VEHICLE TYPE CODE 4 VEHICLE TYPE CODE 5  \n",
       "0         NO FOURTH VEHICLE    NO FIFTH VEHICLE  \n",
       "1         NO FOURTH VEHICLE    NO FIFTH VEHICLE  \n",
       "2         NO FOURTH VEHICLE    NO FIFTH VEHICLE  \n",
       "3         NO FOURTH VEHICLE    NO FIFTH VEHICLE  \n",
       "4         NO FOURTH VEHICLE    NO FIFTH VEHICLE  \n",
       "...                     ...                 ...  \n",
       "2196749   NO FOURTH VEHICLE    NO FIFTH VEHICLE  \n",
       "2196750   NO FOURTH VEHICLE    NO FIFTH VEHICLE  \n",
       "2196751   NO FOURTH VEHICLE    NO FIFTH VEHICLE  \n",
       "2196752   NO FOURTH VEHICLE    NO FIFTH VEHICLE  \n",
       "2196753   NO FOURTH VEHICLE    NO FIFTH VEHICLE  \n",
       "\n",
       "[2178036 rows x 28 columns]"
      ]
     },
     "execution_count": 17,
     "metadata": {},
     "output_type": "execute_result"
    }
   ],
   "source": [
    "new_df"
   ]
  },
  {
   "cell_type": "markdown",
   "id": "17895d11",
   "metadata": {},
   "source": [
    "## Correcting data types"
   ]
  },
  {
   "cell_type": "code",
   "execution_count": 18,
   "id": "259f963e",
   "metadata": {},
   "outputs": [
    {
     "name": "stdout",
     "output_type": "stream",
     "text": [
      "<class 'pandas.core.frame.DataFrame'>\n",
      "Index: 2178036 entries, 0 to 2196753\n",
      "Data columns (total 28 columns):\n",
      " #   Column                         Dtype  \n",
      "---  ------                         -----  \n",
      " 0   CRASH DATE                     object \n",
      " 1   CRASH TIME                     object \n",
      " 2   BOROUGH                        object \n",
      " 3   ZIP CODE                       object \n",
      " 4   LATITUDE                       float64\n",
      " 5   LONGITUDE                      float64\n",
      " 6   LOCATION                       object \n",
      " 7   ON STREET NAME                 object \n",
      " 8   CROSS STREET NAME              object \n",
      " 9   NUMBER OF PERSONS INJURED      float64\n",
      " 10  NUMBER OF PERSONS KILLED       float64\n",
      " 11  NUMBER OF PEDESTRIANS INJURED  int64  \n",
      " 12  NUMBER OF PEDESTRIANS KILLED   int64  \n",
      " 13  NUMBER OF CYCLIST INJURED      int64  \n",
      " 14  NUMBER OF CYCLIST KILLED       int64  \n",
      " 15  NUMBER OF MOTORIST INJURED     int64  \n",
      " 16  NUMBER OF MOTORIST KILLED      int64  \n",
      " 17  CONTRIBUTING FACTOR VEHICLE 1  object \n",
      " 18  CONTRIBUTING FACTOR VEHICLE 2  object \n",
      " 19  CONTRIBUTING FACTOR VEHICLE 3  object \n",
      " 20  CONTRIBUTING FACTOR VEHICLE 4  object \n",
      " 21  CONTRIBUTING FACTOR VEHICLE 5  object \n",
      " 22  COLLISION_ID                   int64  \n",
      " 23  VEHICLE TYPE CODE 1            object \n",
      " 24  VEHICLE TYPE CODE 2            object \n",
      " 25  VEHICLE TYPE CODE 3            object \n",
      " 26  VEHICLE TYPE CODE 4            object \n",
      " 27  VEHICLE TYPE CODE 5            object \n",
      "dtypes: float64(4), int64(7), object(17)\n",
      "memory usage: 481.9+ MB\n"
     ]
    }
   ],
   "source": [
    "new_df.info()"
   ]
  },
  {
   "cell_type": "code",
   "execution_count": 19,
   "id": "4c77eb91",
   "metadata": {},
   "outputs": [],
   "source": [
    "\n",
    "new_df['CRASH DATE'] = pd.to_datetime(new_df['CRASH DATE'])\n",
    "new_df['CRASH TIME'] = pd.to_datetime(new_df['CRASH TIME'], format='%H:%M').dt.time\n",
    "new_df['NUMBER OF PERSONS INJURED'] = new_df['NUMBER OF PERSONS INJURED'].astype('Int64')\n",
    "new_df['NUMBER OF PERSONS KILLED'] = new_df['NUMBER OF PERSONS KILLED'].astype('Int64')\n",
    "new_df['BOROUGH'] = new_df['BOROUGH'].astype('category')\n",
    "new_df['ZIP CODE'] = new_df['ZIP CODE'].astype('category')\n",
    "new_df['ON STREET NAME'] = new_df['ON STREET NAME'].astype('category')\n",
    "new_df['CROSS STREET NAME'] = new_df['CROSS STREET NAME'].astype('category')\n",
    "new_df['CONTRIBUTING FACTOR VEHICLE 1'] = new_df['CONTRIBUTING FACTOR VEHICLE 1'].astype('category')\n",
    "new_df['CONTRIBUTING FACTOR VEHICLE 2'] = new_df['CONTRIBUTING FACTOR VEHICLE 2'].astype('category')\n",
    "new_df['CONTRIBUTING FACTOR VEHICLE 3'] = new_df['CONTRIBUTING FACTOR VEHICLE 3'].astype('category')\n",
    "new_df['CONTRIBUTING FACTOR VEHICLE 4'] = new_df['CONTRIBUTING FACTOR VEHICLE 4'].astype('category')\n",
    "new_df['CONTRIBUTING FACTOR VEHICLE 5'] = new_df['CONTRIBUTING FACTOR VEHICLE 5'].astype('category')\n",
    "new_df['VEHICLE TYPE CODE 1'] = new_df['VEHICLE TYPE CODE 1'].astype('category')\n",
    "new_df['VEHICLE TYPE CODE 2'] = new_df['VEHICLE TYPE CODE 2'].astype('category')\n",
    "new_df['VEHICLE TYPE CODE 3'] = new_df['VEHICLE TYPE CODE 3'].astype('category')\n",
    "new_df['VEHICLE TYPE CODE 4'] = new_df['VEHICLE TYPE CODE 4'].astype('category')\n",
    "new_df['VEHICLE TYPE CODE 5'] = new_df['VEHICLE TYPE CODE 5'].astype('category')\n",
    " \n",
    "\n",
    "\n",
    "\n"
   ]
  },
  {
   "cell_type": "markdown",
   "id": "f6475a7c",
   "metadata": {},
   "source": [
    "##  Cleaning Text/Categorical Data"
   ]
  },
  {
   "cell_type": "code",
   "execution_count": 20,
   "id": "695f2506",
   "metadata": {},
   "outputs": [
    {
     "name": "stdout",
     "output_type": "stream",
     "text": [
      "<class 'pandas.core.frame.DataFrame'>\n",
      "Index: 2178036 entries, 0 to 2196753\n",
      "Data columns (total 28 columns):\n",
      " #   Column                         Dtype         \n",
      "---  ------                         -----         \n",
      " 0   CRASH DATE                     datetime64[ns]\n",
      " 1   CRASH TIME                     object        \n",
      " 2   BOROUGH                        category      \n",
      " 3   ZIP CODE                       category      \n",
      " 4   LATITUDE                       float64       \n",
      " 5   LONGITUDE                      float64       \n",
      " 6   LOCATION                       object        \n",
      " 7   ON STREET NAME                 category      \n",
      " 8   CROSS STREET NAME              category      \n",
      " 9   NUMBER OF PERSONS INJURED      Int64         \n",
      " 10  NUMBER OF PERSONS KILLED       Int64         \n",
      " 11  NUMBER OF PEDESTRIANS INJURED  int64         \n",
      " 12  NUMBER OF PEDESTRIANS KILLED   int64         \n",
      " 13  NUMBER OF CYCLIST INJURED      int64         \n",
      " 14  NUMBER OF CYCLIST KILLED       int64         \n",
      " 15  NUMBER OF MOTORIST INJURED     int64         \n",
      " 16  NUMBER OF MOTORIST KILLED      int64         \n",
      " 17  CONTRIBUTING FACTOR VEHICLE 1  category      \n",
      " 18  CONTRIBUTING FACTOR VEHICLE 2  category      \n",
      " 19  CONTRIBUTING FACTOR VEHICLE 3  category      \n",
      " 20  CONTRIBUTING FACTOR VEHICLE 4  category      \n",
      " 21  CONTRIBUTING FACTOR VEHICLE 5  category      \n",
      " 22  COLLISION_ID                   int64         \n",
      " 23  VEHICLE TYPE CODE 1            category      \n",
      " 24  VEHICLE TYPE CODE 2            category      \n",
      " 25  VEHICLE TYPE CODE 3            category      \n",
      " 26  VEHICLE TYPE CODE 4            category      \n",
      " 27  VEHICLE TYPE CODE 5            category      \n",
      "dtypes: Int64(2), category(14), datetime64[ns](1), float64(2), int64(7), object(2)\n",
      "memory usage: 296.5+ MB\n"
     ]
    }
   ],
   "source": [
    "new_df.info()"
   ]
  },
  {
   "cell_type": "code",
   "execution_count": 21,
   "id": "27a9c93f",
   "metadata": {},
   "outputs": [
    {
     "name": "stdout",
     "output_type": "stream",
     "text": [
      "BOROUGH\n",
      "Unknown          671295\n",
      "Brooklyn         482181\n",
      "Queens           404603\n",
      "Manhattan        334112\n",
      "Bronx            222580\n",
      "Staten Island     63265\n",
      "Name: count, dtype: int64\n",
      "['Unknown' 'Brooklyn' 'Bronx' 'Manhattan' 'Queens' 'Staten Island']\n",
      "BOROUGH\n",
      "Brooklyn         486872\n",
      "Queens           407790\n",
      "Manhattan        337461\n",
      "Bronx            225273\n",
      "Staten Island     63745\n",
      "Name: count, dtype: int64\n",
      "[nan 'Brooklyn' 'Bronx' 'Manhattan' 'Queens' 'Staten Island']\n"
     ]
    }
   ],
   "source": [
    "df['BOROUGH'] = df['BOROUGH'].str.strip().str.title()\n",
    "new_df['BOROUGH'] = new_df['BOROUGH'].str.strip().str.title()\n",
    "df['BOROUGH'] = df['BOROUGH'].replace('0', 'UNKNOWN')\n",
    "new_df['BOROUGH'] = new_df['BOROUGH'].replace('0', 'UNKNOWN')  \n",
    "df['BOROUGH'] = df['BOROUGH'].replace('Unspecified', 'UNKNOWN')\n",
    "new_df['BOROUGH'] = new_df['BOROUGH'].replace('Unspecified', 'UNKNOWN')\n",
    "print(new_df['BOROUGH'].value_counts())\n",
    "print(new_df['BOROUGH'].unique())\n",
    "print(df['BOROUGH'].value_counts())\n",
    "print(df['BOROUGH'].unique())"
   ]
  },
  {
   "cell_type": "markdown",
   "id": "8ddbc8e7",
   "metadata": {},
   "source": [
    "## Filtering Data"
   ]
  },
  {
   "cell_type": "code",
   "execution_count": 22,
   "id": "f052087f",
   "metadata": {},
   "outputs": [
    {
     "data": {
      "application/vnd.microsoft.datawrangler.viewer.v0+json": {
       "columns": [
        {
         "name": "index",
         "rawType": "int64",
         "type": "integer"
        },
        {
         "name": "CRASH DATE",
         "rawType": "datetime64[ns]",
         "type": "datetime"
        },
        {
         "name": "CRASH TIME",
         "rawType": "object",
         "type": "unknown"
        },
        {
         "name": "BOROUGH",
         "rawType": "object",
         "type": "string"
        },
        {
         "name": "ZIP CODE",
         "rawType": "category",
         "type": "unknown"
        },
        {
         "name": "LATITUDE",
         "rawType": "float64",
         "type": "float"
        },
        {
         "name": "LONGITUDE",
         "rawType": "float64",
         "type": "float"
        },
        {
         "name": "LOCATION",
         "rawType": "object",
         "type": "string"
        },
        {
         "name": "ON STREET NAME",
         "rawType": "category",
         "type": "unknown"
        },
        {
         "name": "CROSS STREET NAME",
         "rawType": "category",
         "type": "unknown"
        },
        {
         "name": "NUMBER OF PERSONS INJURED",
         "rawType": "Int64",
         "type": "integer"
        },
        {
         "name": "NUMBER OF PERSONS KILLED",
         "rawType": "Int64",
         "type": "integer"
        },
        {
         "name": "NUMBER OF PEDESTRIANS INJURED",
         "rawType": "int64",
         "type": "integer"
        },
        {
         "name": "NUMBER OF PEDESTRIANS KILLED",
         "rawType": "int64",
         "type": "integer"
        },
        {
         "name": "NUMBER OF CYCLIST INJURED",
         "rawType": "int64",
         "type": "integer"
        },
        {
         "name": "NUMBER OF CYCLIST KILLED",
         "rawType": "int64",
         "type": "integer"
        },
        {
         "name": "NUMBER OF MOTORIST INJURED",
         "rawType": "int64",
         "type": "integer"
        },
        {
         "name": "NUMBER OF MOTORIST KILLED",
         "rawType": "int64",
         "type": "integer"
        },
        {
         "name": "CONTRIBUTING FACTOR VEHICLE 1",
         "rawType": "category",
         "type": "unknown"
        },
        {
         "name": "CONTRIBUTING FACTOR VEHICLE 2",
         "rawType": "category",
         "type": "unknown"
        },
        {
         "name": "CONTRIBUTING FACTOR VEHICLE 3",
         "rawType": "category",
         "type": "unknown"
        },
        {
         "name": "CONTRIBUTING FACTOR VEHICLE 4",
         "rawType": "category",
         "type": "unknown"
        },
        {
         "name": "CONTRIBUTING FACTOR VEHICLE 5",
         "rawType": "category",
         "type": "unknown"
        },
        {
         "name": "COLLISION_ID",
         "rawType": "int64",
         "type": "integer"
        },
        {
         "name": "VEHICLE TYPE CODE 1",
         "rawType": "category",
         "type": "unknown"
        },
        {
         "name": "VEHICLE TYPE CODE 2",
         "rawType": "category",
         "type": "unknown"
        },
        {
         "name": "VEHICLE TYPE CODE 3",
         "rawType": "category",
         "type": "unknown"
        },
        {
         "name": "VEHICLE TYPE CODE 4",
         "rawType": "category",
         "type": "unknown"
        },
        {
         "name": "VEHICLE TYPE CODE 5",
         "rawType": "category",
         "type": "unknown"
        }
       ],
       "ref": "52e5036a-822f-4556-a8bd-35597b53ab6c",
       "rows": [
        [
         "10527",
         "2021-09-04 00:00:00",
         "14:45:00",
         "Staten Island",
         "10304.0",
         "40.62551",
         "-74.07599",
         "(40.62551, -74.07599)",
         "BROAD STREET",
         "BROWNELL STREET",
         "18",
         "0",
         "0",
         "0",
         "0",
         "0",
         "18",
         "0",
         "Driver Inexperience",
         "Unspecified",
         "NO THIRD VEHICLE",
         "NO FOURTH VEHICLE",
         "NO FIFTH VEHICLE",
         "4459119",
         "Sedan",
         "School Bus",
         "NO THIRD VEHICLE",
         "NO FOURTH VEHICLE",
         "NO FIFTH VEHICLE"
        ],
        [
         "142167",
         "2023-03-17 00:00:00",
         "21:22:00",
         "Queens",
         "11428.0",
         "40.71893",
         "-73.73439",
         "(40.71893, -73.73439)",
         "220 STREET",
         "JAMAICA AVENUE",
         "23",
         "0",
         "0",
         "0",
         "0",
         "0",
         "23",
         "0",
         "Driver Inattention/Distraction",
         "Unspecified",
         "NO THIRD VEHICLE",
         "NO FOURTH VEHICLE",
         "NO FIFTH VEHICLE",
         "4616707",
         "Station Wagon/Sport Utility Vehicle",
         "Bus",
         "NO THIRD VEHICLE",
         "NO FOURTH VEHICLE",
         "NO FIFTH VEHICLE"
        ],
        [
         "146216",
         "2022-07-21 00:00:00",
         "05:56:00",
         "Unknown",
         "UNKNOWN",
         "0.0",
         "0.0",
         "UNKNOWN",
         "HUTCHINSON RIVER PARKWAY RAMP",
         "UNKNOWN",
         "40",
         "0",
         "0",
         "0",
         "0",
         "0",
         "40",
         "0",
         "Unsafe Speed",
         "NO SECOND VEHICLE",
         "NO THIRD VEHICLE",
         "NO FOURTH VEHICLE",
         "NO FIFTH VEHICLE",
         "4552186",
         "Bus",
         "NO SECOND VEHICLE",
         "NO THIRD VEHICLE",
         "NO FOURTH VEHICLE",
         "NO FIFTH VEHICLE"
        ],
        [
         "218879",
         "2023-01-02 00:00:00",
         "20:59:00",
         "Unknown",
         "UNKNOWN",
         "40.867012",
         "-73.92312",
         "(40.867012, -73.92312)",
         "BROADWAY",
         "UNKNOWN",
         "21",
         "0",
         "19",
         "0",
         "0",
         "0",
         "2",
         "0",
         "Unsafe Speed",
         "Unspecified",
         "NO THIRD VEHICLE",
         "NO FOURTH VEHICLE",
         "NO FIFTH VEHICLE",
         "4596684",
         "Station Wagon/Sport Utility Vehicle",
         "NO SECOND VEHICLE",
         "NO THIRD VEHICLE",
         "NO FOURTH VEHICLE",
         "NO FIFTH VEHICLE"
        ],
        [
         "230834",
         "2023-04-07 00:00:00",
         "22:24:00",
         "Queens",
         "11361.0",
         "40.75958",
         "-73.76894",
         "(40.75958, -73.76894)",
         "BELL BOULEVARD",
         "45 ROAD",
         "34",
         "0",
         "0",
         "0",
         "0",
         "0",
         "34",
         "0",
         "Traffic Control Disregarded",
         "Unspecified",
         "NO THIRD VEHICLE",
         "NO FOURTH VEHICLE",
         "NO FIFTH VEHICLE",
         "4619206",
         "Bus",
         "Box Truck",
         "NO THIRD VEHICLE",
         "NO FOURTH VEHICLE",
         "NO FIFTH VEHICLE"
        ]
       ],
       "shape": {
        "columns": 28,
        "rows": 5
       }
      },
      "text/html": [
       "<div>\n",
       "<style scoped>\n",
       "    .dataframe tbody tr th:only-of-type {\n",
       "        vertical-align: middle;\n",
       "    }\n",
       "\n",
       "    .dataframe tbody tr th {\n",
       "        vertical-align: top;\n",
       "    }\n",
       "\n",
       "    .dataframe thead th {\n",
       "        text-align: right;\n",
       "    }\n",
       "</style>\n",
       "<table border=\"1\" class=\"dataframe\">\n",
       "  <thead>\n",
       "    <tr style=\"text-align: right;\">\n",
       "      <th></th>\n",
       "      <th>CRASH DATE</th>\n",
       "      <th>CRASH TIME</th>\n",
       "      <th>BOROUGH</th>\n",
       "      <th>ZIP CODE</th>\n",
       "      <th>LATITUDE</th>\n",
       "      <th>LONGITUDE</th>\n",
       "      <th>LOCATION</th>\n",
       "      <th>ON STREET NAME</th>\n",
       "      <th>CROSS STREET NAME</th>\n",
       "      <th>NUMBER OF PERSONS INJURED</th>\n",
       "      <th>...</th>\n",
       "      <th>CONTRIBUTING FACTOR VEHICLE 2</th>\n",
       "      <th>CONTRIBUTING FACTOR VEHICLE 3</th>\n",
       "      <th>CONTRIBUTING FACTOR VEHICLE 4</th>\n",
       "      <th>CONTRIBUTING FACTOR VEHICLE 5</th>\n",
       "      <th>COLLISION_ID</th>\n",
       "      <th>VEHICLE TYPE CODE 1</th>\n",
       "      <th>VEHICLE TYPE CODE 2</th>\n",
       "      <th>VEHICLE TYPE CODE 3</th>\n",
       "      <th>VEHICLE TYPE CODE 4</th>\n",
       "      <th>VEHICLE TYPE CODE 5</th>\n",
       "    </tr>\n",
       "  </thead>\n",
       "  <tbody>\n",
       "    <tr>\n",
       "      <th>10527</th>\n",
       "      <td>2021-09-04</td>\n",
       "      <td>14:45:00</td>\n",
       "      <td>Staten Island</td>\n",
       "      <td>10304.0</td>\n",
       "      <td>40.625510</td>\n",
       "      <td>-74.07599</td>\n",
       "      <td>(40.62551, -74.07599)</td>\n",
       "      <td>BROAD STREET</td>\n",
       "      <td>BROWNELL STREET</td>\n",
       "      <td>18</td>\n",
       "      <td>...</td>\n",
       "      <td>Unspecified</td>\n",
       "      <td>NO THIRD VEHICLE</td>\n",
       "      <td>NO FOURTH VEHICLE</td>\n",
       "      <td>NO FIFTH VEHICLE</td>\n",
       "      <td>4459119</td>\n",
       "      <td>Sedan</td>\n",
       "      <td>School Bus</td>\n",
       "      <td>NO THIRD VEHICLE</td>\n",
       "      <td>NO FOURTH VEHICLE</td>\n",
       "      <td>NO FIFTH VEHICLE</td>\n",
       "    </tr>\n",
       "    <tr>\n",
       "      <th>142167</th>\n",
       "      <td>2023-03-17</td>\n",
       "      <td>21:22:00</td>\n",
       "      <td>Queens</td>\n",
       "      <td>11428.0</td>\n",
       "      <td>40.718930</td>\n",
       "      <td>-73.73439</td>\n",
       "      <td>(40.71893, -73.73439)</td>\n",
       "      <td>220 STREET</td>\n",
       "      <td>JAMAICA AVENUE</td>\n",
       "      <td>23</td>\n",
       "      <td>...</td>\n",
       "      <td>Unspecified</td>\n",
       "      <td>NO THIRD VEHICLE</td>\n",
       "      <td>NO FOURTH VEHICLE</td>\n",
       "      <td>NO FIFTH VEHICLE</td>\n",
       "      <td>4616707</td>\n",
       "      <td>Station Wagon/Sport Utility Vehicle</td>\n",
       "      <td>Bus</td>\n",
       "      <td>NO THIRD VEHICLE</td>\n",
       "      <td>NO FOURTH VEHICLE</td>\n",
       "      <td>NO FIFTH VEHICLE</td>\n",
       "    </tr>\n",
       "    <tr>\n",
       "      <th>146216</th>\n",
       "      <td>2022-07-21</td>\n",
       "      <td>05:56:00</td>\n",
       "      <td>Unknown</td>\n",
       "      <td>UNKNOWN</td>\n",
       "      <td>0.000000</td>\n",
       "      <td>0.00000</td>\n",
       "      <td>UNKNOWN</td>\n",
       "      <td>HUTCHINSON RIVER PARKWAY RAMP</td>\n",
       "      <td>UNKNOWN</td>\n",
       "      <td>40</td>\n",
       "      <td>...</td>\n",
       "      <td>NO SECOND VEHICLE</td>\n",
       "      <td>NO THIRD VEHICLE</td>\n",
       "      <td>NO FOURTH VEHICLE</td>\n",
       "      <td>NO FIFTH VEHICLE</td>\n",
       "      <td>4552186</td>\n",
       "      <td>Bus</td>\n",
       "      <td>NO SECOND VEHICLE</td>\n",
       "      <td>NO THIRD VEHICLE</td>\n",
       "      <td>NO FOURTH VEHICLE</td>\n",
       "      <td>NO FIFTH VEHICLE</td>\n",
       "    </tr>\n",
       "    <tr>\n",
       "      <th>218879</th>\n",
       "      <td>2023-01-02</td>\n",
       "      <td>20:59:00</td>\n",
       "      <td>Unknown</td>\n",
       "      <td>UNKNOWN</td>\n",
       "      <td>40.867012</td>\n",
       "      <td>-73.92312</td>\n",
       "      <td>(40.867012, -73.92312)</td>\n",
       "      <td>BROADWAY</td>\n",
       "      <td>UNKNOWN</td>\n",
       "      <td>21</td>\n",
       "      <td>...</td>\n",
       "      <td>Unspecified</td>\n",
       "      <td>NO THIRD VEHICLE</td>\n",
       "      <td>NO FOURTH VEHICLE</td>\n",
       "      <td>NO FIFTH VEHICLE</td>\n",
       "      <td>4596684</td>\n",
       "      <td>Station Wagon/Sport Utility Vehicle</td>\n",
       "      <td>NO SECOND VEHICLE</td>\n",
       "      <td>NO THIRD VEHICLE</td>\n",
       "      <td>NO FOURTH VEHICLE</td>\n",
       "      <td>NO FIFTH VEHICLE</td>\n",
       "    </tr>\n",
       "    <tr>\n",
       "      <th>230834</th>\n",
       "      <td>2023-04-07</td>\n",
       "      <td>22:24:00</td>\n",
       "      <td>Queens</td>\n",
       "      <td>11361.0</td>\n",
       "      <td>40.759580</td>\n",
       "      <td>-73.76894</td>\n",
       "      <td>(40.75958, -73.76894)</td>\n",
       "      <td>BELL BOULEVARD</td>\n",
       "      <td>45 ROAD</td>\n",
       "      <td>34</td>\n",
       "      <td>...</td>\n",
       "      <td>Unspecified</td>\n",
       "      <td>NO THIRD VEHICLE</td>\n",
       "      <td>NO FOURTH VEHICLE</td>\n",
       "      <td>NO FIFTH VEHICLE</td>\n",
       "      <td>4619206</td>\n",
       "      <td>Bus</td>\n",
       "      <td>Box Truck</td>\n",
       "      <td>NO THIRD VEHICLE</td>\n",
       "      <td>NO FOURTH VEHICLE</td>\n",
       "      <td>NO FIFTH VEHICLE</td>\n",
       "    </tr>\n",
       "  </tbody>\n",
       "</table>\n",
       "<p>5 rows × 28 columns</p>\n",
       "</div>"
      ],
      "text/plain": [
       "       CRASH DATE CRASH TIME        BOROUGH ZIP CODE   LATITUDE  LONGITUDE  \\\n",
       "10527  2021-09-04   14:45:00  Staten Island  10304.0  40.625510  -74.07599   \n",
       "142167 2023-03-17   21:22:00         Queens  11428.0  40.718930  -73.73439   \n",
       "146216 2022-07-21   05:56:00        Unknown  UNKNOWN   0.000000    0.00000   \n",
       "218879 2023-01-02   20:59:00        Unknown  UNKNOWN  40.867012  -73.92312   \n",
       "230834 2023-04-07   22:24:00         Queens  11361.0  40.759580  -73.76894   \n",
       "\n",
       "                      LOCATION                 ON STREET NAME  \\\n",
       "10527    (40.62551, -74.07599)                   BROAD STREET   \n",
       "142167   (40.71893, -73.73439)                     220 STREET   \n",
       "146216                 UNKNOWN  HUTCHINSON RIVER PARKWAY RAMP   \n",
       "218879  (40.867012, -73.92312)                       BROADWAY   \n",
       "230834   (40.75958, -73.76894)                 BELL BOULEVARD   \n",
       "\n",
       "       CROSS STREET NAME  NUMBER OF PERSONS INJURED  ...  \\\n",
       "10527    BROWNELL STREET                         18  ...   \n",
       "142167    JAMAICA AVENUE                         23  ...   \n",
       "146216           UNKNOWN                         40  ...   \n",
       "218879           UNKNOWN                         21  ...   \n",
       "230834           45 ROAD                         34  ...   \n",
       "\n",
       "        CONTRIBUTING FACTOR VEHICLE 2  CONTRIBUTING FACTOR VEHICLE 3  \\\n",
       "10527                     Unspecified               NO THIRD VEHICLE   \n",
       "142167                    Unspecified               NO THIRD VEHICLE   \n",
       "146216              NO SECOND VEHICLE               NO THIRD VEHICLE   \n",
       "218879                    Unspecified               NO THIRD VEHICLE   \n",
       "230834                    Unspecified               NO THIRD VEHICLE   \n",
       "\n",
       "        CONTRIBUTING FACTOR VEHICLE 4  CONTRIBUTING FACTOR VEHICLE 5  \\\n",
       "10527               NO FOURTH VEHICLE               NO FIFTH VEHICLE   \n",
       "142167              NO FOURTH VEHICLE               NO FIFTH VEHICLE   \n",
       "146216              NO FOURTH VEHICLE               NO FIFTH VEHICLE   \n",
       "218879              NO FOURTH VEHICLE               NO FIFTH VEHICLE   \n",
       "230834              NO FOURTH VEHICLE               NO FIFTH VEHICLE   \n",
       "\n",
       "        COLLISION_ID                  VEHICLE TYPE CODE 1  \\\n",
       "10527        4459119                                Sedan   \n",
       "142167       4616707  Station Wagon/Sport Utility Vehicle   \n",
       "146216       4552186                                  Bus   \n",
       "218879       4596684  Station Wagon/Sport Utility Vehicle   \n",
       "230834       4619206                                  Bus   \n",
       "\n",
       "        VEHICLE TYPE CODE 2 VEHICLE TYPE CODE 3 VEHICLE TYPE CODE 4  \\\n",
       "10527            School Bus    NO THIRD VEHICLE   NO FOURTH VEHICLE   \n",
       "142167                  Bus    NO THIRD VEHICLE   NO FOURTH VEHICLE   \n",
       "146216    NO SECOND VEHICLE    NO THIRD VEHICLE   NO FOURTH VEHICLE   \n",
       "218879    NO SECOND VEHICLE    NO THIRD VEHICLE   NO FOURTH VEHICLE   \n",
       "230834            Box Truck    NO THIRD VEHICLE   NO FOURTH VEHICLE   \n",
       "\n",
       "       VEHICLE TYPE CODE 5  \n",
       "10527     NO FIFTH VEHICLE  \n",
       "142167    NO FIFTH VEHICLE  \n",
       "146216    NO FIFTH VEHICLE  \n",
       "218879    NO FIFTH VEHICLE  \n",
       "230834    NO FIFTH VEHICLE  \n",
       "\n",
       "[5 rows x 28 columns]"
      ]
     },
     "execution_count": 22,
     "metadata": {},
     "output_type": "execute_result"
    }
   ],
   "source": [
    "# filtering by age\n",
    "adults = new_df[new_df['NUMBER OF PERSONS INJURED'] >= 18]\n",
    "adults.head()\n"
   ]
  },
  {
   "cell_type": "code",
   "execution_count": 23,
   "id": "1ee7065f",
   "metadata": {},
   "outputs": [
    {
     "name": "stdout",
     "output_type": "stream",
     "text": [
      "<class 'pandas.core.frame.DataFrame'>\n",
      "Index: 27 entries, 10527 to 2175363\n",
      "Data columns (total 28 columns):\n",
      " #   Column                         Non-Null Count  Dtype         \n",
      "---  ------                         --------------  -----         \n",
      " 0   CRASH DATE                     27 non-null     datetime64[ns]\n",
      " 1   CRASH TIME                     27 non-null     object        \n",
      " 2   BOROUGH                        27 non-null     object        \n",
      " 3   ZIP CODE                       27 non-null     category      \n",
      " 4   LATITUDE                       27 non-null     float64       \n",
      " 5   LONGITUDE                      27 non-null     float64       \n",
      " 6   LOCATION                       27 non-null     object        \n",
      " 7   ON STREET NAME                 27 non-null     category      \n",
      " 8   CROSS STREET NAME              27 non-null     category      \n",
      " 9   NUMBER OF PERSONS INJURED      27 non-null     Int64         \n",
      " 10  NUMBER OF PERSONS KILLED       27 non-null     Int64         \n",
      " 11  NUMBER OF PEDESTRIANS INJURED  27 non-null     int64         \n",
      " 12  NUMBER OF PEDESTRIANS KILLED   27 non-null     int64         \n",
      " 13  NUMBER OF CYCLIST INJURED      27 non-null     int64         \n",
      " 14  NUMBER OF CYCLIST KILLED       27 non-null     int64         \n",
      " 15  NUMBER OF MOTORIST INJURED     27 non-null     int64         \n",
      " 16  NUMBER OF MOTORIST KILLED      27 non-null     int64         \n",
      " 17  CONTRIBUTING FACTOR VEHICLE 1  27 non-null     category      \n",
      " 18  CONTRIBUTING FACTOR VEHICLE 2  27 non-null     category      \n",
      " 19  CONTRIBUTING FACTOR VEHICLE 3  27 non-null     category      \n",
      " 20  CONTRIBUTING FACTOR VEHICLE 4  27 non-null     category      \n",
      " 21  CONTRIBUTING FACTOR VEHICLE 5  27 non-null     category      \n",
      " 22  COLLISION_ID                   27 non-null     int64         \n",
      " 23  VEHICLE TYPE CODE 1            27 non-null     category      \n",
      " 24  VEHICLE TYPE CODE 2            27 non-null     category      \n",
      " 25  VEHICLE TYPE CODE 3            27 non-null     category      \n",
      " 26  VEHICLE TYPE CODE 4            27 non-null     category      \n",
      " 27  VEHICLE TYPE CODE 5            27 non-null     category      \n",
      "dtypes: Int64(2), category(13), datetime64[ns](1), float64(2), int64(7), object(3)\n",
      "memory usage: 1.6+ MB\n"
     ]
    }
   ],
   "source": [
    "adults.info()"
   ]
  },
  {
   "cell_type": "code",
   "execution_count": 24,
   "id": "3585af3f",
   "metadata": {},
   "outputs": [
    {
     "data": {
      "text/plain": [
       "'\\nAdults are more likely to be involved in accidents due to their higher presence on the roads,\\nwhether as drivers or pedestrians.\\n'"
      ]
     },
     "execution_count": 24,
     "metadata": {},
     "output_type": "execute_result"
    }
   ],
   "source": [
    "\"\"\"\n",
    "Adults are more likely to be involved in accidents due to their higher presence on the roads,\n",
    "whether as drivers or pedestrians.\n",
    "\"\"\""
   ]
  },
  {
   "cell_type": "code",
   "execution_count": 25,
   "id": "d200f932",
   "metadata": {},
   "outputs": [
    {
     "data": {
      "application/vnd.microsoft.datawrangler.viewer.v0+json": {
       "columns": [
        {
         "name": "index",
         "rawType": "int64",
         "type": "integer"
        },
        {
         "name": "CRASH DATE",
         "rawType": "datetime64[ns]",
         "type": "datetime"
        },
        {
         "name": "CRASH TIME",
         "rawType": "object",
         "type": "unknown"
        },
        {
         "name": "BOROUGH",
         "rawType": "object",
         "type": "string"
        },
        {
         "name": "ZIP CODE",
         "rawType": "category",
         "type": "unknown"
        },
        {
         "name": "LATITUDE",
         "rawType": "float64",
         "type": "float"
        },
        {
         "name": "LONGITUDE",
         "rawType": "float64",
         "type": "float"
        },
        {
         "name": "LOCATION",
         "rawType": "object",
         "type": "string"
        },
        {
         "name": "ON STREET NAME",
         "rawType": "category",
         "type": "unknown"
        },
        {
         "name": "CROSS STREET NAME",
         "rawType": "category",
         "type": "unknown"
        },
        {
         "name": "NUMBER OF PERSONS INJURED",
         "rawType": "Int64",
         "type": "integer"
        },
        {
         "name": "NUMBER OF PERSONS KILLED",
         "rawType": "Int64",
         "type": "integer"
        },
        {
         "name": "NUMBER OF PEDESTRIANS INJURED",
         "rawType": "int64",
         "type": "integer"
        },
        {
         "name": "NUMBER OF PEDESTRIANS KILLED",
         "rawType": "int64",
         "type": "integer"
        },
        {
         "name": "NUMBER OF CYCLIST INJURED",
         "rawType": "int64",
         "type": "integer"
        },
        {
         "name": "NUMBER OF CYCLIST KILLED",
         "rawType": "int64",
         "type": "integer"
        },
        {
         "name": "NUMBER OF MOTORIST INJURED",
         "rawType": "int64",
         "type": "integer"
        },
        {
         "name": "NUMBER OF MOTORIST KILLED",
         "rawType": "int64",
         "type": "integer"
        },
        {
         "name": "CONTRIBUTING FACTOR VEHICLE 1",
         "rawType": "category",
         "type": "unknown"
        },
        {
         "name": "CONTRIBUTING FACTOR VEHICLE 2",
         "rawType": "category",
         "type": "unknown"
        },
        {
         "name": "CONTRIBUTING FACTOR VEHICLE 3",
         "rawType": "category",
         "type": "unknown"
        },
        {
         "name": "CONTRIBUTING FACTOR VEHICLE 4",
         "rawType": "category",
         "type": "unknown"
        },
        {
         "name": "CONTRIBUTING FACTOR VEHICLE 5",
         "rawType": "category",
         "type": "unknown"
        },
        {
         "name": "COLLISION_ID",
         "rawType": "int64",
         "type": "integer"
        },
        {
         "name": "VEHICLE TYPE CODE 1",
         "rawType": "category",
         "type": "unknown"
        },
        {
         "name": "VEHICLE TYPE CODE 2",
         "rawType": "category",
         "type": "unknown"
        },
        {
         "name": "VEHICLE TYPE CODE 3",
         "rawType": "category",
         "type": "unknown"
        },
        {
         "name": "VEHICLE TYPE CODE 4",
         "rawType": "category",
         "type": "unknown"
        },
        {
         "name": "VEHICLE TYPE CODE 5",
         "rawType": "category",
         "type": "unknown"
        }
       ],
       "ref": "e75a1bdf-43f3-457c-96af-c5a06ffb925a",
       "rows": [
        [
         "15",
         "2021-12-14 00:00:00",
         "14:58:00",
         "Manhattan",
         "10017.0",
         "40.75144",
         "-73.97397",
         "(40.75144, -73.97397)",
         "3 AVENUE",
         "EAST 43 STREET",
         "0",
         "0",
         "0",
         "0",
         "0",
         "0",
         "0",
         "0",
         "Passing Too Closely",
         "Unspecified",
         "NO THIRD VEHICLE",
         "NO FOURTH VEHICLE",
         "NO FIFTH VEHICLE",
         "4486519",
         "Sedan",
         "Station Wagon/Sport Utility Vehicle",
         "NO THIRD VEHICLE",
         "NO FOURTH VEHICLE",
         "NO FIFTH VEHICLE"
        ],
        [
         "26",
         "2021-12-11 00:00:00",
         "04:45:00",
         "Manhattan",
         "10001.0",
         "40.748917",
         "-73.993546",
         "(40.748917, -73.993546)",
         "UNKNOWN",
         "UNKNOWN",
         "0",
         "0",
         "0",
         "0",
         "0",
         "0",
         "0",
         "0",
         "Following Too Closely",
         "Unspecified",
         "NO THIRD VEHICLE",
         "NO FOURTH VEHICLE",
         "NO FIFTH VEHICLE",
         "4486905",
         "Station Wagon/Sport Utility Vehicle",
         "NO SECOND VEHICLE",
         "NO THIRD VEHICLE",
         "NO FOURTH VEHICLE",
         "NO FIFTH VEHICLE"
        ],
        [
         "62",
         "2022-04-24 00:00:00",
         "15:35:00",
         "Manhattan",
         "10019.0",
         "40.767242",
         "-73.986206",
         "(40.767242, -73.986206)",
         "WEST 56 STREET",
         "9 AVENUE",
         "1",
         "0",
         "0",
         "0",
         "1",
         "0",
         "0",
         "0",
         "View Obstructed/Limited",
         "Unspecified",
         "NO THIRD VEHICLE",
         "NO FOURTH VEHICLE",
         "NO FIFTH VEHICLE",
         "4521853",
         "Station Wagon/Sport Utility Vehicle",
         "Bike",
         "NO THIRD VEHICLE",
         "NO FOURTH VEHICLE",
         "NO FIFTH VEHICLE"
        ],
        [
         "75",
         "2022-04-07 00:00:00",
         "14:14:00",
         "Manhattan",
         "10017.0",
         "40.748158",
         "-73.97033",
         "(40.748158, -73.97033)",
         "1 AVENUE",
         "EAST 41 STREET",
         "0",
         "0",
         "0",
         "0",
         "0",
         "0",
         "0",
         "0",
         "Driver Inattention/Distraction",
         "Passing or Lane Usage Improper",
         "NO THIRD VEHICLE",
         "NO FOURTH VEHICLE",
         "NO FIFTH VEHICLE",
         "4522242",
         "Sedan",
         "Station Wagon/Sport Utility Vehicle",
         "NO THIRD VEHICLE",
         "NO FOURTH VEHICLE",
         "NO FIFTH VEHICLE"
        ],
        [
         "82",
         "2021-12-08 00:00:00",
         "16:20:00",
         "Manhattan",
         "10128.0",
         "40.776237",
         "-73.943825",
         "(40.776237, -73.943825)",
         "EAST END AVENUE",
         "EAST 88 STREET",
         "0",
         "0",
         "0",
         "0",
         "0",
         "0",
         "0",
         "0",
         "Failure to Yield Right-of-Way",
         "Unspecified",
         "NO THIRD VEHICLE",
         "NO FOURTH VEHICLE",
         "NO FIFTH VEHICLE",
         "4485234",
         "Taxi",
         "Station Wagon/Sport Utility Vehicle",
         "NO THIRD VEHICLE",
         "NO FOURTH VEHICLE",
         "NO FIFTH VEHICLE"
        ]
       ],
       "shape": {
        "columns": 28,
        "rows": 5
       }
      },
      "text/html": [
       "<div>\n",
       "<style scoped>\n",
       "    .dataframe tbody tr th:only-of-type {\n",
       "        vertical-align: middle;\n",
       "    }\n",
       "\n",
       "    .dataframe tbody tr th {\n",
       "        vertical-align: top;\n",
       "    }\n",
       "\n",
       "    .dataframe thead th {\n",
       "        text-align: right;\n",
       "    }\n",
       "</style>\n",
       "<table border=\"1\" class=\"dataframe\">\n",
       "  <thead>\n",
       "    <tr style=\"text-align: right;\">\n",
       "      <th></th>\n",
       "      <th>CRASH DATE</th>\n",
       "      <th>CRASH TIME</th>\n",
       "      <th>BOROUGH</th>\n",
       "      <th>ZIP CODE</th>\n",
       "      <th>LATITUDE</th>\n",
       "      <th>LONGITUDE</th>\n",
       "      <th>LOCATION</th>\n",
       "      <th>ON STREET NAME</th>\n",
       "      <th>CROSS STREET NAME</th>\n",
       "      <th>NUMBER OF PERSONS INJURED</th>\n",
       "      <th>...</th>\n",
       "      <th>CONTRIBUTING FACTOR VEHICLE 2</th>\n",
       "      <th>CONTRIBUTING FACTOR VEHICLE 3</th>\n",
       "      <th>CONTRIBUTING FACTOR VEHICLE 4</th>\n",
       "      <th>CONTRIBUTING FACTOR VEHICLE 5</th>\n",
       "      <th>COLLISION_ID</th>\n",
       "      <th>VEHICLE TYPE CODE 1</th>\n",
       "      <th>VEHICLE TYPE CODE 2</th>\n",
       "      <th>VEHICLE TYPE CODE 3</th>\n",
       "      <th>VEHICLE TYPE CODE 4</th>\n",
       "      <th>VEHICLE TYPE CODE 5</th>\n",
       "    </tr>\n",
       "  </thead>\n",
       "  <tbody>\n",
       "    <tr>\n",
       "      <th>15</th>\n",
       "      <td>2021-12-14</td>\n",
       "      <td>14:58:00</td>\n",
       "      <td>Manhattan</td>\n",
       "      <td>10017.0</td>\n",
       "      <td>40.751440</td>\n",
       "      <td>-73.973970</td>\n",
       "      <td>(40.75144, -73.97397)</td>\n",
       "      <td>3 AVENUE</td>\n",
       "      <td>EAST 43 STREET</td>\n",
       "      <td>0</td>\n",
       "      <td>...</td>\n",
       "      <td>Unspecified</td>\n",
       "      <td>NO THIRD VEHICLE</td>\n",
       "      <td>NO FOURTH VEHICLE</td>\n",
       "      <td>NO FIFTH VEHICLE</td>\n",
       "      <td>4486519</td>\n",
       "      <td>Sedan</td>\n",
       "      <td>Station Wagon/Sport Utility Vehicle</td>\n",
       "      <td>NO THIRD VEHICLE</td>\n",
       "      <td>NO FOURTH VEHICLE</td>\n",
       "      <td>NO FIFTH VEHICLE</td>\n",
       "    </tr>\n",
       "    <tr>\n",
       "      <th>26</th>\n",
       "      <td>2021-12-11</td>\n",
       "      <td>04:45:00</td>\n",
       "      <td>Manhattan</td>\n",
       "      <td>10001.0</td>\n",
       "      <td>40.748917</td>\n",
       "      <td>-73.993546</td>\n",
       "      <td>(40.748917, -73.993546)</td>\n",
       "      <td>UNKNOWN</td>\n",
       "      <td>UNKNOWN</td>\n",
       "      <td>0</td>\n",
       "      <td>...</td>\n",
       "      <td>Unspecified</td>\n",
       "      <td>NO THIRD VEHICLE</td>\n",
       "      <td>NO FOURTH VEHICLE</td>\n",
       "      <td>NO FIFTH VEHICLE</td>\n",
       "      <td>4486905</td>\n",
       "      <td>Station Wagon/Sport Utility Vehicle</td>\n",
       "      <td>NO SECOND VEHICLE</td>\n",
       "      <td>NO THIRD VEHICLE</td>\n",
       "      <td>NO FOURTH VEHICLE</td>\n",
       "      <td>NO FIFTH VEHICLE</td>\n",
       "    </tr>\n",
       "    <tr>\n",
       "      <th>62</th>\n",
       "      <td>2022-04-24</td>\n",
       "      <td>15:35:00</td>\n",
       "      <td>Manhattan</td>\n",
       "      <td>10019.0</td>\n",
       "      <td>40.767242</td>\n",
       "      <td>-73.986206</td>\n",
       "      <td>(40.767242, -73.986206)</td>\n",
       "      <td>WEST 56 STREET</td>\n",
       "      <td>9 AVENUE</td>\n",
       "      <td>1</td>\n",
       "      <td>...</td>\n",
       "      <td>Unspecified</td>\n",
       "      <td>NO THIRD VEHICLE</td>\n",
       "      <td>NO FOURTH VEHICLE</td>\n",
       "      <td>NO FIFTH VEHICLE</td>\n",
       "      <td>4521853</td>\n",
       "      <td>Station Wagon/Sport Utility Vehicle</td>\n",
       "      <td>Bike</td>\n",
       "      <td>NO THIRD VEHICLE</td>\n",
       "      <td>NO FOURTH VEHICLE</td>\n",
       "      <td>NO FIFTH VEHICLE</td>\n",
       "    </tr>\n",
       "    <tr>\n",
       "      <th>75</th>\n",
       "      <td>2022-04-07</td>\n",
       "      <td>14:14:00</td>\n",
       "      <td>Manhattan</td>\n",
       "      <td>10017.0</td>\n",
       "      <td>40.748158</td>\n",
       "      <td>-73.970330</td>\n",
       "      <td>(40.748158, -73.97033)</td>\n",
       "      <td>1 AVENUE</td>\n",
       "      <td>EAST 41 STREET</td>\n",
       "      <td>0</td>\n",
       "      <td>...</td>\n",
       "      <td>Passing or Lane Usage Improper</td>\n",
       "      <td>NO THIRD VEHICLE</td>\n",
       "      <td>NO FOURTH VEHICLE</td>\n",
       "      <td>NO FIFTH VEHICLE</td>\n",
       "      <td>4522242</td>\n",
       "      <td>Sedan</td>\n",
       "      <td>Station Wagon/Sport Utility Vehicle</td>\n",
       "      <td>NO THIRD VEHICLE</td>\n",
       "      <td>NO FOURTH VEHICLE</td>\n",
       "      <td>NO FIFTH VEHICLE</td>\n",
       "    </tr>\n",
       "    <tr>\n",
       "      <th>82</th>\n",
       "      <td>2021-12-08</td>\n",
       "      <td>16:20:00</td>\n",
       "      <td>Manhattan</td>\n",
       "      <td>10128.0</td>\n",
       "      <td>40.776237</td>\n",
       "      <td>-73.943825</td>\n",
       "      <td>(40.776237, -73.943825)</td>\n",
       "      <td>EAST END AVENUE</td>\n",
       "      <td>EAST 88 STREET</td>\n",
       "      <td>0</td>\n",
       "      <td>...</td>\n",
       "      <td>Unspecified</td>\n",
       "      <td>NO THIRD VEHICLE</td>\n",
       "      <td>NO FOURTH VEHICLE</td>\n",
       "      <td>NO FIFTH VEHICLE</td>\n",
       "      <td>4485234</td>\n",
       "      <td>Taxi</td>\n",
       "      <td>Station Wagon/Sport Utility Vehicle</td>\n",
       "      <td>NO THIRD VEHICLE</td>\n",
       "      <td>NO FOURTH VEHICLE</td>\n",
       "      <td>NO FIFTH VEHICLE</td>\n",
       "    </tr>\n",
       "  </tbody>\n",
       "</table>\n",
       "<p>5 rows × 28 columns</p>\n",
       "</div>"
      ],
      "text/plain": [
       "   CRASH DATE CRASH TIME    BOROUGH ZIP CODE   LATITUDE  LONGITUDE  \\\n",
       "15 2021-12-14   14:58:00  Manhattan  10017.0  40.751440 -73.973970   \n",
       "26 2021-12-11   04:45:00  Manhattan  10001.0  40.748917 -73.993546   \n",
       "62 2022-04-24   15:35:00  Manhattan  10019.0  40.767242 -73.986206   \n",
       "75 2022-04-07   14:14:00  Manhattan  10017.0  40.748158 -73.970330   \n",
       "82 2021-12-08   16:20:00  Manhattan  10128.0  40.776237 -73.943825   \n",
       "\n",
       "                   LOCATION   ON STREET NAME CROSS STREET NAME  \\\n",
       "15    (40.75144, -73.97397)         3 AVENUE    EAST 43 STREET   \n",
       "26  (40.748917, -73.993546)          UNKNOWN           UNKNOWN   \n",
       "62  (40.767242, -73.986206)   WEST 56 STREET          9 AVENUE   \n",
       "75   (40.748158, -73.97033)         1 AVENUE    EAST 41 STREET   \n",
       "82  (40.776237, -73.943825)  EAST END AVENUE    EAST 88 STREET   \n",
       "\n",
       "    NUMBER OF PERSONS INJURED  ...   CONTRIBUTING FACTOR VEHICLE 2  \\\n",
       "15                          0  ...                     Unspecified   \n",
       "26                          0  ...                     Unspecified   \n",
       "62                          1  ...                     Unspecified   \n",
       "75                          0  ...  Passing or Lane Usage Improper   \n",
       "82                          0  ...                     Unspecified   \n",
       "\n",
       "    CONTRIBUTING FACTOR VEHICLE 3  CONTRIBUTING FACTOR VEHICLE 4  \\\n",
       "15               NO THIRD VEHICLE              NO FOURTH VEHICLE   \n",
       "26               NO THIRD VEHICLE              NO FOURTH VEHICLE   \n",
       "62               NO THIRD VEHICLE              NO FOURTH VEHICLE   \n",
       "75               NO THIRD VEHICLE              NO FOURTH VEHICLE   \n",
       "82               NO THIRD VEHICLE              NO FOURTH VEHICLE   \n",
       "\n",
       "    CONTRIBUTING FACTOR VEHICLE 5  COLLISION_ID  \\\n",
       "15               NO FIFTH VEHICLE       4486519   \n",
       "26               NO FIFTH VEHICLE       4486905   \n",
       "62               NO FIFTH VEHICLE       4521853   \n",
       "75               NO FIFTH VEHICLE       4522242   \n",
       "82               NO FIFTH VEHICLE       4485234   \n",
       "\n",
       "                    VEHICLE TYPE CODE 1                  VEHICLE TYPE CODE 2  \\\n",
       "15                                Sedan  Station Wagon/Sport Utility Vehicle   \n",
       "26  Station Wagon/Sport Utility Vehicle                    NO SECOND VEHICLE   \n",
       "62  Station Wagon/Sport Utility Vehicle                                 Bike   \n",
       "75                                Sedan  Station Wagon/Sport Utility Vehicle   \n",
       "82                                 Taxi  Station Wagon/Sport Utility Vehicle   \n",
       "\n",
       "   VEHICLE TYPE CODE 3 VEHICLE TYPE CODE 4 VEHICLE TYPE CODE 5  \n",
       "15    NO THIRD VEHICLE   NO FOURTH VEHICLE    NO FIFTH VEHICLE  \n",
       "26    NO THIRD VEHICLE   NO FOURTH VEHICLE    NO FIFTH VEHICLE  \n",
       "62    NO THIRD VEHICLE   NO FOURTH VEHICLE    NO FIFTH VEHICLE  \n",
       "75    NO THIRD VEHICLE   NO FOURTH VEHICLE    NO FIFTH VEHICLE  \n",
       "82    NO THIRD VEHICLE   NO FOURTH VEHICLE    NO FIFTH VEHICLE  \n",
       "\n",
       "[5 rows x 28 columns]"
      ]
     },
     "execution_count": 25,
     "metadata": {},
     "output_type": "execute_result"
    }
   ],
   "source": [
    "# filtering by borrow\n",
    "manhattan_accidents = new_df[new_df['BOROUGH'] == 'Manhattan']\n",
    "manhattan_accidents.head()"
   ]
  },
  {
   "cell_type": "code",
   "execution_count": 26,
   "id": "104026a1",
   "metadata": {},
   "outputs": [
    {
     "name": "stdout",
     "output_type": "stream",
     "text": [
      "<class 'pandas.core.frame.DataFrame'>\n",
      "Index: 334112 entries, 15 to 2196746\n",
      "Data columns (total 28 columns):\n",
      " #   Column                         Non-Null Count   Dtype         \n",
      "---  ------                         --------------   -----         \n",
      " 0   CRASH DATE                     334112 non-null  datetime64[ns]\n",
      " 1   CRASH TIME                     334112 non-null  object        \n",
      " 2   BOROUGH                        334112 non-null  object        \n",
      " 3   ZIP CODE                       334112 non-null  category      \n",
      " 4   LATITUDE                       334112 non-null  float64       \n",
      " 5   LONGITUDE                      334112 non-null  float64       \n",
      " 6   LOCATION                       334112 non-null  object        \n",
      " 7   ON STREET NAME                 334112 non-null  category      \n",
      " 8   CROSS STREET NAME              334112 non-null  category      \n",
      " 9   NUMBER OF PERSONS INJURED      334112 non-null  Int64         \n",
      " 10  NUMBER OF PERSONS KILLED       334112 non-null  Int64         \n",
      " 11  NUMBER OF PEDESTRIANS INJURED  334112 non-null  int64         \n",
      " 12  NUMBER OF PEDESTRIANS KILLED   334112 non-null  int64         \n",
      " 13  NUMBER OF CYCLIST INJURED      334112 non-null  int64         \n",
      " 14  NUMBER OF CYCLIST KILLED       334112 non-null  int64         \n",
      " 15  NUMBER OF MOTORIST INJURED     334112 non-null  int64         \n",
      " 16  NUMBER OF MOTORIST KILLED      334112 non-null  int64         \n",
      " 17  CONTRIBUTING FACTOR VEHICLE 1  334112 non-null  category      \n",
      " 18  CONTRIBUTING FACTOR VEHICLE 2  334112 non-null  category      \n",
      " 19  CONTRIBUTING FACTOR VEHICLE 3  334112 non-null  category      \n",
      " 20  CONTRIBUTING FACTOR VEHICLE 4  334112 non-null  category      \n",
      " 21  CONTRIBUTING FACTOR VEHICLE 5  334112 non-null  category      \n",
      " 22  COLLISION_ID                   334112 non-null  int64         \n",
      " 23  VEHICLE TYPE CODE 1            334112 non-null  category      \n",
      " 24  VEHICLE TYPE CODE 2            334112 non-null  category      \n",
      " 25  VEHICLE TYPE CODE 3            334112 non-null  category      \n",
      " 26  VEHICLE TYPE CODE 4            334112 non-null  category      \n",
      " 27  VEHICLE TYPE CODE 5            334112 non-null  category      \n",
      "dtypes: Int64(2), category(13), datetime64[ns](1), float64(2), int64(7), object(3)\n",
      "memory usage: 49.0+ MB\n"
     ]
    }
   ],
   "source": [
    "manhattan_accidents.info()"
   ]
  },
  {
   "cell_type": "code",
   "execution_count": 27,
   "id": "ad6af7be",
   "metadata": {},
   "outputs": [
    {
     "data": {
      "text/plain": [
       "'\\nManhattan is known for its high population density,extensive road network, and significant vehicular traffic,\\nso it is expected to have a high number of accidents.\\n'"
      ]
     },
     "execution_count": 27,
     "metadata": {},
     "output_type": "execute_result"
    }
   ],
   "source": [
    "\"\"\"\n",
    "Manhattan is known for its high population density,extensive road network, and significant vehicular traffic,\n",
    "so it is expected to have a high number of accidents.\n",
    "\"\"\""
   ]
  },
  {
   "cell_type": "markdown",
   "id": "417d7f22",
   "metadata": {},
   "source": [
    "## Grouping data"
   ]
  },
  {
   "cell_type": "code",
   "execution_count": 28,
   "id": "156f4d8c",
   "metadata": {},
   "outputs": [
    {
     "data": {
      "application/vnd.microsoft.datawrangler.viewer.v0+json": {
       "columns": [
        {
         "name": "BOROUGH",
         "rawType": "object",
         "type": "string"
        },
        {
         "name": "NUMBER OF PERSONS INJURED",
         "rawType": "Int64",
         "type": "integer"
        }
       ],
       "ref": "c252bd86-a970-4e7d-9a70-9faffc2f52d3",
       "rows": [
        [
         "Bronx",
         "75374"
        ],
        [
         "Brooklyn",
         "165614"
        ],
        [
         "Manhattan",
         "74077"
        ],
        [
         "Queens",
         "126533"
        ],
        [
         "Staten Island",
         "18755"
        ],
        [
         "Unknown",
         "241588"
        ]
       ],
       "shape": {
        "columns": 1,
        "rows": 6
       }
      },
      "text/plain": [
       "BOROUGH\n",
       "Bronx             75374\n",
       "Brooklyn         165614\n",
       "Manhattan         74077\n",
       "Queens           126533\n",
       "Staten Island     18755\n",
       "Unknown          241588\n",
       "Name: NUMBER OF PERSONS INJURED, dtype: Int64"
      ]
     },
     "execution_count": 28,
     "metadata": {},
     "output_type": "execute_result"
    }
   ],
   "source": [
    "# total injured by borough\n",
    "total_injured_by_borough = new_df.groupby('BOROUGH')['NUMBER OF PERSONS INJURED'].sum()\n",
    "total_injured_by_borough"
   ]
  },
  {
   "cell_type": "code",
   "execution_count": 29,
   "id": "626f2547",
   "metadata": {},
   "outputs": [
    {
     "data": {
      "application/vnd.microsoft.datawrangler.viewer.v0+json": {
       "columns": [
        {
         "name": "index",
         "rawType": "int64",
         "type": "integer"
        },
        {
         "name": "BOROUGH",
         "rawType": "object",
         "type": "string"
        },
        {
         "name": "NUMBER OF PERSONS INJURED",
         "rawType": "Int64",
         "type": "integer"
        }
       ],
       "ref": "b68acc97-c003-4dff-ade7-66b46e518e4a",
       "rows": [
        [
         "0",
         "Bronx",
         "75374"
        ],
        [
         "1",
         "Brooklyn",
         "165614"
        ],
        [
         "2",
         "Manhattan",
         "74077"
        ],
        [
         "3",
         "Queens",
         "126533"
        ],
        [
         "4",
         "Staten Island",
         "18755"
        ],
        [
         "5",
         "Unknown",
         "241588"
        ]
       ],
       "shape": {
        "columns": 2,
        "rows": 6
       }
      },
      "text/html": [
       "<div>\n",
       "<style scoped>\n",
       "    .dataframe tbody tr th:only-of-type {\n",
       "        vertical-align: middle;\n",
       "    }\n",
       "\n",
       "    .dataframe tbody tr th {\n",
       "        vertical-align: top;\n",
       "    }\n",
       "\n",
       "    .dataframe thead th {\n",
       "        text-align: right;\n",
       "    }\n",
       "</style>\n",
       "<table border=\"1\" class=\"dataframe\">\n",
       "  <thead>\n",
       "    <tr style=\"text-align: right;\">\n",
       "      <th></th>\n",
       "      <th>BOROUGH</th>\n",
       "      <th>NUMBER OF PERSONS INJURED</th>\n",
       "    </tr>\n",
       "  </thead>\n",
       "  <tbody>\n",
       "    <tr>\n",
       "      <th>0</th>\n",
       "      <td>Bronx</td>\n",
       "      <td>75374</td>\n",
       "    </tr>\n",
       "    <tr>\n",
       "      <th>1</th>\n",
       "      <td>Brooklyn</td>\n",
       "      <td>165614</td>\n",
       "    </tr>\n",
       "    <tr>\n",
       "      <th>2</th>\n",
       "      <td>Manhattan</td>\n",
       "      <td>74077</td>\n",
       "    </tr>\n",
       "    <tr>\n",
       "      <th>3</th>\n",
       "      <td>Queens</td>\n",
       "      <td>126533</td>\n",
       "    </tr>\n",
       "    <tr>\n",
       "      <th>4</th>\n",
       "      <td>Staten Island</td>\n",
       "      <td>18755</td>\n",
       "    </tr>\n",
       "    <tr>\n",
       "      <th>5</th>\n",
       "      <td>Unknown</td>\n",
       "      <td>241588</td>\n",
       "    </tr>\n",
       "  </tbody>\n",
       "</table>\n",
       "</div>"
      ],
      "text/plain": [
       "         BOROUGH  NUMBER OF PERSONS INJURED\n",
       "0          Bronx                      75374\n",
       "1       Brooklyn                     165614\n",
       "2      Manhattan                      74077\n",
       "3         Queens                     126533\n",
       "4  Staten Island                      18755\n",
       "5        Unknown                     241588"
      ]
     },
     "execution_count": 29,
     "metadata": {},
     "output_type": "execute_result"
    }
   ],
   "source": [
    "#  pivot table for inured by borough\n",
    "total_injured_by_borough_df = total_injured_by_borough.reset_index()\n",
    "total_injured_by_borough_df\n"
   ]
  },
  {
   "cell_type": "code",
   "execution_count": 30,
   "id": "19388fd9",
   "metadata": {},
   "outputs": [
    {
     "data": {
      "application/vnd.microsoft.datawrangler.viewer.v0+json": {
       "columns": [
        {
         "name": "CRASH DATE",
         "rawType": "int32",
         "type": "integer"
        },
        {
         "name": "count",
         "rawType": "int64",
         "type": "integer"
        }
       ],
       "ref": "d84c0b2e-5975-44e9-ac81-688c6c3887e9",
       "rows": [
        [
         "2012",
         "100540"
        ],
        [
         "2013",
         "203376"
        ],
        [
         "2014",
         "204820"
        ],
        [
         "2015",
         "216848"
        ],
        [
         "2016",
         "226584"
        ],
        [
         "2017",
         "229515"
        ],
        [
         "2018",
         "230017"
        ],
        [
         "2019",
         "209952"
        ],
        [
         "2020",
         "111734"
        ],
        [
         "2021",
         "109160"
        ],
        [
         "2022",
         "102308"
        ],
        [
         "2023",
         "94921"
        ],
        [
         "2024",
         "89603"
        ],
        [
         "2025",
         "48658"
        ]
       ],
       "shape": {
        "columns": 1,
        "rows": 14
       }
      },
      "text/plain": [
       "CRASH DATE\n",
       "2012    100540\n",
       "2013    203376\n",
       "2014    204820\n",
       "2015    216848\n",
       "2016    226584\n",
       "2017    229515\n",
       "2018    230017\n",
       "2019    209952\n",
       "2020    111734\n",
       "2021    109160\n",
       "2022    102308\n",
       "2023     94921\n",
       "2024     89603\n",
       "2025     48658\n",
       "Name: count, dtype: int64"
      ]
     },
     "execution_count": 30,
     "metadata": {},
     "output_type": "execute_result"
    }
   ],
   "source": [
    "collisions_per_year = new_df['CRASH DATE'].dt.year.value_counts().sort_index()\n",
    "collisions_per_year\n"
   ]
  },
  {
   "cell_type": "code",
   "execution_count": 31,
   "id": "72343a78",
   "metadata": {},
   "outputs": [
    {
     "data": {
      "application/vnd.microsoft.datawrangler.viewer.v0+json": {
       "columns": [
        {
         "name": "index",
         "rawType": "int64",
         "type": "integer"
        },
        {
         "name": "CRASH DATE",
         "rawType": "int32",
         "type": "integer"
        },
        {
         "name": "count",
         "rawType": "int64",
         "type": "integer"
        }
       ],
       "ref": "b98f7031-e33a-4a65-8d68-6d927fba0df5",
       "rows": [
        [
         "0",
         "2012",
         "100540"
        ],
        [
         "1",
         "2013",
         "203376"
        ],
        [
         "2",
         "2014",
         "204820"
        ],
        [
         "3",
         "2015",
         "216848"
        ],
        [
         "4",
         "2016",
         "226584"
        ],
        [
         "5",
         "2017",
         "229515"
        ],
        [
         "6",
         "2018",
         "230017"
        ],
        [
         "7",
         "2019",
         "209952"
        ],
        [
         "8",
         "2020",
         "111734"
        ],
        [
         "9",
         "2021",
         "109160"
        ],
        [
         "10",
         "2022",
         "102308"
        ],
        [
         "11",
         "2023",
         "94921"
        ],
        [
         "12",
         "2024",
         "89603"
        ],
        [
         "13",
         "2025",
         "48658"
        ]
       ],
       "shape": {
        "columns": 2,
        "rows": 14
       }
      },
      "text/html": [
       "<div>\n",
       "<style scoped>\n",
       "    .dataframe tbody tr th:only-of-type {\n",
       "        vertical-align: middle;\n",
       "    }\n",
       "\n",
       "    .dataframe tbody tr th {\n",
       "        vertical-align: top;\n",
       "    }\n",
       "\n",
       "    .dataframe thead th {\n",
       "        text-align: right;\n",
       "    }\n",
       "</style>\n",
       "<table border=\"1\" class=\"dataframe\">\n",
       "  <thead>\n",
       "    <tr style=\"text-align: right;\">\n",
       "      <th></th>\n",
       "      <th>CRASH DATE</th>\n",
       "      <th>count</th>\n",
       "    </tr>\n",
       "  </thead>\n",
       "  <tbody>\n",
       "    <tr>\n",
       "      <th>0</th>\n",
       "      <td>2012</td>\n",
       "      <td>100540</td>\n",
       "    </tr>\n",
       "    <tr>\n",
       "      <th>1</th>\n",
       "      <td>2013</td>\n",
       "      <td>203376</td>\n",
       "    </tr>\n",
       "    <tr>\n",
       "      <th>2</th>\n",
       "      <td>2014</td>\n",
       "      <td>204820</td>\n",
       "    </tr>\n",
       "    <tr>\n",
       "      <th>3</th>\n",
       "      <td>2015</td>\n",
       "      <td>216848</td>\n",
       "    </tr>\n",
       "    <tr>\n",
       "      <th>4</th>\n",
       "      <td>2016</td>\n",
       "      <td>226584</td>\n",
       "    </tr>\n",
       "    <tr>\n",
       "      <th>5</th>\n",
       "      <td>2017</td>\n",
       "      <td>229515</td>\n",
       "    </tr>\n",
       "    <tr>\n",
       "      <th>6</th>\n",
       "      <td>2018</td>\n",
       "      <td>230017</td>\n",
       "    </tr>\n",
       "    <tr>\n",
       "      <th>7</th>\n",
       "      <td>2019</td>\n",
       "      <td>209952</td>\n",
       "    </tr>\n",
       "    <tr>\n",
       "      <th>8</th>\n",
       "      <td>2020</td>\n",
       "      <td>111734</td>\n",
       "    </tr>\n",
       "    <tr>\n",
       "      <th>9</th>\n",
       "      <td>2021</td>\n",
       "      <td>109160</td>\n",
       "    </tr>\n",
       "    <tr>\n",
       "      <th>10</th>\n",
       "      <td>2022</td>\n",
       "      <td>102308</td>\n",
       "    </tr>\n",
       "    <tr>\n",
       "      <th>11</th>\n",
       "      <td>2023</td>\n",
       "      <td>94921</td>\n",
       "    </tr>\n",
       "    <tr>\n",
       "      <th>12</th>\n",
       "      <td>2024</td>\n",
       "      <td>89603</td>\n",
       "    </tr>\n",
       "    <tr>\n",
       "      <th>13</th>\n",
       "      <td>2025</td>\n",
       "      <td>48658</td>\n",
       "    </tr>\n",
       "  </tbody>\n",
       "</table>\n",
       "</div>"
      ],
      "text/plain": [
       "    CRASH DATE   count\n",
       "0         2012  100540\n",
       "1         2013  203376\n",
       "2         2014  204820\n",
       "3         2015  216848\n",
       "4         2016  226584\n",
       "5         2017  229515\n",
       "6         2018  230017\n",
       "7         2019  209952\n",
       "8         2020  111734\n",
       "9         2021  109160\n",
       "10        2022  102308\n",
       "11        2023   94921\n",
       "12        2024   89603\n",
       "13        2025   48658"
      ]
     },
     "execution_count": 31,
     "metadata": {},
     "output_type": "execute_result"
    }
   ],
   "source": [
    "collisions_per_year_df = collisions_per_year.reset_index()\n",
    "collisions_per_year_df"
   ]
  },
  {
   "cell_type": "markdown",
   "id": "cebf948b",
   "metadata": {},
   "source": [
    "## correlation matrix"
   ]
  },
  {
   "cell_type": "code",
   "execution_count": 32,
   "id": "281f259a",
   "metadata": {},
   "outputs": [
    {
     "data": {
      "application/vnd.microsoft.datawrangler.viewer.v0+json": {
       "columns": [
        {
         "name": "index",
         "rawType": "object",
         "type": "string"
        },
        {
         "name": "NUMBER OF PERSONS INJURED",
         "rawType": "float64",
         "type": "float"
        },
        {
         "name": "NUMBER OF PERSONS KILLED",
         "rawType": "float64",
         "type": "float"
        }
       ],
       "ref": "286e32d7-c7c8-41ec-9bff-c59cf708a75f",
       "rows": [
        [
         "NUMBER OF PERSONS INJURED",
         "1.0",
         "0.014533015169527194"
        ],
        [
         "NUMBER OF PERSONS KILLED",
         "0.014533015169527194",
         "1.0"
        ]
       ],
       "shape": {
        "columns": 2,
        "rows": 2
       }
      },
      "text/html": [
       "<div>\n",
       "<style scoped>\n",
       "    .dataframe tbody tr th:only-of-type {\n",
       "        vertical-align: middle;\n",
       "    }\n",
       "\n",
       "    .dataframe tbody tr th {\n",
       "        vertical-align: top;\n",
       "    }\n",
       "\n",
       "    .dataframe thead th {\n",
       "        text-align: right;\n",
       "    }\n",
       "</style>\n",
       "<table border=\"1\" class=\"dataframe\">\n",
       "  <thead>\n",
       "    <tr style=\"text-align: right;\">\n",
       "      <th></th>\n",
       "      <th>NUMBER OF PERSONS INJURED</th>\n",
       "      <th>NUMBER OF PERSONS KILLED</th>\n",
       "    </tr>\n",
       "  </thead>\n",
       "  <tbody>\n",
       "    <tr>\n",
       "      <th>NUMBER OF PERSONS INJURED</th>\n",
       "      <td>1.000000</td>\n",
       "      <td>0.014533</td>\n",
       "    </tr>\n",
       "    <tr>\n",
       "      <th>NUMBER OF PERSONS KILLED</th>\n",
       "      <td>0.014533</td>\n",
       "      <td>1.000000</td>\n",
       "    </tr>\n",
       "  </tbody>\n",
       "</table>\n",
       "</div>"
      ],
      "text/plain": [
       "                           NUMBER OF PERSONS INJURED  NUMBER OF PERSONS KILLED\n",
       "NUMBER OF PERSONS INJURED                   1.000000                  0.014533\n",
       "NUMBER OF PERSONS KILLED                    0.014533                  1.000000"
      ]
     },
     "execution_count": 32,
     "metadata": {},
     "output_type": "execute_result"
    }
   ],
   "source": [
    "correlation_matrix = new_df[['NUMBER OF PERSONS INJURED', 'NUMBER OF PERSONS KILLED']].corr()\n",
    "correlation_matrix"
   ]
  },
  {
   "cell_type": "code",
   "execution_count": 33,
   "id": "1b9346c7",
   "metadata": {},
   "outputs": [
    {
     "data": {
      "text/plain": [
       "array([[1.        , 0.01453302],\n",
       "       [0.01453302, 1.        ]])"
      ]
     },
     "execution_count": 33,
     "metadata": {},
     "output_type": "execute_result"
    }
   ],
   "source": [
    "# in numpy\n",
    "np.corrcoef(new_df['NUMBER OF PERSONS INJURED'], new_df['NUMBER OF PERSONS KILLED'])\n"
   ]
  },
  {
   "cell_type": "markdown",
   "id": "fbbd5ff1",
   "metadata": {},
   "source": [
    "## Statistical summaries"
   ]
  },
  {
   "cell_type": "code",
   "execution_count": 34,
   "id": "52e192a0",
   "metadata": {},
   "outputs": [
    {
     "data": {
      "application/vnd.microsoft.datawrangler.viewer.v0+json": {
       "columns": [
        {
         "name": "index",
         "rawType": "object",
         "type": "string"
        },
        {
         "name": "CRASH DATE",
         "rawType": "object",
         "type": "unknown"
        },
        {
         "name": "LATITUDE",
         "rawType": "float64",
         "type": "float"
        },
        {
         "name": "LONGITUDE",
         "rawType": "float64",
         "type": "float"
        },
        {
         "name": "NUMBER OF PERSONS INJURED",
         "rawType": "Float64",
         "type": "float"
        },
        {
         "name": "NUMBER OF PERSONS KILLED",
         "rawType": "Float64",
         "type": "float"
        },
        {
         "name": "NUMBER OF PEDESTRIANS INJURED",
         "rawType": "float64",
         "type": "float"
        },
        {
         "name": "NUMBER OF PEDESTRIANS KILLED",
         "rawType": "float64",
         "type": "float"
        },
        {
         "name": "NUMBER OF CYCLIST INJURED",
         "rawType": "float64",
         "type": "float"
        },
        {
         "name": "NUMBER OF CYCLIST KILLED",
         "rawType": "float64",
         "type": "float"
        },
        {
         "name": "NUMBER OF MOTORIST INJURED",
         "rawType": "float64",
         "type": "float"
        },
        {
         "name": "NUMBER OF MOTORIST KILLED",
         "rawType": "float64",
         "type": "float"
        },
        {
         "name": "COLLISION_ID",
         "rawType": "float64",
         "type": "float"
        }
       ],
       "ref": "51f241b4-7bbd-4ae5-87eb-75531f80bff8",
       "rows": [
        [
         "count",
         "2178036",
         "2178036.0",
         "2178036.0",
         "2178036.0",
         "2178036.0",
         "2178036.0",
         "2178036.0",
         "2178036.0",
         "2178036.0",
         "2178036.0",
         "2178036.0",
         "2178036.0"
        ],
        [
         "mean",
         "2017-12-08 15:39:07.736400640",
         "36.15472561609542",
         "-65.632288948846",
         "0.3222816335450837",
         "0.0015518568104475777",
         "0.05453169736404724",
         "0.0007580223651032398",
         "0.028886115748316375",
         "0.00012442402237612234",
         "0.23458611336084437",
         "0.0006423217981704619",
         "3243378.883770516"
        ],
        [
         "min",
         "2012-07-01 00:00:00",
         "0.0",
         "-201.35999",
         "0.0",
         "0.0",
         "0.0",
         "0.0",
         "0.0",
         "0.0",
         "0.0",
         "0.0",
         "22.0"
        ],
        [
         "25%",
         "2015-03-06 00:00:00",
         "40.6398915",
         "-73.9673331",
         "0.0",
         "0.0",
         "0.0",
         "0.0",
         "0.0",
         "0.0",
         "0.0",
         "0.0",
         "3182328.75"
        ],
        [
         "50%",
         "2017-08-09 00:00:00",
         "40.7074373",
         "-73.914604",
         "0.0",
         "0.0",
         "0.0",
         "0.0",
         "0.0",
         "0.0",
         "0.0",
         "0.0",
         "3731674.5"
        ],
        [
         "75%",
         "2020-01-27 00:00:00",
         "40.76301",
         "-73.830622625",
         "0.0",
         "0.0",
         "0.0",
         "0.0",
         "0.0",
         "0.0",
         "0.0",
         "0.0",
         "4280379.25"
        ],
        [
         "max",
         "2025-08-05 00:00:00",
         "43.344444",
         "0.0",
         "43.0",
         "8.0",
         "27.0",
         "6.0",
         "4.0",
         "2.0",
         "43.0",
         "5.0",
         "4833511.0"
        ],
        [
         "std",
         null,
         "12.853067707752821",
         "23.34932695147489",
         "0.712720099208848",
         "0.041608466955299496",
         "0.24035780187558567",
         "0.028164875494972357",
         "0.16969240008027925",
         "0.011194947835864283",
         "0.6758296907082952",
         "0.02767443704315728",
         "1510861.3777173546"
        ]
       ],
       "shape": {
        "columns": 12,
        "rows": 8
       }
      },
      "text/html": [
       "<div>\n",
       "<style scoped>\n",
       "    .dataframe tbody tr th:only-of-type {\n",
       "        vertical-align: middle;\n",
       "    }\n",
       "\n",
       "    .dataframe tbody tr th {\n",
       "        vertical-align: top;\n",
       "    }\n",
       "\n",
       "    .dataframe thead th {\n",
       "        text-align: right;\n",
       "    }\n",
       "</style>\n",
       "<table border=\"1\" class=\"dataframe\">\n",
       "  <thead>\n",
       "    <tr style=\"text-align: right;\">\n",
       "      <th></th>\n",
       "      <th>CRASH DATE</th>\n",
       "      <th>LATITUDE</th>\n",
       "      <th>LONGITUDE</th>\n",
       "      <th>NUMBER OF PERSONS INJURED</th>\n",
       "      <th>NUMBER OF PERSONS KILLED</th>\n",
       "      <th>NUMBER OF PEDESTRIANS INJURED</th>\n",
       "      <th>NUMBER OF PEDESTRIANS KILLED</th>\n",
       "      <th>NUMBER OF CYCLIST INJURED</th>\n",
       "      <th>NUMBER OF CYCLIST KILLED</th>\n",
       "      <th>NUMBER OF MOTORIST INJURED</th>\n",
       "      <th>NUMBER OF MOTORIST KILLED</th>\n",
       "      <th>COLLISION_ID</th>\n",
       "    </tr>\n",
       "  </thead>\n",
       "  <tbody>\n",
       "    <tr>\n",
       "      <th>count</th>\n",
       "      <td>2178036</td>\n",
       "      <td>2.178036e+06</td>\n",
       "      <td>2.178036e+06</td>\n",
       "      <td>2178036.0</td>\n",
       "      <td>2178036.0</td>\n",
       "      <td>2.178036e+06</td>\n",
       "      <td>2.178036e+06</td>\n",
       "      <td>2.178036e+06</td>\n",
       "      <td>2.178036e+06</td>\n",
       "      <td>2.178036e+06</td>\n",
       "      <td>2.178036e+06</td>\n",
       "      <td>2.178036e+06</td>\n",
       "    </tr>\n",
       "    <tr>\n",
       "      <th>mean</th>\n",
       "      <td>2017-12-08 15:39:07.736400640</td>\n",
       "      <td>3.615473e+01</td>\n",
       "      <td>-6.563229e+01</td>\n",
       "      <td>0.322282</td>\n",
       "      <td>0.001552</td>\n",
       "      <td>5.453170e-02</td>\n",
       "      <td>7.580224e-04</td>\n",
       "      <td>2.888612e-02</td>\n",
       "      <td>1.244240e-04</td>\n",
       "      <td>2.345861e-01</td>\n",
       "      <td>6.423218e-04</td>\n",
       "      <td>3.243379e+06</td>\n",
       "    </tr>\n",
       "    <tr>\n",
       "      <th>min</th>\n",
       "      <td>2012-07-01 00:00:00</td>\n",
       "      <td>0.000000e+00</td>\n",
       "      <td>-2.013600e+02</td>\n",
       "      <td>0.0</td>\n",
       "      <td>0.0</td>\n",
       "      <td>0.000000e+00</td>\n",
       "      <td>0.000000e+00</td>\n",
       "      <td>0.000000e+00</td>\n",
       "      <td>0.000000e+00</td>\n",
       "      <td>0.000000e+00</td>\n",
       "      <td>0.000000e+00</td>\n",
       "      <td>2.200000e+01</td>\n",
       "    </tr>\n",
       "    <tr>\n",
       "      <th>25%</th>\n",
       "      <td>2015-03-06 00:00:00</td>\n",
       "      <td>4.063989e+01</td>\n",
       "      <td>-7.396733e+01</td>\n",
       "      <td>0.0</td>\n",
       "      <td>0.0</td>\n",
       "      <td>0.000000e+00</td>\n",
       "      <td>0.000000e+00</td>\n",
       "      <td>0.000000e+00</td>\n",
       "      <td>0.000000e+00</td>\n",
       "      <td>0.000000e+00</td>\n",
       "      <td>0.000000e+00</td>\n",
       "      <td>3.182329e+06</td>\n",
       "    </tr>\n",
       "    <tr>\n",
       "      <th>50%</th>\n",
       "      <td>2017-08-09 00:00:00</td>\n",
       "      <td>4.070744e+01</td>\n",
       "      <td>-7.391460e+01</td>\n",
       "      <td>0.0</td>\n",
       "      <td>0.0</td>\n",
       "      <td>0.000000e+00</td>\n",
       "      <td>0.000000e+00</td>\n",
       "      <td>0.000000e+00</td>\n",
       "      <td>0.000000e+00</td>\n",
       "      <td>0.000000e+00</td>\n",
       "      <td>0.000000e+00</td>\n",
       "      <td>3.731674e+06</td>\n",
       "    </tr>\n",
       "    <tr>\n",
       "      <th>75%</th>\n",
       "      <td>2020-01-27 00:00:00</td>\n",
       "      <td>4.076301e+01</td>\n",
       "      <td>-7.383062e+01</td>\n",
       "      <td>0.0</td>\n",
       "      <td>0.0</td>\n",
       "      <td>0.000000e+00</td>\n",
       "      <td>0.000000e+00</td>\n",
       "      <td>0.000000e+00</td>\n",
       "      <td>0.000000e+00</td>\n",
       "      <td>0.000000e+00</td>\n",
       "      <td>0.000000e+00</td>\n",
       "      <td>4.280379e+06</td>\n",
       "    </tr>\n",
       "    <tr>\n",
       "      <th>max</th>\n",
       "      <td>2025-08-05 00:00:00</td>\n",
       "      <td>4.334444e+01</td>\n",
       "      <td>0.000000e+00</td>\n",
       "      <td>43.0</td>\n",
       "      <td>8.0</td>\n",
       "      <td>2.700000e+01</td>\n",
       "      <td>6.000000e+00</td>\n",
       "      <td>4.000000e+00</td>\n",
       "      <td>2.000000e+00</td>\n",
       "      <td>4.300000e+01</td>\n",
       "      <td>5.000000e+00</td>\n",
       "      <td>4.833511e+06</td>\n",
       "    </tr>\n",
       "    <tr>\n",
       "      <th>std</th>\n",
       "      <td>NaN</td>\n",
       "      <td>1.285307e+01</td>\n",
       "      <td>2.334933e+01</td>\n",
       "      <td>0.71272</td>\n",
       "      <td>0.041608</td>\n",
       "      <td>2.403578e-01</td>\n",
       "      <td>2.816488e-02</td>\n",
       "      <td>1.696924e-01</td>\n",
       "      <td>1.119495e-02</td>\n",
       "      <td>6.758297e-01</td>\n",
       "      <td>2.767444e-02</td>\n",
       "      <td>1.510861e+06</td>\n",
       "    </tr>\n",
       "  </tbody>\n",
       "</table>\n",
       "</div>"
      ],
      "text/plain": [
       "                          CRASH DATE      LATITUDE     LONGITUDE  \\\n",
       "count                        2178036  2.178036e+06  2.178036e+06   \n",
       "mean   2017-12-08 15:39:07.736400640  3.615473e+01 -6.563229e+01   \n",
       "min              2012-07-01 00:00:00  0.000000e+00 -2.013600e+02   \n",
       "25%              2015-03-06 00:00:00  4.063989e+01 -7.396733e+01   \n",
       "50%              2017-08-09 00:00:00  4.070744e+01 -7.391460e+01   \n",
       "75%              2020-01-27 00:00:00  4.076301e+01 -7.383062e+01   \n",
       "max              2025-08-05 00:00:00  4.334444e+01  0.000000e+00   \n",
       "std                              NaN  1.285307e+01  2.334933e+01   \n",
       "\n",
       "       NUMBER OF PERSONS INJURED  NUMBER OF PERSONS KILLED  \\\n",
       "count                  2178036.0                 2178036.0   \n",
       "mean                    0.322282                  0.001552   \n",
       "min                          0.0                       0.0   \n",
       "25%                          0.0                       0.0   \n",
       "50%                          0.0                       0.0   \n",
       "75%                          0.0                       0.0   \n",
       "max                         43.0                       8.0   \n",
       "std                      0.71272                  0.041608   \n",
       "\n",
       "       NUMBER OF PEDESTRIANS INJURED  NUMBER OF PEDESTRIANS KILLED  \\\n",
       "count                   2.178036e+06                  2.178036e+06   \n",
       "mean                    5.453170e-02                  7.580224e-04   \n",
       "min                     0.000000e+00                  0.000000e+00   \n",
       "25%                     0.000000e+00                  0.000000e+00   \n",
       "50%                     0.000000e+00                  0.000000e+00   \n",
       "75%                     0.000000e+00                  0.000000e+00   \n",
       "max                     2.700000e+01                  6.000000e+00   \n",
       "std                     2.403578e-01                  2.816488e-02   \n",
       "\n",
       "       NUMBER OF CYCLIST INJURED  NUMBER OF CYCLIST KILLED  \\\n",
       "count               2.178036e+06              2.178036e+06   \n",
       "mean                2.888612e-02              1.244240e-04   \n",
       "min                 0.000000e+00              0.000000e+00   \n",
       "25%                 0.000000e+00              0.000000e+00   \n",
       "50%                 0.000000e+00              0.000000e+00   \n",
       "75%                 0.000000e+00              0.000000e+00   \n",
       "max                 4.000000e+00              2.000000e+00   \n",
       "std                 1.696924e-01              1.119495e-02   \n",
       "\n",
       "       NUMBER OF MOTORIST INJURED  NUMBER OF MOTORIST KILLED  COLLISION_ID  \n",
       "count                2.178036e+06               2.178036e+06  2.178036e+06  \n",
       "mean                 2.345861e-01               6.423218e-04  3.243379e+06  \n",
       "min                  0.000000e+00               0.000000e+00  2.200000e+01  \n",
       "25%                  0.000000e+00               0.000000e+00  3.182329e+06  \n",
       "50%                  0.000000e+00               0.000000e+00  3.731674e+06  \n",
       "75%                  0.000000e+00               0.000000e+00  4.280379e+06  \n",
       "max                  4.300000e+01               5.000000e+00  4.833511e+06  \n",
       "std                  6.758297e-01               2.767444e-02  1.510861e+06  "
      ]
     },
     "execution_count": 34,
     "metadata": {},
     "output_type": "execute_result"
    }
   ],
   "source": [
    "# for numerical columns\n",
    "new_df.describe()"
   ]
  },
  {
   "cell_type": "code",
   "execution_count": 35,
   "id": "b4a5b5e3",
   "metadata": {},
   "outputs": [
    {
     "data": {
      "application/vnd.microsoft.datawrangler.viewer.v0+json": {
       "columns": [
        {
         "name": "CONTRIBUTING FACTOR VEHICLE 1",
         "rawType": "category",
         "type": "unknown"
        },
        {
         "name": "count",
         "rawType": "int64",
         "type": "integer"
        }
       ],
       "ref": "42b97039-a568-484b-a270-2ecfac2ef82a",
       "rows": [
        [
         "Unspecified",
         "734133"
        ],
        [
         "Driver Inattention/Distraction",
         "442058"
        ],
        [
         "Failure to Yield Right-of-Way",
         "129497"
        ],
        [
         "Following Too Closely",
         "117740"
        ],
        [
         "Backing Unsafely",
         "79769"
        ]
       ],
       "shape": {
        "columns": 1,
        "rows": 5
       }
      },
      "text/plain": [
       "CONTRIBUTING FACTOR VEHICLE 1\n",
       "Unspecified                       734133\n",
       "Driver Inattention/Distraction    442058\n",
       "Failure to Yield Right-of-Way     129497\n",
       "Following Too Closely             117740\n",
       "Backing Unsafely                   79769\n",
       "Name: count, dtype: int64"
      ]
     },
     "execution_count": 35,
     "metadata": {},
     "output_type": "execute_result"
    }
   ],
   "source": [
    "# Top contributing factors\n",
    "new_df['CONTRIBUTING FACTOR VEHICLE 1'].value_counts().head()\n"
   ]
  },
  {
   "cell_type": "code",
   "execution_count": 36,
   "id": "9b8c1136",
   "metadata": {},
   "outputs": [
    {
     "data": {
      "text/plain": [
       "np.float64(23.667652876261)"
      ]
     },
     "execution_count": 36,
     "metadata": {},
     "output_type": "execute_result"
    }
   ],
   "source": [
    "# percentage of crashes with injuries\n",
    "percentage_with_injuries = (new_df['NUMBER OF PERSONS INJURED'] > 0).mean() * 100\n",
    "percentage_with_injuries"
   ]
  },
  {
   "cell_type": "markdown",
   "id": "0278aecc",
   "metadata": {},
   "source": [
    "## Exporting Raw and Cleaned Data"
   ]
  },
  {
   "cell_type": "code",
   "execution_count": 37,
   "id": "0d5dc4bd",
   "metadata": {},
   "outputs": [],
   "source": [
    "# raw dataframe to json\n",
    "df.to_json('collisions_raw.json', orient='records', lines=True)"
   ]
  },
  {
   "cell_type": "code",
   "execution_count": null,
   "id": "8f8a1f2d",
   "metadata": {},
   "outputs": [],
   "source": [
    "# exporting cleaned dataframe to json\n",
    "new_df.to_json('motor_cleaned.json', orient='records', lines=True)\n"
   ]
  },
  {
   "cell_type": "code",
   "execution_count": null,
   "id": "36be24b4",
   "metadata": {},
   "outputs": [],
   "source": [
    "# there was an error here so I fixed it by converting categorical columns to string\n",
    "# cleaned dataframe to parquet\n",
    "\n",
    "categorical_columns = ['BOROUGH', 'ZIP CODE', 'ON STREET NAME', 'CROSS STREET NAME',\n",
    "                      'CONTRIBUTING FACTOR VEHICLE 1', 'CONTRIBUTING FACTOR VEHICLE 2',\n",
    "                      'CONTRIBUTING FACTOR VEHICLE 3', 'CONTRIBUTING FACTOR VEHICLE 4',\n",
    "                      'CONTRIBUTING FACTOR VEHICLE 5', 'VEHICLE TYPE CODE 1',\n",
    "                      'VEHICLE TYPE CODE 2', 'VEHICLE TYPE CODE 3', 'VEHICLE TYPE CODE 4',\n",
    "                      'VEHICLE TYPE CODE 5']\n",
    "\n",
    "export_df = new_df.copy()\n",
    "for col in categorical_columns:\n",
    "    export_df[col] = export_df[col].astype(str)\n",
    "\n",
    "export_df.to_parquet('collisions_cleaned.parquet')"
   ]
  },
  {
   "cell_type": "code",
   "execution_count": null,
   "id": "108d5897",
   "metadata": {},
   "outputs": [],
   "source": [
    "# raw dataframe to parquet\n",
    "\n",
    "parquet_df = df.copy()\n",
    "for col in categorical_columns:\n",
    "    parquet_df[col] = parquet_df[col].astype(str)\n",
    "parquet_df.to_parquet('collisions_raw.parquet')"
   ]
  }
 ],
 "metadata": {
  "kernelspec": {
   "display_name": ".venv",
   "language": "python",
   "name": "python3"
  },
  "language_info": {
   "codemirror_mode": {
    "name": "ipython",
    "version": 3
   },
   "file_extension": ".py",
   "mimetype": "text/x-python",
   "name": "python",
   "nbconvert_exporter": "python",
   "pygments_lexer": "ipython3",
   "version": "3.11.4"
  }
 },
 "nbformat": 4,
 "nbformat_minor": 5
}
